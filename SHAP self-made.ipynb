{
 "cells": [
  {
   "cell_type": "code",
   "execution_count": 1,
   "id": "a872613a",
   "metadata": {},
   "outputs": [
    {
     "name": "stderr",
     "output_type": "stream",
     "text": [
      "/home/users/t_wand01/.local/lib/python3.7/site-packages/tensorflow/python/framework/dtypes.py:516: FutureWarning: Passing (type, 1) or '1type' as a synonym of type is deprecated; in a future version of numpy, it will be understood as (type, (1,)) / '(1,)type'.\n",
      "  _np_qint8 = np.dtype([(\"qint8\", np.int8, 1)])\n",
      "/home/users/t_wand01/.local/lib/python3.7/site-packages/tensorflow/python/framework/dtypes.py:517: FutureWarning: Passing (type, 1) or '1type' as a synonym of type is deprecated; in a future version of numpy, it will be understood as (type, (1,)) / '(1,)type'.\n",
      "  _np_quint8 = np.dtype([(\"quint8\", np.uint8, 1)])\n",
      "/home/users/t_wand01/.local/lib/python3.7/site-packages/tensorflow/python/framework/dtypes.py:518: FutureWarning: Passing (type, 1) or '1type' as a synonym of type is deprecated; in a future version of numpy, it will be understood as (type, (1,)) / '(1,)type'.\n",
      "  _np_qint16 = np.dtype([(\"qint16\", np.int16, 1)])\n",
      "/home/users/t_wand01/.local/lib/python3.7/site-packages/tensorflow/python/framework/dtypes.py:519: FutureWarning: Passing (type, 1) or '1type' as a synonym of type is deprecated; in a future version of numpy, it will be understood as (type, (1,)) / '(1,)type'.\n",
      "  _np_quint16 = np.dtype([(\"quint16\", np.uint16, 1)])\n",
      "/home/users/t_wand01/.local/lib/python3.7/site-packages/tensorflow/python/framework/dtypes.py:520: FutureWarning: Passing (type, 1) or '1type' as a synonym of type is deprecated; in a future version of numpy, it will be understood as (type, (1,)) / '(1,)type'.\n",
      "  _np_qint32 = np.dtype([(\"qint32\", np.int32, 1)])\n",
      "/home/users/t_wand01/.local/lib/python3.7/site-packages/tensorflow/python/framework/dtypes.py:525: FutureWarning: Passing (type, 1) or '1type' as a synonym of type is deprecated; in a future version of numpy, it will be understood as (type, (1,)) / '(1,)type'.\n",
      "  np_resource = np.dtype([(\"resource\", np.ubyte, 1)])\n",
      "/home/users/t_wand01/.local/lib/python3.7/site-packages/tensorboard/compat/tensorflow_stub/dtypes.py:541: FutureWarning: Passing (type, 1) or '1type' as a synonym of type is deprecated; in a future version of numpy, it will be understood as (type, (1,)) / '(1,)type'.\n",
      "  _np_qint8 = np.dtype([(\"qint8\", np.int8, 1)])\n",
      "/home/users/t_wand01/.local/lib/python3.7/site-packages/tensorboard/compat/tensorflow_stub/dtypes.py:542: FutureWarning: Passing (type, 1) or '1type' as a synonym of type is deprecated; in a future version of numpy, it will be understood as (type, (1,)) / '(1,)type'.\n",
      "  _np_quint8 = np.dtype([(\"quint8\", np.uint8, 1)])\n",
      "/home/users/t_wand01/.local/lib/python3.7/site-packages/tensorboard/compat/tensorflow_stub/dtypes.py:543: FutureWarning: Passing (type, 1) or '1type' as a synonym of type is deprecated; in a future version of numpy, it will be understood as (type, (1,)) / '(1,)type'.\n",
      "  _np_qint16 = np.dtype([(\"qint16\", np.int16, 1)])\n",
      "/home/users/t_wand01/.local/lib/python3.7/site-packages/tensorboard/compat/tensorflow_stub/dtypes.py:544: FutureWarning: Passing (type, 1) or '1type' as a synonym of type is deprecated; in a future version of numpy, it will be understood as (type, (1,)) / '(1,)type'.\n",
      "  _np_quint16 = np.dtype([(\"quint16\", np.uint16, 1)])\n",
      "/home/users/t_wand01/.local/lib/python3.7/site-packages/tensorboard/compat/tensorflow_stub/dtypes.py:545: FutureWarning: Passing (type, 1) or '1type' as a synonym of type is deprecated; in a future version of numpy, it will be understood as (type, (1,)) / '(1,)type'.\n",
      "  _np_qint32 = np.dtype([(\"qint32\", np.int32, 1)])\n",
      "/home/users/t_wand01/.local/lib/python3.7/site-packages/tensorboard/compat/tensorflow_stub/dtypes.py:550: FutureWarning: Passing (type, 1) or '1type' as a synonym of type is deprecated; in a future version of numpy, it will be understood as (type, (1,)) / '(1,)type'.\n",
      "  np_resource = np.dtype([(\"resource\", np.ubyte, 1)])\n"
     ]
    }
   ],
   "source": [
    "import matplotlib.pyplot as plt\n",
    "import numpy as np\n",
    "import sklearn\n",
    "from sklearn.linear_model import LinearRegression\n",
    "from tensorflow import keras \n",
    "import random\n",
    "import shap\n",
    "random.seed(1234)"
   ]
  },
  {
   "cell_type": "code",
   "execution_count": 2,
   "id": "3dfcc762",
   "metadata": {},
   "outputs": [],
   "source": [
    "# Our data is a fairly simple linear Model which is binarized for the Neural Net (second example)\n",
    "\n",
    "xsize = 1000\n",
    "X = np.random.rand(xsize,10)\n",
    "# only X[:,0], X[:,4], X[:,1] and X[:,2] are relevant and their relevance is in that order\n",
    "y = 5.*X[:,0] - 1. * X[:,1] - 0.5*X[:,2] - 4.*X[:,4] + 0.2*np.random.normal(size=xsize) \n",
    "yNN = (y> np.mean(y))*1\n",
    "\n"
   ]
  },
  {
   "cell_type": "code",
   "execution_count": 3,
   "id": "d94d50ff",
   "metadata": {},
   "outputs": [
    {
     "name": "stdout",
     "output_type": "stream",
     "text": [
      "[0.57587524 0.56480405 0.6171897  0.91577584 0.87570756 0.9586376\n",
      " 0.56066034 0.65012475 0.76804022 0.02647688]\n",
      "-1.2938901938360623\n"
     ]
    }
   ],
   "source": [
    "print(X[1,:])\n",
    "print(y[1])"
   ]
  },
  {
   "cell_type": "code",
   "execution_count": 4,
   "id": "94fd5101",
   "metadata": {},
   "outputs": [],
   "source": [
    "reg = LinearRegression().fit(X,y)"
   ]
  },
  {
   "cell_type": "code",
   "execution_count": 5,
   "id": "08393fcc",
   "metadata": {},
   "outputs": [
    {
     "name": "stdout",
     "output_type": "stream",
     "text": [
      "[ 5.03210046e+00 -1.00166615e+00 -4.82469916e-01  1.88041036e-02\n",
      " -3.99680430e+00 -4.57412719e-03  9.57479982e-04 -1.09429971e-02\n",
      "  2.18354439e-02  4.46516136e-02]\n"
     ]
    }
   ],
   "source": [
    "print(reg.coef_)  # Seems alright!"
   ]
  },
  {
   "cell_type": "markdown",
   "id": "c3ff4bf7",
   "metadata": {},
   "source": [
    "## Let's try to code SHAP for ourselves"
   ]
  },
  {
   "cell_type": "code",
   "execution_count": 6,
   "id": "2b7305f9",
   "metadata": {},
   "outputs": [],
   "source": [
    "p = X.shape[1] # Number of Features\n",
    "n = 100 # Sample size"
   ]
  },
  {
   "cell_type": "markdown",
   "id": "f55e43bf",
   "metadata": {},
   "source": [
    "We wish to sample from an extreme Beta-Distribution so that we get either very few or very many features. The first case shows the isolatd effect of a feature, the latter the interaction of a feature with all other ones."
   ]
  },
  {
   "cell_type": "code",
   "execution_count": 7,
   "id": "31d8841b",
   "metadata": {},
   "outputs": [
    {
     "data": {
      "image/png": "[encoded data removed]",
      "text/plain": [
       "<Figure size 432x288 with 1 Axes>"
      ]
     },
     "metadata": {
      "needs_background": "light"
     },
     "output_type": "display_data"
    }
   ],
   "source": [
    "sample = np.random.beta(0.2, 0.2,1000)\n",
    "sample = sample*X.shape[1]+1\n",
    "sample = np.floor(sample).astype(int)\n",
    "plt.hist(sample)\n",
    "plt.show()"
   ]
  },
  {
   "cell_type": "code",
   "execution_count": 8,
   "id": "44c05cf7",
   "metadata": {},
   "outputs": [
    {
     "name": "stdout",
     "output_type": "stream",
     "text": [
      "[3 0 7]\n",
      "[3 0 7]\n",
      "[10  1  2 10  4  5  6 10  8  9]\n"
     ]
    }
   ],
   "source": [
    "sel = np.random.choice(np.arange(p), size=3, replace=False)\n",
    "print(sel)\n",
    "r = np.arange(X.shape[1])\n",
    "print(r[sel])\n",
    "r[sel] = X.shape[1]\n",
    "print(r)\n"
   ]
  },
  {
   "cell_type": "code",
   "execution_count": 9,
   "id": "c38fa0c8",
   "metadata": {},
   "outputs": [],
   "source": [
    "def ChooseK(P):# P is integer of Feature number\n",
    "    K =np.random.beta(0.2, 0.2,1)\n",
    "    K = int(P*K+1)\n",
    "    if K==P+1: # some degenerate cases\n",
    "        K = K-1\n",
    "    return(K)"
   ]
  },
  {
   "cell_type": "code",
   "execution_count": 10,
   "id": "c37e0274",
   "metadata": {},
   "outputs": [
    {
     "data": {
      "text/plain": [
       "1"
      ]
     },
     "execution_count": 10,
     "metadata": {},
     "output_type": "execute_result"
    }
   ],
   "source": [
    "ChooseK(X.shape[1])"
   ]
  },
  {
   "cell_type": "code",
   "execution_count": 11,
   "id": "24238ca8",
   "metadata": {},
   "outputs": [
    {
     "data": {
      "image/png": "[encoded data removed]",
      "text/plain": [
       "<Figure size 432x288 with 1 Axes>"
      ]
     },
     "metadata": {
      "needs_background": "light"
     },
     "output_type": "display_data"
    },
    {
     "name": "stdout",
     "output_type": "stream",
     "text": [
      "1.0 10.0\n",
      "[ 6.  1.  1. ...  1. 10. 10.]\n"
     ]
    }
   ],
   "source": [
    "ks = np.empty(5000)\n",
    "for ll in range(5000):\n",
    "    ks[ll] =ChooseK(X.shape[1])\n",
    "plt.hist(ks)\n",
    "plt.show()\n",
    "print(min(ks),max(ks))\n",
    "print(ks)"
   ]
  },
  {
   "cell_type": "code",
   "execution_count": 12,
   "id": "c1853d05",
   "metadata": {},
   "outputs": [],
   "source": [
    "def SwapFeatures(i,m,j,k):\n",
    "    # take instance x_i, exchange k of its features randomly with the features of x_m including the jth Feature\n",
    "    output = X[i,:].copy()\n",
    "    \n",
    "    if k == 1: # only change jth Feature\n",
    "        output[j] = X[m,j].copy()\n",
    "    \n",
    "    else:\n",
    "        Selection = np.random.choice(np.arange(X.shape[1]), size=k, replace=False)\n",
    "        while (np.sum(Selection==j) ==0): # Make sure that j is included in selection\n",
    "            Selection = np.random.choice(np.arange(X.shape[1]), size=k, replace=False)\n",
    "        \n",
    "        output[Selection] = X[m,Selection].copy()\n",
    "    \n",
    "    return(output)\n",
    "        \n",
    "        "
   ]
  },
  {
   "cell_type": "code",
   "execution_count": 13,
   "id": "02cb8068",
   "metadata": {},
   "outputs": [
    {
     "name": "stdout",
     "output_type": "stream",
     "text": [
      "[[0.6548584  0.62452711 0.05623634 0.64520465 0.76198791 0.50511374\n",
      "  0.62436509 0.15458074 0.77137547 0.50833434]\n",
      " [0.57587524 0.56480405 0.6171897  0.91577584 0.87570756 0.9586376\n",
      "  0.56066034 0.65012475 0.76804022 0.02647688]\n",
      " [0.56441316 0.53510248 0.4902244  0.82769487 0.02714765 0.49926048\n",
      "  0.56489094 0.66447874 0.87025362 0.42430187]\n",
      " [0.26356092 0.91702752 0.90971355 0.43094405 0.31963381 0.11386571\n",
      "  0.64526955 0.48146997 0.22782705 0.75028685]]\n",
      "[0.26356092 0.53510248 0.4902244  0.82769487 0.31963381 0.49926048\n",
      " 0.56489094 0.66447874 0.87025362 0.42430187]\n"
     ]
    }
   ],
   "source": [
    "print(X[np.arange(4),:])\n",
    "print(SwapFeatures(2,3,0,2)) # the instance X[2,:] gets 2 features from X[3,:], including X[:,0]"
   ]
  },
  {
   "cell_type": "code",
   "execution_count": 14,
   "id": "2a55e4b6",
   "metadata": {},
   "outputs": [],
   "source": [
    "def Compare(x_j, x_noj, Model):\n",
    "    return(Model.predict(x_j.reshape(1, -1)) - Model.predict(x_noj.reshape(1, -1)))"
   ]
  },
  {
   "cell_type": "code",
   "execution_count": 15,
   "id": "bb301bf8",
   "metadata": {},
   "outputs": [
    {
     "data": {
      "text/plain": [
       "array([-17.47943852])"
      ]
     },
     "execution_count": 15,
     "metadata": {},
     "output_type": "execute_result"
    }
   ],
   "source": [
    "reg.predict(np.arange(X.shape[1]).reshape(1, -1))"
   ]
  },
  {
   "cell_type": "code",
   "execution_count": 16,
   "id": "2b187f84",
   "metadata": {},
   "outputs": [],
   "source": [
    "def CalcShap(X,i,j,M,Model):\n",
    "    # Calculate Shap values for DataSet X for ith instance and jth feature with M iterations for AI-Model \"Model\"\n",
    "    M_iter = 0 # iteration index\n",
    "    SHAPValues = np.empty(M)\n",
    "    \n",
    "    while M_iter<M:\n",
    "        m = np.random.randint(X.shape[0]) # random instance to \"mix\" x_i with\n",
    "    \n",
    "        if m!=i:\n",
    "            k = ChooseK(X.shape[1])\n",
    "            \n",
    "            x_dummy_noj = SwapFeatures(i,m,j,k) # sample from random other instance\n",
    "            x_dummy_j = x_dummy_noj.copy()\n",
    "            x_dummy_j[j] = X[i,j].copy()  # compare with j and without j\n",
    "        \n",
    "            SHAPValues[M_iter] = Compare(x_dummy_j,x_dummy_noj, Model=reg)\n",
    "        \n",
    "            M_iter = M_iter+1\n",
    "            \n",
    "    return(np.mean(SHAPValues))\n"
   ]
  },
  {
   "cell_type": "code",
   "execution_count": 17,
   "id": "3f7dba9b",
   "metadata": {},
   "outputs": [],
   "source": [
    "def FeatureImportance(X,j,M1,M2,Model):\n",
    "    # Calculate Feature Importancec over M1 instances for j'th Feature of Data Set X,\n",
    "    #   compare each instance M2 times and evaluate via Model\n",
    "    \n",
    "    Output = np.empty(M1)\n",
    "    \n",
    "    for m1 in range(M1):\n",
    "        i = np.random.randint(X.shape[0])\n",
    "        Output[m1] = np.abs(CalcShap(X,i,j,M2,Model))\n",
    "        \n",
    "    return(np.mean(Output))\n",
    "        "
   ]
  },
  {
   "cell_type": "code",
   "execution_count": 18,
   "id": "9743ece1",
   "metadata": {},
   "outputs": [],
   "source": [
    "# Just for the ith instance\n",
    "SHAPValues_i = np.empty(X.shape[1])\n",
    "for index in range(X.shape[1]):\n",
    "    SHAPValues_i[index] = CalcShap(X, i=0, j = index, M = 1000, Model=reg)"
   ]
  },
  {
   "cell_type": "code",
   "execution_count": 19,
   "id": "18f9d771",
   "metadata": {},
   "outputs": [
    {
     "name": "stdout",
     "output_type": "stream",
     "text": [
      "0 1.3532737268801\n",
      "1 0.2531441569426944\n",
      "2 0.11012463357821706\n",
      "3 0.004514833853148605\n",
      "4 1.0495183491088091\n",
      "5 0.0010916906673497755\n",
      "6 0.00026269925065219933\n",
      "7 0.0029420112630933457\n",
      "8 0.00582315608919601\n",
      "9 0.010528751904932023\n"
     ]
    }
   ],
   "source": [
    "# For the entire Data Set\n",
    "SHAP_Importance = np.empty(X.shape[1])\n",
    "for Jf in range(X.shape[1]):\n",
    "    SHAP_Importance[Jf] = FeatureImportance(X,Jf,100,100,reg)\n",
    "    print(Jf, SHAP_Importance[Jf])"
   ]
  },
  {
   "cell_type": "markdown",
   "id": "a59e5564",
   "metadata": {},
   "source": [
    "## Sanity Checks\n",
    "\n",
    "We can reproduce the coefficients of the linear model with the SHAP values"
   ]
  },
  {
   "cell_type": "code",
   "execution_count": 20,
   "id": "35f0a087",
   "metadata": {},
   "outputs": [
    {
     "data": {
      "text/plain": [
       "array([ 7.75278268e-01, -1.16324537e-01,  2.11584802e-01,  2.31647856e-03,\n",
       "       -1.04800528e+00, -2.37438577e-05,  1.07575805e-04,  3.62386726e-03,\n",
       "        6.61150813e-03,  2.91681876e-04])"
      ]
     },
     "execution_count": 20,
     "metadata": {},
     "output_type": "execute_result"
    }
   ],
   "source": [
    "SHAPValues_i"
   ]
  },
  {
   "cell_type": "code",
   "execution_count": 21,
   "id": "27585c0f",
   "metadata": {},
   "outputs": [
    {
     "name": "stdout",
     "output_type": "stream",
     "text": [
      "4.901988476789127\n",
      "-1.0722274778425613\n",
      "-0.48287180898832904\n",
      "0.01827811388515518\n",
      "-4.007197834126097\n",
      "-0.003801389287367128\n",
      "0.0008546526826318826\n",
      "-0.010714800350906472\n",
      "0.023687017183605285\n",
      "0.02118369385586507\n"
     ]
    }
   ],
   "source": [
    "for index in range(X.shape[1]):\n",
    "    print(SHAPValues_i[index]/ (X[0,index]-np.mean(X[:,index])))"
   ]
  },
  {
   "cell_type": "markdown",
   "id": "de224f0e",
   "metadata": {},
   "source": [
    "Very close to the real linear coefficients!"
   ]
  },
  {
   "cell_type": "code",
   "execution_count": 22,
   "id": "f567913a",
   "metadata": {},
   "outputs": [
    {
     "data": {
      "text/plain": [
       "array([1.35327373e+00, 2.53144157e-01, 1.10124634e-01, 4.51483385e-03,\n",
       "       1.04951835e+00, 1.09169067e-03, 2.62699251e-04, 2.94201126e-03,\n",
       "       5.82315609e-03, 1.05287519e-02])"
      ]
     },
     "execution_count": 22,
     "metadata": {},
     "output_type": "execute_result"
    }
   ],
   "source": [
    "SHAP_Importance"
   ]
  },
  {
   "cell_type": "code",
   "execution_count": 23,
   "id": "0205a737",
   "metadata": {},
   "outputs": [
    {
     "name": "stdout",
     "output_type": "stream",
     "text": [
      "5.344577866699006\n",
      "1.0127422679090574\n",
      "0.4365253029014579\n",
      "0.018080097974481298\n",
      "4.17753492358219\n",
      "0.004427809439256544\n",
      "0.0010453134913014374\n",
      "0.01184204482856433\n",
      "0.022594222279287385\n",
      "0.041368528328397845\n"
     ]
    }
   ],
   "source": [
    "for a in range(X.shape[1]):\n",
    "    print(SHAP_Importance[a]/np.mean(np.abs(X[:,a]-np.mean(X[:,a]))))"
   ]
  },
  {
   "cell_type": "markdown",
   "id": "e76454e2",
   "metadata": {},
   "source": [
    "##### These are reasonably close to the absolute values of the linear model!"
   ]
  },
  {
   "cell_type": "markdown",
   "id": "84741282",
   "metadata": {},
   "source": [
    "## Now with a Neural Net"
   ]
  },
  {
   "cell_type": "code",
   "execution_count": 24,
   "id": "5ec7128b",
   "metadata": {},
   "outputs": [
    {
     "name": "stdout",
     "output_type": "stream",
     "text": [
      "WARNING:tensorflow:From /home/users/t_wand01/.local/lib/python3.7/site-packages/tensorflow/python/ops/init_ops.py:1251: calling VarianceScaling.__init__ (from tensorflow.python.ops.init_ops) with dtype is deprecated and will be removed in a future version.\n",
      "Instructions for updating:\n",
      "Call initializer instance with the dtype argument instead of passing it to the constructor\n",
      "WARNING:tensorflow:From /home/users/t_wand01/.local/lib/python3.7/site-packages/tensorflow/python/ops/nn_impl.py:180: add_dispatch_support.<locals>.wrapper (from tensorflow.python.ops.array_ops) is deprecated and will be removed in a future version.\n",
      "Instructions for updating:\n",
      "Use tf.where in 2.0, which has the same broadcast rule as np.where\n",
      "Epoch 1/50\n",
      "50/50 [==============================] - 0s 1ms/sample - loss: 0.6874 - acc: 0.5000\n",
      "Epoch 2/50\n",
      "50/50 [==============================] - 0s 68us/sample - loss: 0.6835 - acc: 0.5600\n",
      "Epoch 3/50\n",
      "50/50 [==============================] - 0s 58us/sample - loss: 0.6817 - acc: 0.5800\n",
      "Epoch 4/50\n",
      "50/50 [==============================] - 0s 53us/sample - loss: 0.6780 - acc: 0.6200\n",
      "Epoch 5/50\n",
      "50/50 [==============================] - 0s 55us/sample - loss: 0.6756 - acc: 0.6400\n",
      "Epoch 6/50\n",
      "50/50 [==============================] - 0s 59us/sample - loss: 0.6725 - acc: 0.6400\n",
      "Epoch 7/50\n",
      "50/50 [==============================] - 0s 68us/sample - loss: 0.6699 - acc: 0.6400\n",
      "Epoch 8/50\n",
      "50/50 [==============================] - 0s 56us/sample - loss: 0.6667 - acc: 0.6800\n",
      "Epoch 9/50\n",
      "50/50 [==============================] - 0s 55us/sample - loss: 0.6637 - acc: 0.6800\n",
      "Epoch 10/50\n",
      "50/50 [==============================] - 0s 56us/sample - loss: 0.6605 - acc: 0.6600\n",
      "Epoch 11/50\n",
      "50/50 [==============================] - 0s 57us/sample - loss: 0.6573 - acc: 0.6800\n",
      "Epoch 12/50\n",
      "50/50 [==============================] - 0s 55us/sample - loss: 0.6542 - acc: 0.6800\n",
      "Epoch 13/50\n",
      "50/50 [==============================] - 0s 53us/sample - loss: 0.6512 - acc: 0.6800\n",
      "Epoch 14/50\n",
      "50/50 [==============================] - 0s 54us/sample - loss: 0.6483 - acc: 0.7000\n",
      "Epoch 15/50\n",
      "50/50 [==============================] - 0s 60us/sample - loss: 0.6455 - acc: 0.7000\n",
      "Epoch 16/50\n",
      "50/50 [==============================] - 0s 59us/sample - loss: 0.6430 - acc: 0.7400\n",
      "Epoch 17/50\n",
      "50/50 [==============================] - 0s 56us/sample - loss: 0.6410 - acc: 0.7400\n",
      "Epoch 18/50\n",
      "50/50 [==============================] - 0s 57us/sample - loss: 0.6377 - acc: 0.7400\n",
      "Epoch 19/50\n",
      "50/50 [==============================] - 0s 56us/sample - loss: 0.6355 - acc: 0.7400\n",
      "Epoch 20/50\n",
      "50/50 [==============================] - 0s 58us/sample - loss: 0.6323 - acc: 0.7400\n",
      "Epoch 21/50\n",
      "50/50 [==============================] - 0s 56us/sample - loss: 0.6308 - acc: 0.7400\n",
      "Epoch 22/50\n",
      "50/50 [==============================] - 0s 52us/sample - loss: 0.6276 - acc: 0.7400\n",
      "Epoch 23/50\n",
      "50/50 [==============================] - 0s 52us/sample - loss: 0.6276 - acc: 0.7400\n",
      "Epoch 24/50\n",
      "10/50 [=====>........................] - ETA: 0s - loss: 0.6080 - acc: 0.8000"
     ]
    },
    {
     "name": "stderr",
     "output_type": "stream",
     "text": [
      "2021-10-26 15:49:45.944002: I tensorflow/core/platform/cpu_feature_guard.cc:142] Your CPU supports instructions that this TensorFlow binary was not compiled to use: AVX2 FMA\n",
      "2021-10-26 15:49:45.947111: I tensorflow/core/platform/profile_utils/cpu_utils.cc:94] CPU Frequency: 3299990000 Hz\n",
      "2021-10-26 15:49:45.947628: I tensorflow/compiler/xla/service/service.cc:168] XLA service 0x3605400 executing computations on platform Host. Devices:\n",
      "2021-10-26 15:49:45.947638: I tensorflow/compiler/xla/service/service.cc:175]   StreamExecutor device (0): <undefined>, <undefined>\n",
      "2021-10-26 15:49:45.968223: W tensorflow/compiler/jit/mark_for_compilation_pass.cc:1412] (One-time warning): Not using XLA:CPU for cluster because envvar TF_XLA_FLAGS=--tf_xla_cpu_global_jit was not set.  If you want XLA:CPU, either set that envvar, or use experimental_jit_scope to enable XLA:CPU.  To confirm that XLA is active, pass --vmodule=xla_compilation_cache=1 (as a proper command-line flag, not via TF_XLA_FLAGS) or set the envvar XLA_FLAGS=--xla_hlo_profile.\n"
     ]
    },
    {
     "name": "stdout",
     "output_type": "stream",
     "text": [
      "50/50 [==============================] - 0s 71us/sample - loss: 0.6235 - acc: 0.7600\n",
      "Epoch 25/50\n",
      "50/50 [==============================] - 0s 53us/sample - loss: 0.6209 - acc: 0.7600\n",
      "Epoch 26/50\n",
      "50/50 [==============================] - 0s 52us/sample - loss: 0.6181 - acc: 0.7600\n",
      "Epoch 27/50\n",
      "50/50 [==============================] - 0s 50us/sample - loss: 0.6159 - acc: 0.7600\n",
      "Epoch 28/50\n",
      "50/50 [==============================] - 0s 52us/sample - loss: 0.6137 - acc: 0.7600\n",
      "Epoch 29/50\n",
      "50/50 [==============================] - 0s 57us/sample - loss: 0.6107 - acc: 0.7600\n",
      "Epoch 30/50\n",
      "50/50 [==============================] - 0s 54us/sample - loss: 0.6084 - acc: 0.7600\n",
      "Epoch 31/50\n",
      "50/50 [==============================] - 0s 52us/sample - loss: 0.6060 - acc: 0.7600\n",
      "Epoch 32/50\n",
      "50/50 [==============================] - 0s 53us/sample - loss: 0.6035 - acc: 0.7600\n",
      "Epoch 33/50\n",
      "50/50 [==============================] - 0s 57us/sample - loss: 0.6007 - acc: 0.7600\n",
      "Epoch 34/50\n",
      "50/50 [==============================] - 0s 53us/sample - loss: 0.5981 - acc: 0.7600\n",
      "Epoch 35/50\n",
      "50/50 [==============================] - 0s 53us/sample - loss: 0.5960 - acc: 0.7800\n",
      "Epoch 36/50\n",
      "50/50 [==============================] - 0s 50us/sample - loss: 0.5925 - acc: 0.7800\n",
      "Epoch 37/50\n",
      "50/50 [==============================] - 0s 55us/sample - loss: 0.5897 - acc: 0.7800\n",
      "Epoch 38/50\n",
      "50/50 [==============================] - 0s 56us/sample - loss: 0.5879 - acc: 0.7800\n",
      "Epoch 39/50\n",
      "50/50 [==============================] - 0s 49us/sample - loss: 0.5839 - acc: 0.7800\n",
      "Epoch 40/50\n",
      "50/50 [==============================] - 0s 49us/sample - loss: 0.5825 - acc: 0.7800\n",
      "Epoch 41/50\n",
      "50/50 [==============================] - 0s 48us/sample - loss: 0.5783 - acc: 0.7800\n",
      "Epoch 42/50\n",
      "50/50 [==============================] - 0s 52us/sample - loss: 0.5746 - acc: 0.7800\n",
      "Epoch 43/50\n",
      "50/50 [==============================] - 0s 50us/sample - loss: 0.5712 - acc: 0.7800\n",
      "Epoch 44/50\n",
      "50/50 [==============================] - 0s 53us/sample - loss: 0.5676 - acc: 0.7800\n",
      "Epoch 45/50\n",
      "50/50 [==============================] - 0s 49us/sample - loss: 0.5647 - acc: 0.7800\n",
      "Epoch 46/50\n",
      "50/50 [==============================] - 0s 52us/sample - loss: 0.5608 - acc: 0.8000\n",
      "Epoch 47/50\n",
      "50/50 [==============================] - 0s 62us/sample - loss: 0.5588 - acc: 0.8200\n",
      "Epoch 48/50\n",
      "50/50 [==============================] - 0s 58us/sample - loss: 0.5542 - acc: 0.8200\n",
      "Epoch 49/50\n",
      "50/50 [==============================] - 0s 54us/sample - loss: 0.5507 - acc: 0.8200\n",
      "Epoch 50/50\n",
      "50/50 [==============================] - 0s 53us/sample - loss: 0.5470 - acc: 0.8200\n",
      "950/950 [==============================] - 0s 21us/sample - loss: 0.5663 - acc: 0.7453\n",
      "Accuracy: 74.53\n"
     ]
    }
   ],
   "source": [
    "# define the keras model\n",
    "NN = keras.models.Sequential()\n",
    "NN.add(keras.layers.Dense(12, input_dim=X.shape[1], activation='relu'))\n",
    "NN.add(keras.layers.Dense(8, activation='relu'))\n",
    "NN.add(keras.layers.Dense(1, activation='sigmoid'))\n",
    "# compile the keras model\n",
    "NN.compile(loss='binary_crossentropy', optimizer='adam', metrics=['accuracy'])\n",
    "# fit the keras model on the dataset\n",
    "NN.fit(X[0:50,:],yNN[0:50], epochs=50, batch_size=10)\n",
    "# evaluate the keras model\n",
    "_, accuracy = NN.evaluate(X[50:,:], yNN[50:])\n",
    "print('Accuracy: %.2f' % (accuracy*100))"
   ]
  },
  {
   "cell_type": "code",
   "execution_count": 25,
   "id": "ff3e6775",
   "metadata": {},
   "outputs": [
    {
     "name": "stdout",
     "output_type": "stream",
     "text": [
      "[[0.6289245 ]\n",
      " [0.36166906]\n",
      " [0.75957596]\n",
      " [0.6108831 ]\n",
      " [0.3714633 ]\n",
      " [0.7427145 ]\n",
      " [0.29408666]\n",
      " [0.40903446]\n",
      " [0.36803323]\n",
      " [0.5293021 ]\n",
      " [0.39614862]\n",
      " [0.38034365]\n",
      " [0.35106367]\n",
      " [0.53203297]\n",
      " [0.33880973]\n",
      " [0.5608228 ]\n",
      " [0.6380323 ]\n",
      " [0.47932437]\n",
      " [0.27983335]\n",
      " [0.6843995 ]]\n",
      "[1 0 1 0 0 1 0 1 0 1 0 0 0 0 1 1 1 0 0 1]\n"
     ]
    }
   ],
   "source": [
    "print(NN.predict(X[40:60,:]))\n",
    "print(yNN[40:60])"
   ]
  },
  {
   "cell_type": "markdown",
   "id": "d8de285b",
   "metadata": {},
   "source": [
    "#### Now with SHAP"
   ]
  },
  {
   "cell_type": "code",
   "execution_count": 26,
   "id": "16d75621",
   "metadata": {},
   "outputs": [
    {
     "name": "stdout",
     "output_type": "stream",
     "text": [
      "0 1.1685723149730352\n",
      "1 0.22992151455699272\n",
      "2 0.12826896261372864\n",
      "3 0.004392042141537076\n",
      "4 0.9537738997195153\n",
      "5 0.0011022159449261913\n",
      "6 0.00023558360151216534\n",
      "7 0.002578695152316603\n",
      "8 0.005923354275094959\n",
      "9 0.013190511162871033\n"
     ]
    }
   ],
   "source": [
    "SHAP_Importance_NN = np.empty(X.shape[1])\n",
    "for Jf in range(X.shape[1]):\n",
    "    SHAP_Importance_NN[Jf] = FeatureImportance(X,Jf,100,100,NN)\n",
    "    print(Jf, SHAP_Importance_NN[Jf])"
   ]
  },
  {
   "cell_type": "markdown",
   "id": "3fc86795",
   "metadata": {},
   "source": [
    "Ranking makes sense! Importances are similar to the linear Regression case."
   ]
  },
  {
   "cell_type": "code",
   "execution_count": null,
   "id": "fa540e78",
   "metadata": {},
   "outputs": [],
   "source": []
  }
 ],
 "metadata": {
  "kernelspec": {
   "display_name": "Python 3 (ipykernel)",
   "language": "python",
   "name": "python3"
  },
  "language_info": {
   "codemirror_mode": {
    "name": "ipython",
    "version": 3
   },
   "file_extension": ".py",
   "mimetype": "text/x-python",
   "name": "python",
   "nbconvert_exporter": "python",
   "pygments_lexer": "ipython3",
   "version": "3.7.3"
  }
 },
 "nbformat": 4,
 "nbformat_minor": 5
}

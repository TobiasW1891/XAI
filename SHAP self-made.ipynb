{
 "cells": [
  {
   "cell_type": "code",
   "execution_count": 2,
   "id": "842eda63",
   "metadata": {},
   "outputs": [
    {
     "ename": "ModuleNotFoundError",
     "evalue": "No module named 'tensorflow'",
     "output_type": "error",
     "traceback": [
      "\u001b[0;31m---------------------------------------------------------------------------\u001b[0m",
      "\u001b[0;31mModuleNotFoundError\u001b[0m                       Traceback (most recent call last)",
      "\u001b[0;32m/tmp/ipykernel_167441/952437165.py\u001b[0m in \u001b[0;36m<module>\u001b[0;34m\u001b[0m\n\u001b[1;32m      1\u001b[0m \u001b[0;31m# first neural network with keras tutorial\u001b[0m\u001b[0;34m\u001b[0m\u001b[0;34m\u001b[0m\u001b[0;34m\u001b[0m\u001b[0m\n\u001b[1;32m      2\u001b[0m \u001b[0;32mfrom\u001b[0m \u001b[0mnumpy\u001b[0m \u001b[0;32mimport\u001b[0m \u001b[0mloadtxt\u001b[0m\u001b[0;34m\u001b[0m\u001b[0;34m\u001b[0m\u001b[0m\n\u001b[0;32m----> 3\u001b[0;31m \u001b[0;32mfrom\u001b[0m \u001b[0mkeras\u001b[0m\u001b[0;34m.\u001b[0m\u001b[0mmodels\u001b[0m \u001b[0;32mimport\u001b[0m \u001b[0mSequential\u001b[0m\u001b[0;34m\u001b[0m\u001b[0;34m\u001b[0m\u001b[0m\n\u001b[0m\u001b[1;32m      4\u001b[0m \u001b[0;32mfrom\u001b[0m \u001b[0mkeras\u001b[0m\u001b[0;34m.\u001b[0m\u001b[0mlayers\u001b[0m \u001b[0;32mimport\u001b[0m \u001b[0mDense\u001b[0m\u001b[0;34m\u001b[0m\u001b[0;34m\u001b[0m\u001b[0m\n\u001b[1;32m      5\u001b[0m \u001b[0;31m# load the dataset\u001b[0m\u001b[0;34m\u001b[0m\u001b[0;34m\u001b[0m\u001b[0;34m\u001b[0m\u001b[0m\n",
      "\u001b[0;32m~/.local/lib/python3.7/site-packages/keras/__init__.py\u001b[0m in \u001b[0;36m<module>\u001b[0;34m\u001b[0m\n\u001b[1;32m     19\u001b[0m \"\"\"\n\u001b[1;32m     20\u001b[0m \u001b[0;31m# pylint: disable=unused-import\u001b[0m\u001b[0;34m\u001b[0m\u001b[0;34m\u001b[0m\u001b[0;34m\u001b[0m\u001b[0m\n\u001b[0;32m---> 21\u001b[0;31m \u001b[0;32mfrom\u001b[0m \u001b[0mtensorflow\u001b[0m\u001b[0;34m.\u001b[0m\u001b[0mpython\u001b[0m \u001b[0;32mimport\u001b[0m \u001b[0mtf2\u001b[0m\u001b[0;34m\u001b[0m\u001b[0;34m\u001b[0m\u001b[0m\n\u001b[0m\u001b[1;32m     22\u001b[0m \u001b[0;32mfrom\u001b[0m \u001b[0mkeras\u001b[0m \u001b[0;32mimport\u001b[0m \u001b[0mdistribute\u001b[0m\u001b[0;34m\u001b[0m\u001b[0;34m\u001b[0m\u001b[0m\n\u001b[1;32m     23\u001b[0m \u001b[0;34m\u001b[0m\u001b[0m\n",
      "\u001b[0;31mModuleNotFoundError\u001b[0m: No module named 'tensorflow'"
     ]
    }
   ],
   "source": [
    "\n",
    "# first neural network with keras tutorial\n",
    "from numpy import loadtxt\n",
    "from keras.models import Sequential\n",
    "from keras.layers import Dense\n",
    "# load the dataset\n",
    "dataset = loadtxt('pima-indians-diabetes.csv', delimiter=',')\n",
    "# split into input (X) and output (y) variables\n",
    "X = dataset[:,0:8]\n",
    "y = dataset[:,8]\n",
    "# define the keras model\n",
    "model = Sequential()\n",
    "model.add(Dense(12, input_dim=8, activation='relu'))\n",
    "model.add(Dense(8, activation='relu'))\n",
    "model.add(Dense(1, activation='sigmoid'))\n",
    "# compile the keras model\n",
    "model.compile(loss='binary_crossentropy', optimizer='adam', metrics=['accuracy'])\n",
    "# fit the keras model on the dataset\n",
    "model.fit(X, y, epochs=150, batch_size=10)\n",
    "# evaluate the keras model\n",
    "_, accuracy = model.evaluate(X, y)\n",
    "print('Accuracy: %.2f' % (accuracy*100))"
   ]
  },
  {
   "cell_type": "code",
   "execution_count": 23,
   "id": "59f432b3",
   "metadata": {},
   "outputs": [],
   "source": [
    "import matplotlib.pyplot as plt"
   ]
  },
  {
   "cell_type": "code",
   "execution_count": 64,
   "id": "132c5a04",
   "metadata": {},
   "outputs": [],
   "source": [
    "import numpy as np\n",
    "X = np.random.rand(100,5)\n",
    "y = 5.*X[:,0] - 1. * X[:,1] - 0.5*X[:,2] - 4.*X[:,4] + 0.1*np.random.normal(size=100) # X[:,3] irrelevant\n",
    "\n"
   ]
  },
  {
   "cell_type": "code",
   "execution_count": 65,
   "id": "0510bcd0",
   "metadata": {},
   "outputs": [
    {
     "name": "stdout",
     "output_type": "stream",
     "text": [
      "[0.76021499 0.21920234 0.65010611 0.19466757 0.57580883]\n",
      "1.0060665340696962\n"
     ]
    }
   ],
   "source": [
    "print(X[1,:])\n",
    "print(y[1])"
   ]
  },
  {
   "cell_type": "code",
   "execution_count": 66,
   "id": "2d1c1f48",
   "metadata": {},
   "outputs": [],
   "source": [
    "import sklearn\n",
    "from sklearn.linear_model import LinearRegression\n",
    "reg = LinearRegression().fit(X,y)"
   ]
  },
  {
   "cell_type": "code",
   "execution_count": 67,
   "id": "e83a76b6",
   "metadata": {},
   "outputs": [
    {
     "name": "stdout",
     "output_type": "stream",
     "text": [
      "[ 5.03334427 -1.04851283 -0.51884616 -0.03196574 -4.03251539]\n"
     ]
    }
   ],
   "source": [
    "print(reg.coef_)  # Seems alright!"
   ]
  },
  {
   "cell_type": "code",
   "execution_count": null,
   "id": "32bd7767",
   "metadata": {},
   "outputs": [],
   "source": []
  },
  {
   "cell_type": "markdown",
   "id": "fdfa6095",
   "metadata": {},
   "source": [
    "## Let's try to code SHAP for ourselves"
   ]
  },
  {
   "cell_type": "code",
   "execution_count": 101,
   "id": "5b2734d8",
   "metadata": {},
   "outputs": [],
   "source": [
    "p = 5 # Number of Features\n",
    "n = 100 # Sample size\n",
    "i = 10 # We want to analyze the ith instance \n",
    "j = 0 #  we want to study the jth Feature's importance on x_i\n",
    "M = 100000 # number of iterations"
   ]
  },
  {
   "cell_type": "code",
   "execution_count": 37,
   "id": "e887e5e6",
   "metadata": {},
   "outputs": [
    {
     "data": {
      "image/png": "[encoded data removed]",
      "text/plain": [
       "<Figure size 432x288 with 1 Axes>"
      ]
     },
     "metadata": {
      "needs_background": "light"
     },
     "output_type": "display_data"
    }
   ],
   "source": [
    "sample = np.random.beta(0.2, 0.2,1000)\n",
    "sample = sample*5+1\n",
    "sample = np.floor(sample).astype(int)\n",
    "plt.hist(sample)\n",
    "plt.show()"
   ]
  },
  {
   "cell_type": "code",
   "execution_count": 50,
   "id": "cfb04aee",
   "metadata": {},
   "outputs": [
    {
     "name": "stdout",
     "output_type": "stream",
     "text": [
      "[2 0 3]\n",
      "[2 0 3]\n",
      "[5 1 5 5 4]\n"
     ]
    }
   ],
   "source": [
    "sel = np.random.choice(np.arange(p), size=3, replace=False)\n",
    "print(sel)\n",
    "r = np.arange(5)\n",
    "print(r[sel])\n",
    "r[sel] = 5\n",
    "print(r)\n"
   ]
  },
  {
   "cell_type": "code",
   "execution_count": 53,
   "id": "fae7c0ca",
   "metadata": {},
   "outputs": [
    {
     "name": "stdout",
     "output_type": "stream",
     "text": [
      "[2 0 3]\n"
     ]
    },
    {
     "data": {
      "text/plain": [
       "0"
      ]
     },
     "execution_count": 53,
     "metadata": {},
     "output_type": "execute_result"
    }
   ],
   "source": [
    "print(sel)\n",
    "np.sum(sel==1)"
   ]
  },
  {
   "cell_type": "code",
   "execution_count": 130,
   "id": "46cb826a",
   "metadata": {},
   "outputs": [],
   "source": [
    "def ChooseK(P):# P is integer of Feature number\n",
    "    K =np.random.beta(0.2, 0.2,1)\n",
    "    K = int(P*K+1)\n",
    "    if K==P+1: # some degenerate cases\n",
    "        K = K-1\n",
    "    return(K)"
   ]
  },
  {
   "cell_type": "code",
   "execution_count": 128,
   "id": "e750917b",
   "metadata": {},
   "outputs": [],
   "source": []
  },
  {
   "cell_type": "code",
   "execution_count": 131,
   "id": "7fddd385",
   "metadata": {},
   "outputs": [
    {
     "data": {
      "text/plain": [
       "2"
      ]
     },
     "execution_count": 131,
     "metadata": {},
     "output_type": "execute_result"
    }
   ],
   "source": [
    "ChooseK(4)"
   ]
  },
  {
   "cell_type": "code",
   "execution_count": 133,
   "id": "0315a93f",
   "metadata": {},
   "outputs": [
    {
     "data": {
      "image/png": "[encoded data removed]",
      "text/plain": [
       "<Figure size 432x288 with 1 Axes>"
      ]
     },
     "metadata": {
      "needs_background": "light"
     },
     "output_type": "display_data"
    },
    {
     "name": "stdout",
     "output_type": "stream",
     "text": [
      "1.0 5.0\n",
      "[5. 1. 1. ... 1. 1. 1.]\n"
     ]
    }
   ],
   "source": [
    "ks = np.empty(5000)\n",
    "for ll in range(5000):\n",
    "    ks[ll] =ChooseK(5)\n",
    "plt.hist(ks)\n",
    "plt.show()\n",
    "print(min(ks),max(ks))\n",
    "print(ks)"
   ]
  },
  {
   "cell_type": "code",
   "execution_count": 68,
   "id": "0c99cba8",
   "metadata": {},
   "outputs": [],
   "source": [
    "def SwapFeatures(i,m,j,k):\n",
    "    # take instance x_i, exchange k of its features randomly with the features of x_m including the jth Feature\n",
    "    output = X[i,:].copy()\n",
    "    \n",
    "    if k == 1: # only change jth Feature\n",
    "        output[j] = X[m,j].copy()\n",
    "    \n",
    "    else:\n",
    "        Selection = np.random.choice(np.arange(p), size=k, replace=False)\n",
    "        while (np.sum(Selection==j) ==0): # Make sure that j is included in selection\n",
    "            Selection = np.random.choice(np.arange(p), size=k, replace=False)\n",
    "        \n",
    "        output[Selection] = X[m,Selection].copy()\n",
    "    \n",
    "    return(output)\n",
    "        \n",
    "        "
   ]
  },
  {
   "cell_type": "code",
   "execution_count": 70,
   "id": "34e7b64c",
   "metadata": {},
   "outputs": [
    {
     "name": "stdout",
     "output_type": "stream",
     "text": [
      "[[0.90933378 0.16643258 0.20866642 0.90873685 0.0910367 ]\n",
      " [0.76021499 0.21920234 0.65010611 0.19466757 0.57580883]\n",
      " [0.98230741 0.5899694  0.84660275 0.28821197 0.38599373]\n",
      " [0.55651195 0.49289882 0.03680454 0.86269364 0.36388063]]\n",
      "[0.55651195 0.5899694  0.84660275 0.28821197 0.36388063]\n"
     ]
    }
   ],
   "source": [
    "print(X[np.arange(4),:])\n",
    "print(SwapFeatures(2,3,0,2))"
   ]
  },
  {
   "cell_type": "code",
   "execution_count": 74,
   "id": "3ff9af81",
   "metadata": {},
   "outputs": [],
   "source": [
    "def Compare(x_j, x_noj, Model):\n",
    "    return(Model.predict(x_j.reshape(1, -1)) - Model.predict(x_noj.reshape(1, -1)))"
   ]
  },
  {
   "cell_type": "code",
   "execution_count": 73,
   "id": "5bece82b",
   "metadata": {},
   "outputs": [
    {
     "data": {
      "text/plain": [
       "array([-18.25248954])"
      ]
     },
     "execution_count": 73,
     "metadata": {},
     "output_type": "execute_result"
    }
   ],
   "source": [
    "reg.predict(np.arange(5).reshape(1, -1))"
   ]
  },
  {
   "cell_type": "code",
   "execution_count": 162,
   "id": "a53e6746",
   "metadata": {},
   "outputs": [],
   "source": [
    "j = 4\n",
    "M = 10000"
   ]
  },
  {
   "cell_type": "code",
   "execution_count": 163,
   "id": "48eeb49d",
   "metadata": {},
   "outputs": [],
   "source": [
    "M_iter = 0 # iteration index\n",
    "SHAPValues = np.empty(M)\n",
    "while M_iter<M:\n",
    "    m = np.random.randint(n) # random instance to \"mix\" x_i with\n",
    "    \n",
    "    if m != i:\n",
    "        k = ChooseK(p)\n",
    "        x_dummy_noj = SwapFeatures(i,m,j,k) # sample from random other instance\n",
    "        x_dummy_j = x_dummy_noj.copy()\n",
    "        x_dummy_j[j] = X[i,j].copy()  # compare with j and without j\n",
    "        \n",
    "        SHAPValues[M_iter] = Compare(x_dummy_j,x_dummy_noj, Model=reg)\n",
    "        \n",
    "        M_iter = M_iter+1\n",
    "\n",
    "    \n"
   ]
  },
  {
   "cell_type": "code",
   "execution_count": 164,
   "id": "941708e9",
   "metadata": {},
   "outputs": [
    {
     "data": {
      "text/plain": [
       "1.5331431826791868"
      ]
     },
     "execution_count": 164,
     "metadata": {},
     "output_type": "execute_result"
    }
   ],
   "source": [
    "np.mean(SHAPValues)"
   ]
  },
  {
   "cell_type": "code",
   "execution_count": 165,
   "id": "1d7ad658",
   "metadata": {},
   "outputs": [
    {
     "data": {
      "text/plain": [
       "array([0.02674323, 0.70809225, 0.26539912, 0.27852318, 0.13629331])"
      ]
     },
     "execution_count": 165,
     "metadata": {},
     "output_type": "execute_result"
    }
   ],
   "source": [
    "X[i,:]"
   ]
  },
  {
   "cell_type": "code",
   "execution_count": 166,
   "id": "4f233f0b",
   "metadata": {},
   "outputs": [
    {
     "data": {
      "text/plain": [
       "0.13629331341065853"
      ]
     },
     "execution_count": 166,
     "metadata": {},
     "output_type": "execute_result"
    }
   ],
   "source": [
    "X[i,j]"
   ]
  },
  {
   "cell_type": "code",
   "execution_count": 167,
   "id": "43812079",
   "metadata": {},
   "outputs": [
    {
     "data": {
      "text/plain": [
       "-4.0514014680718144"
      ]
     },
     "execution_count": 167,
     "metadata": {},
     "output_type": "execute_result"
    }
   ],
   "source": [
    "np.mean(SHAPValues)/(X[i,j]-np.mean(X[:,j])) "
   ]
  },
  {
   "cell_type": "code",
   "execution_count": null,
   "id": "7a6bbdb2",
   "metadata": {},
   "outputs": [],
   "source": []
  },
  {
   "cell_type": "code",
   "execution_count": null,
   "id": "13a2b65d",
   "metadata": {},
   "outputs": [],
   "source": []
  }
 ],
 "metadata": {
  "kernelspec": {
   "display_name": "Python 3 (ipykernel)",
   "language": "python",
   "name": "python3"
  },
  "language_info": {
   "codemirror_mode": {
    "name": "ipython",
    "version": 3
   },
   "file_extension": ".py",
   "mimetype": "text/x-python",
   "name": "python",
   "nbconvert_exporter": "python",
   "pygments_lexer": "ipython3",
   "version": "3.7.3"
  }
 },
 "nbformat": 4,
 "nbformat_minor": 5
}

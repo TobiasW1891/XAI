{
 "cells": [
  {
   "cell_type": "code",
   "execution_count": 1,
   "id": "33747e9d",
   "metadata": {},
   "outputs": [
    {
     "name": "stderr",
     "output_type": "stream",
     "text": [
      "/home/users/t_wand01/.local/lib/python3.7/site-packages/tensorflow/python/framework/dtypes.py:516: FutureWarning: Passing (type, 1) or '1type' as a synonym of type is deprecated; in a future version of numpy, it will be understood as (type, (1,)) / '(1,)type'.\n",
      "  _np_qint8 = np.dtype([(\"qint8\", np.int8, 1)])\n",
      "/home/users/t_wand01/.local/lib/python3.7/site-packages/tensorflow/python/framework/dtypes.py:517: FutureWarning: Passing (type, 1) or '1type' as a synonym of type is deprecated; in a future version of numpy, it will be understood as (type, (1,)) / '(1,)type'.\n",
      "  _np_quint8 = np.dtype([(\"quint8\", np.uint8, 1)])\n",
      "/home/users/t_wand01/.local/lib/python3.7/site-packages/tensorflow/python/framework/dtypes.py:518: FutureWarning: Passing (type, 1) or '1type' as a synonym of type is deprecated; in a future version of numpy, it will be understood as (type, (1,)) / '(1,)type'.\n",
      "  _np_qint16 = np.dtype([(\"qint16\", np.int16, 1)])\n",
      "/home/users/t_wand01/.local/lib/python3.7/site-packages/tensorflow/python/framework/dtypes.py:519: FutureWarning: Passing (type, 1) or '1type' as a synonym of type is deprecated; in a future version of numpy, it will be understood as (type, (1,)) / '(1,)type'.\n",
      "  _np_quint16 = np.dtype([(\"quint16\", np.uint16, 1)])\n",
      "/home/users/t_wand01/.local/lib/python3.7/site-packages/tensorflow/python/framework/dtypes.py:520: FutureWarning: Passing (type, 1) or '1type' as a synonym of type is deprecated; in a future version of numpy, it will be understood as (type, (1,)) / '(1,)type'.\n",
      "  _np_qint32 = np.dtype([(\"qint32\", np.int32, 1)])\n",
      "/home/users/t_wand01/.local/lib/python3.7/site-packages/tensorflow/python/framework/dtypes.py:525: FutureWarning: Passing (type, 1) or '1type' as a synonym of type is deprecated; in a future version of numpy, it will be understood as (type, (1,)) / '(1,)type'.\n",
      "  np_resource = np.dtype([(\"resource\", np.ubyte, 1)])\n",
      "/home/users/t_wand01/.local/lib/python3.7/site-packages/tensorboard/compat/tensorflow_stub/dtypes.py:541: FutureWarning: Passing (type, 1) or '1type' as a synonym of type is deprecated; in a future version of numpy, it will be understood as (type, (1,)) / '(1,)type'.\n",
      "  _np_qint8 = np.dtype([(\"qint8\", np.int8, 1)])\n",
      "/home/users/t_wand01/.local/lib/python3.7/site-packages/tensorboard/compat/tensorflow_stub/dtypes.py:542: FutureWarning: Passing (type, 1) or '1type' as a synonym of type is deprecated; in a future version of numpy, it will be understood as (type, (1,)) / '(1,)type'.\n",
      "  _np_quint8 = np.dtype([(\"quint8\", np.uint8, 1)])\n",
      "/home/users/t_wand01/.local/lib/python3.7/site-packages/tensorboard/compat/tensorflow_stub/dtypes.py:543: FutureWarning: Passing (type, 1) or '1type' as a synonym of type is deprecated; in a future version of numpy, it will be understood as (type, (1,)) / '(1,)type'.\n",
      "  _np_qint16 = np.dtype([(\"qint16\", np.int16, 1)])\n",
      "/home/users/t_wand01/.local/lib/python3.7/site-packages/tensorboard/compat/tensorflow_stub/dtypes.py:544: FutureWarning: Passing (type, 1) or '1type' as a synonym of type is deprecated; in a future version of numpy, it will be understood as (type, (1,)) / '(1,)type'.\n",
      "  _np_quint16 = np.dtype([(\"quint16\", np.uint16, 1)])\n",
      "/home/users/t_wand01/.local/lib/python3.7/site-packages/tensorboard/compat/tensorflow_stub/dtypes.py:545: FutureWarning: Passing (type, 1) or '1type' as a synonym of type is deprecated; in a future version of numpy, it will be understood as (type, (1,)) / '(1,)type'.\n",
      "  _np_qint32 = np.dtype([(\"qint32\", np.int32, 1)])\n",
      "/home/users/t_wand01/.local/lib/python3.7/site-packages/tensorboard/compat/tensorflow_stub/dtypes.py:550: FutureWarning: Passing (type, 1) or '1type' as a synonym of type is deprecated; in a future version of numpy, it will be understood as (type, (1,)) / '(1,)type'.\n",
      "  np_resource = np.dtype([(\"resource\", np.ubyte, 1)])\n"
     ]
    }
   ],
   "source": [
    "import matplotlib.pyplot as plt\n",
    "import numpy as np\n",
    "import sklearn\n",
    "from sklearn.linear_model import LinearRegression\n",
    "from tensorflow import keras \n",
    "import random\n",
    "random.seed(1234)"
   ]
  },
  {
   "cell_type": "code",
   "execution_count": 30,
   "id": "56b482e3",
   "metadata": {},
   "outputs": [],
   "source": [
    "# Our data is a fairly simple linear Model which is binarized for the Neural Net (second example)\n",
    "\n",
    "X = np.random.rand(100,10)\n",
    "# only X[:,0], X[:,4], X[:,1] and X[:,2] are relevant and their relevance is in that order\n",
    "y = 5.*X[:,0] - 1. * X[:,1] - 0.5*X[:,2] - 4.*X[:,4] + 0.1*np.random.normal(size=100) \n",
    "yNN = (y> np.mean(y))*1\n",
    "\n"
   ]
  },
  {
   "cell_type": "code",
   "execution_count": 31,
   "id": "bb9749af",
   "metadata": {},
   "outputs": [
    {
     "name": "stdout",
     "output_type": "stream",
     "text": [
      "[0.08261481 0.5406589  0.82338386 0.64539478 0.08015823 0.00494733\n",
      " 0.62178567 0.18865163 0.76664494 0.57076547]\n",
      "-0.6880489985057469\n"
     ]
    }
   ],
   "source": [
    "print(X[1,:])\n",
    "print(y[1])"
   ]
  },
  {
   "cell_type": "code",
   "execution_count": 32,
   "id": "ab1f326a",
   "metadata": {},
   "outputs": [],
   "source": [
    "reg = LinearRegression().fit(X,y)"
   ]
  },
  {
   "cell_type": "code",
   "execution_count": 33,
   "id": "95e31815",
   "metadata": {},
   "outputs": [
    {
     "name": "stdout",
     "output_type": "stream",
     "text": [
      "[ 4.97764115 -0.95290432 -0.52178947 -0.02729484 -3.9926959   0.04929267\n",
      " -0.0086724  -0.00860181 -0.00998335  0.01891812]\n"
     ]
    }
   ],
   "source": [
    "print(reg.coef_)  # Seems alright!"
   ]
  },
  {
   "cell_type": "markdown",
   "id": "a6c0c8b4",
   "metadata": {},
   "source": [
    "## Let's try to code SHAP for ourselves"
   ]
  },
  {
   "cell_type": "code",
   "execution_count": 35,
   "id": "7ebbf99b",
   "metadata": {},
   "outputs": [],
   "source": [
    "p = X.shape[1] # Number of Features\n",
    "n = 100 # Sample size"
   ]
  },
  {
   "cell_type": "markdown",
   "id": "0842b7d1",
   "metadata": {},
   "source": [
    "We wish to sample from an extreme Beta-Distribution so that we get either very few or very many features. The first case shows the isolatd effect of a feature, the latter the interaction of a feature with all other ones."
   ]
  },
  {
   "cell_type": "code",
   "execution_count": 36,
   "id": "ed036fca",
   "metadata": {},
   "outputs": [
    {
     "data": {
      "image/png": "[encoded data removed]",
      "text/plain": [
       "<Figure size 432x288 with 1 Axes>"
      ]
     },
     "metadata": {
      "needs_background": "light"
     },
     "output_type": "display_data"
    }
   ],
   "source": [
    "sample = np.random.beta(0.2, 0.2,1000)\n",
    "sample = sample*X.shape[1]+1\n",
    "sample = np.floor(sample).astype(int)\n",
    "plt.hist(sample)\n",
    "plt.show()"
   ]
  },
  {
   "cell_type": "code",
   "execution_count": 37,
   "id": "6fd204ce",
   "metadata": {},
   "outputs": [
    {
     "name": "stdout",
     "output_type": "stream",
     "text": [
      "[7 2 0]\n",
      "[7 2 0]\n",
      "[10  1 10  3  4  5  6 10  8  9]\n"
     ]
    }
   ],
   "source": [
    "sel = np.random.choice(np.arange(p), size=3, replace=False)\n",
    "print(sel)\n",
    "r = np.arange(X.shape[1])\n",
    "print(r[sel])\n",
    "r[sel] = X.shape[1]\n",
    "print(r)\n"
   ]
  },
  {
   "cell_type": "code",
   "execution_count": 39,
   "id": "e59d0ff7",
   "metadata": {},
   "outputs": [],
   "source": [
    "def ChooseK(P):# P is integer of Feature number\n",
    "    K =np.random.beta(0.2, 0.2,1)\n",
    "    K = int(P*K+1)\n",
    "    if K==P+1: # some degenerate cases\n",
    "        K = K-1\n",
    "    return(K)"
   ]
  },
  {
   "cell_type": "code",
   "execution_count": 40,
   "id": "611d9594",
   "metadata": {},
   "outputs": [
    {
     "data": {
      "text/plain": [
       "1"
      ]
     },
     "execution_count": 40,
     "metadata": {},
     "output_type": "execute_result"
    }
   ],
   "source": [
    "ChooseK(X.shape[1])"
   ]
  },
  {
   "cell_type": "code",
   "execution_count": 41,
   "id": "98b353ba",
   "metadata": {},
   "outputs": [
    {
     "data": {
      "image/png": "[encoded data removed]",
      "text/plain": [
       "<Figure size 432x288 with 1 Axes>"
      ]
     },
     "metadata": {
      "needs_background": "light"
     },
     "output_type": "display_data"
    },
    {
     "name": "stdout",
     "output_type": "stream",
     "text": [
      "1.0 10.0\n",
      "[10.  2. 10. ...  1.  2.  1.]\n"
     ]
    }
   ],
   "source": [
    "ks = np.empty(5000)\n",
    "for ll in range(5000):\n",
    "    ks[ll] =ChooseK(X.shape[1])\n",
    "plt.hist(ks)\n",
    "plt.show()\n",
    "print(min(ks),max(ks))\n",
    "print(ks)"
   ]
  },
  {
   "cell_type": "code",
   "execution_count": 42,
   "id": "11cf919e",
   "metadata": {},
   "outputs": [],
   "source": [
    "def SwapFeatures(i,m,j,k):\n",
    "    # take instance x_i, exchange k of its features randomly with the features of x_m including the jth Feature\n",
    "    output = X[i,:].copy()\n",
    "    \n",
    "    if k == 1: # only change jth Feature\n",
    "        output[j] = X[m,j].copy()\n",
    "    \n",
    "    else:\n",
    "        Selection = np.random.choice(np.arange(X.shape[1]), size=k, replace=False)\n",
    "        while (np.sum(Selection==j) ==0): # Make sure that j is included in selection\n",
    "            Selection = np.random.choice(np.arange(X.shape[1]), size=k, replace=False)\n",
    "        \n",
    "        output[Selection] = X[m,Selection].copy()\n",
    "    \n",
    "    return(output)\n",
    "        \n",
    "        "
   ]
  },
  {
   "cell_type": "code",
   "execution_count": 43,
   "id": "25d1117b",
   "metadata": {},
   "outputs": [
    {
     "name": "stdout",
     "output_type": "stream",
     "text": [
      "[[0.65161656 0.26664345 0.84407451 0.3100617  0.74992801 0.64072587\n",
      "  0.324064   0.92237405 0.59416721 0.41658151]\n",
      " [0.08261481 0.5406589  0.82338386 0.64539478 0.08015823 0.00494733\n",
      "  0.62178567 0.18865163 0.76664494 0.57076547]\n",
      " [0.09646526 0.49868083 0.93865316 0.55028874 0.55659565 0.01305596\n",
      "  0.18933326 0.88344628 0.36215892 0.57061303]\n",
      " [0.02834886 0.46254716 0.49459663 0.02386997 0.19007934 0.29544156\n",
      "  0.730922   0.58288077 0.2240034  0.06068195]]\n",
      "[0.02834886 0.49868083 0.93865316 0.55028874 0.55659565 0.01305596\n",
      " 0.730922   0.88344628 0.36215892 0.57061303]\n"
     ]
    }
   ],
   "source": [
    "print(X[np.arange(4),:])\n",
    "print(SwapFeatures(2,3,0,2)) # the instance X[2,:] gets 2 features from X[3,:], including X[:,0]"
   ]
  },
  {
   "cell_type": "code",
   "execution_count": 44,
   "id": "260bdaaa",
   "metadata": {},
   "outputs": [],
   "source": [
    "def Compare(x_j, x_noj, Model):\n",
    "    return(Model.predict(x_j.reshape(1, -1)) - Model.predict(x_noj.reshape(1, -1)))"
   ]
  },
  {
   "cell_type": "code",
   "execution_count": 45,
   "id": "29de137a",
   "metadata": {},
   "outputs": [
    {
     "data": {
      "text/plain": [
       "array([-17.84014558])"
      ]
     },
     "execution_count": 45,
     "metadata": {},
     "output_type": "execute_result"
    }
   ],
   "source": [
    "reg.predict(np.arange(X.shape[1]).reshape(1, -1))"
   ]
  },
  {
   "cell_type": "code",
   "execution_count": 46,
   "id": "0e01f073",
   "metadata": {},
   "outputs": [],
   "source": [
    "def CalcShap(X,i,j,M,Model):\n",
    "    # Calculate Shap values for DataSet X for ith instance and jth feature with M iterations for AI-Model \"Model\"\n",
    "    M_iter = 0 # iteration index\n",
    "    SHAPValues = np.empty(M)\n",
    "    \n",
    "    while M_iter<M:\n",
    "        m = np.random.randint(X.shape[0]) # random instance to \"mix\" x_i with\n",
    "    \n",
    "        if m!=i:\n",
    "            k = ChooseK(X.shape[1])\n",
    "            \n",
    "            x_dummy_noj = SwapFeatures(i,m,j,k) # sample from random other instance\n",
    "            x_dummy_j = x_dummy_noj.copy()\n",
    "            x_dummy_j[j] = X[i,j].copy()  # compare with j and without j\n",
    "        \n",
    "            SHAPValues[M_iter] = Compare(x_dummy_j,x_dummy_noj, Model=reg)\n",
    "        \n",
    "            M_iter = M_iter+1\n",
    "            \n",
    "    return(np.mean(SHAPValues))\n"
   ]
  },
  {
   "cell_type": "code",
   "execution_count": 47,
   "id": "fa3456fd",
   "metadata": {},
   "outputs": [],
   "source": [
    "def FeatureImportance(X,j,M1,M2,Model):\n",
    "    # Calculate Feature Importancec over M1 instances for j'th Feature of Data Set X,\n",
    "    #   compare each instance M2 times and evaluate via Model\n",
    "    \n",
    "    Output = np.empty(M1)\n",
    "    \n",
    "    for m1 in range(M1):\n",
    "        i = np.random.randint(X.shape[0])\n",
    "        Output[m1] = np.abs(CalcShap(X,i,j,M2,Model))\n",
    "        \n",
    "    return(np.mean(Output))\n",
    "        "
   ]
  },
  {
   "cell_type": "code",
   "execution_count": 48,
   "id": "7a0c7f11",
   "metadata": {},
   "outputs": [],
   "source": [
    "# Just for the ith instance\n",
    "SHAPValues_i = np.empty(X.shape[1])\n",
    "for index in range(X.shape[1]):\n",
    "    SHAPValues_i[index] = CalcShap(X, i=0, j = index, M = 1000, Model=reg)"
   ]
  },
  {
   "cell_type": "code",
   "execution_count": 20,
   "id": "a24dbc20",
   "metadata": {},
   "outputs": [
    {
     "name": "stdout",
     "output_type": "stream",
     "text": [
      "0 1.334203982166776\n",
      "1 0.2533754219431914\n",
      "2 0.11627794173981741\n",
      "3 0.004654461564958297\n",
      "4 1.0835138081059013\n"
     ]
    }
   ],
   "source": [
    "# For the entire Data Set\n",
    "SHAP_Importance = np.empty(5)\n",
    "for Jf in range(X.shape[1]):\n",
    "    SHAP_Importance[Jf] = FeatureImportance(X,Jf,100,100,reg)\n",
    "    print(Jf, SHAP_Importance[Jf])"
   ]
  },
  {
   "cell_type": "markdown",
   "id": "e0f30c01",
   "metadata": {},
   "source": [
    "## Sanity Checks\n",
    "\n",
    "We can reproduce the coefficients of the linear model with the SHAP values"
   ]
  },
  {
   "cell_type": "code",
   "execution_count": 21,
   "id": "781feee9",
   "metadata": {},
   "outputs": [
    {
     "data": {
      "text/plain": [
       "array([-1.21862224,  0.05200788,  0.11622132,  0.00288783, -0.12668791])"
      ]
     },
     "execution_count": 21,
     "metadata": {},
     "output_type": "execute_result"
    }
   ],
   "source": [
    "SHAPValues_i"
   ]
  },
  {
   "cell_type": "code",
   "execution_count": 22,
   "id": "a2d6e24c",
   "metadata": {},
   "outputs": [
    {
     "name": "stdout",
     "output_type": "stream",
     "text": [
      "5.0913924484427415\n",
      "-1.2001163395383148\n",
      "-0.4872042401889289\n",
      "-0.017170694155301352\n",
      "-3.697120215693432\n"
     ]
    }
   ],
   "source": [
    "for index in range(X.shape[1]):\n",
    "    print(SHAPValues_i[index]/ (X[0,index]-np.mean(X[:,index])))"
   ]
  },
  {
   "cell_type": "markdown",
   "id": "fc6e40fb",
   "metadata": {},
   "source": [
    "Very close to the real linear coefficients!"
   ]
  },
  {
   "cell_type": "code",
   "execution_count": 23,
   "id": "fcc81c66",
   "metadata": {},
   "outputs": [
    {
     "data": {
      "text/plain": [
       "0.9711563114192397"
      ]
     },
     "execution_count": 23,
     "metadata": {},
     "output_type": "execute_result"
    }
   ],
   "source": [
    "CalcShap(X, 10, 0, 1000, reg)"
   ]
  },
  {
   "cell_type": "code",
   "execution_count": 24,
   "id": "b782d6c9",
   "metadata": {},
   "outputs": [
    {
     "data": {
      "text/plain": [
       "-11.351226321468443"
      ]
     },
     "execution_count": 24,
     "metadata": {},
     "output_type": "execute_result"
    }
   ],
   "source": [
    "-2.2819590130308125/(X[10,0]-np.mean(X[:,0]))"
   ]
  },
  {
   "cell_type": "code",
   "execution_count": 25,
   "id": "932aaef7",
   "metadata": {},
   "outputs": [
    {
     "data": {
      "text/plain": [
       "array([1.33420398, 0.25337542, 0.11627794, 0.00465446, 1.08351381])"
      ]
     },
     "execution_count": 25,
     "metadata": {},
     "output_type": "execute_result"
    }
   ],
   "source": [
    "SHAP_Importance"
   ]
  },
  {
   "cell_type": "code",
   "execution_count": 26,
   "id": "500dda4e",
   "metadata": {},
   "outputs": [
    {
     "name": "stdout",
     "output_type": "stream",
     "text": [
      "5.438941085778978\n",
      "0.9837502391660632\n",
      "0.43334108232486246\n",
      "0.017563831590175424\n",
      "4.550226838860607\n"
     ]
    }
   ],
   "source": [
    "for a in range(5):\n",
    "    print(SHAP_Importance[a]/np.mean(np.abs(X[:,a]-np.mean(X[:,a]))))"
   ]
  },
  {
   "cell_type": "markdown",
   "id": "a6aa84aa",
   "metadata": {},
   "source": [
    "##### These are reasonably close to the absolute values of the linear model!"
   ]
  },
  {
   "cell_type": "markdown",
   "id": "a197db73",
   "metadata": {},
   "source": [
    "## Now with a Neural Net"
   ]
  },
  {
   "cell_type": "code",
   "execution_count": 27,
   "id": "db14fae1",
   "metadata": {},
   "outputs": [
    {
     "name": "stdout",
     "output_type": "stream",
     "text": [
      "WARNING:tensorflow:From /home/users/t_wand01/.local/lib/python3.7/site-packages/tensorflow/python/ops/init_ops.py:1251: calling VarianceScaling.__init__ (from tensorflow.python.ops.init_ops) with dtype is deprecated and will be removed in a future version.\n",
      "Instructions for updating:\n",
      "Call initializer instance with the dtype argument instead of passing it to the constructor\n",
      "WARNING:tensorflow:From /home/users/t_wand01/.local/lib/python3.7/site-packages/tensorflow/python/ops/nn_impl.py:180: add_dispatch_support.<locals>.wrapper (from tensorflow.python.ops.array_ops) is deprecated and will be removed in a future version.\n",
      "Instructions for updating:\n",
      "Use tf.where in 2.0, which has the same broadcast rule as np.where\n",
      "Epoch 1/50\n",
      "50/50 [==============================] - 0s 1ms/sample - loss: 0.6814 - acc: 0.6200\n",
      "Epoch 2/50\n",
      "50/50 [==============================] - 0s 57us/sample - loss: 0.6777 - acc: 0.6200\n",
      "Epoch 3/50\n",
      "50/50 [==============================] - 0s 56us/sample - loss: 0.6749 - acc: 0.6400\n",
      "Epoch 4/50\n",
      "50/50 [==============================] - 0s 54us/sample - loss: 0.6714 - acc: 0.6600\n",
      "Epoch 5/50\n",
      "50/50 [==============================] - 0s 55us/sample - loss: 0.6679 - acc: 0.6800\n",
      "Epoch 6/50\n",
      "50/50 [==============================] - 0s 56us/sample - loss: 0.6641 - acc: 0.7000\n",
      "Epoch 7/50\n",
      "50/50 [==============================] - 0s 58us/sample - loss: 0.6606 - acc: 0.7400\n",
      "Epoch 8/50\n",
      "50/50 [==============================] - 0s 55us/sample - loss: 0.6566 - acc: 0.7600\n",
      "Epoch 9/50\n",
      "50/50 [==============================] - 0s 56us/sample - loss: 0.6528 - acc: 0.7600\n",
      "Epoch 10/50\n",
      "50/50 [==============================] - 0s 62us/sample - loss: 0.6492 - acc: 0.7600\n",
      "Epoch 11/50\n",
      "50/50 [==============================] - 0s 58us/sample - loss: 0.6448 - acc: 0.7600\n",
      "Epoch 12/50\n",
      "50/50 [==============================] - 0s 55us/sample - loss: 0.6405 - acc: 0.8000\n",
      "Epoch 13/50\n",
      "50/50 [==============================] - 0s 56us/sample - loss: 0.6362 - acc: 0.8000\n",
      "Epoch 14/50\n",
      "50/50 [==============================] - 0s 55us/sample - loss: 0.6320 - acc: 0.8000\n",
      "Epoch 15/50\n",
      "50/50 [==============================] - 0s 55us/sample - loss: 0.6273 - acc: 0.8200\n"
     ]
    },
    {
     "name": "stderr",
     "output_type": "stream",
     "text": [
      "2021-10-26 15:24:10.621183: I tensorflow/core/platform/cpu_feature_guard.cc:142] Your CPU supports instructions that this TensorFlow binary was not compiled to use: AVX2 FMA\n",
      "2021-10-26 15:24:10.644660: I tensorflow/core/platform/profile_utils/cpu_utils.cc:94] CPU Frequency: 3299990000 Hz\n",
      "2021-10-26 15:24:10.645708: I tensorflow/compiler/xla/service/service.cc:168] XLA service 0x2e285f0 executing computations on platform Host. Devices:\n",
      "2021-10-26 15:24:10.645743: I tensorflow/compiler/xla/service/service.cc:175]   StreamExecutor device (0): <undefined>, <undefined>\n",
      "2021-10-26 15:24:10.680186: W tensorflow/compiler/jit/mark_for_compilation_pass.cc:1412] (One-time warning): Not using XLA:CPU for cluster because envvar TF_XLA_FLAGS=--tf_xla_cpu_global_jit was not set.  If you want XLA:CPU, either set that envvar, or use experimental_jit_scope to enable XLA:CPU.  To confirm that XLA is active, pass --vmodule=xla_compilation_cache=1 (as a proper command-line flag, not via TF_XLA_FLAGS) or set the envvar XLA_FLAGS=--xla_hlo_profile.\n"
     ]
    },
    {
     "name": "stdout",
     "output_type": "stream",
     "text": [
      "Epoch 16/50\n",
      "50/50 [==============================] - 0s 55us/sample - loss: 0.6233 - acc: 0.8000\n",
      "Epoch 17/50\n",
      "50/50 [==============================] - 0s 70us/sample - loss: 0.6185 - acc: 0.8000\n",
      "Epoch 18/50\n",
      "50/50 [==============================] - 0s 56us/sample - loss: 0.6139 - acc: 0.8200\n",
      "Epoch 19/50\n",
      "50/50 [==============================] - 0s 52us/sample - loss: 0.6089 - acc: 0.8400\n",
      "Epoch 20/50\n",
      "50/50 [==============================] - 0s 55us/sample - loss: 0.6037 - acc: 0.8400\n",
      "Epoch 21/50\n",
      "50/50 [==============================] - 0s 53us/sample - loss: 0.5980 - acc: 0.8400\n",
      "Epoch 22/50\n",
      "50/50 [==============================] - 0s 52us/sample - loss: 0.5925 - acc: 0.8400\n",
      "Epoch 23/50\n",
      "50/50 [==============================] - 0s 57us/sample - loss: 0.5866 - acc: 0.8400\n",
      "Epoch 24/50\n",
      "50/50 [==============================] - 0s 54us/sample - loss: 0.5807 - acc: 0.8800\n",
      "Epoch 25/50\n",
      "50/50 [==============================] - 0s 52us/sample - loss: 0.5744 - acc: 0.8800\n",
      "Epoch 26/50\n",
      "50/50 [==============================] - 0s 54us/sample - loss: 0.5678 - acc: 0.8800\n",
      "Epoch 27/50\n",
      "50/50 [==============================] - 0s 52us/sample - loss: 0.5613 - acc: 0.9000\n",
      "Epoch 28/50\n",
      "50/50 [==============================] - 0s 57us/sample - loss: 0.5547 - acc: 0.9200\n",
      "Epoch 29/50\n",
      "50/50 [==============================] - 0s 53us/sample - loss: 0.5480 - acc: 0.9200\n",
      "Epoch 30/50\n",
      "50/50 [==============================] - 0s 53us/sample - loss: 0.5412 - acc: 0.9200\n",
      "Epoch 31/50\n",
      "50/50 [==============================] - 0s 52us/sample - loss: 0.5343 - acc: 0.9600\n",
      "Epoch 32/50\n",
      "50/50 [==============================] - 0s 56us/sample - loss: 0.5272 - acc: 0.9600\n",
      "Epoch 33/50\n",
      "50/50 [==============================] - 0s 53us/sample - loss: 0.5196 - acc: 0.9600\n",
      "Epoch 34/50\n",
      "50/50 [==============================] - 0s 52us/sample - loss: 0.5121 - acc: 0.9600\n",
      "Epoch 35/50\n",
      "50/50 [==============================] - 0s 54us/sample - loss: 0.5043 - acc: 0.9600\n",
      "Epoch 36/50\n",
      "50/50 [==============================] - 0s 52us/sample - loss: 0.4966 - acc: 0.9800\n",
      "Epoch 37/50\n",
      "50/50 [==============================] - 0s 56us/sample - loss: 0.4886 - acc: 0.9800\n",
      "Epoch 38/50\n",
      "50/50 [==============================] - 0s 53us/sample - loss: 0.4798 - acc: 0.9800\n",
      "Epoch 39/50\n",
      "50/50 [==============================] - 0s 55us/sample - loss: 0.4716 - acc: 0.9800\n",
      "Epoch 40/50\n",
      "50/50 [==============================] - 0s 53us/sample - loss: 0.4619 - acc: 0.9800\n",
      "Epoch 41/50\n",
      "50/50 [==============================] - 0s 64us/sample - loss: 0.4529 - acc: 0.9800\n",
      "Epoch 42/50\n",
      "50/50 [==============================] - 0s 60us/sample - loss: 0.4432 - acc: 0.9800\n",
      "Epoch 43/50\n",
      "50/50 [==============================] - 0s 57us/sample - loss: 0.4351 - acc: 0.9600\n",
      "Epoch 44/50\n",
      "50/50 [==============================] - 0s 50us/sample - loss: 0.4237 - acc: 0.9800\n",
      "Epoch 45/50\n",
      "50/50 [==============================] - 0s 49us/sample - loss: 0.4151 - acc: 0.9800\n",
      "Epoch 46/50\n",
      "50/50 [==============================] - 0s 55us/sample - loss: 0.4035 - acc: 1.0000\n",
      "Epoch 47/50\n",
      "50/50 [==============================] - 0s 53us/sample - loss: 0.3930 - acc: 1.0000\n",
      "Epoch 48/50\n",
      "50/50 [==============================] - 0s 54us/sample - loss: 0.3837 - acc: 1.0000\n",
      "Epoch 49/50\n",
      "50/50 [==============================] - 0s 53us/sample - loss: 0.3737 - acc: 1.0000\n",
      "Epoch 50/50\n",
      "50/50 [==============================] - 0s 58us/sample - loss: 0.3643 - acc: 1.0000\n",
      "50/50 [==============================] - 0s 260us/sample - loss: 0.3686 - acc: 0.9200\n",
      "Accuracy: 92.00\n"
     ]
    }
   ],
   "source": [
    "# define the keras model\n",
    "NN = keras.models.Sequential()\n",
    "NN.add(keras.layers.Dense(12, input_dim=5, activation='relu'))\n",
    "NN.add(keras.layers.Dense(8, activation='relu'))\n",
    "NN.add(keras.layers.Dense(1, activation='sigmoid'))\n",
    "# compile the keras model\n",
    "NN.compile(loss='binary_crossentropy', optimizer='adam', metrics=['accuracy'])\n",
    "# fit the keras model on the dataset\n",
    "NN.fit(X[0:50,:],yNN[0:50], epochs=50, batch_size=10)\n",
    "# evaluate the keras model\n",
    "_, accuracy = NN.evaluate(X[50:,:], yNN[50:])\n",
    "print('Accuracy: %.2f' % (accuracy*100))"
   ]
  },
  {
   "cell_type": "code",
   "execution_count": 28,
   "id": "2c002c33",
   "metadata": {},
   "outputs": [
    {
     "name": "stdout",
     "output_type": "stream",
     "text": [
      "[[0.21838164]\n",
      " [0.20959753]\n",
      " [0.6645434 ]\n",
      " [0.21125203]\n",
      " [0.7814669 ]\n",
      " [0.28546947]\n",
      " [0.18685582]\n",
      " [0.4414124 ]\n",
      " [0.46166456]\n",
      " [0.4357135 ]\n",
      " [0.8299562 ]\n",
      " [0.6643817 ]\n",
      " [0.25191867]\n",
      " [0.33172885]\n",
      " [0.6968841 ]\n",
      " [0.74940705]\n",
      " [0.7460697 ]\n",
      " [0.7189916 ]\n",
      " [0.51183414]\n",
      " [0.6067112 ]]\n",
      "[0 0 1 0 1 0 0 0 0 0 1 1 0 0 1 1 1 1 0 1]\n"
     ]
    }
   ],
   "source": [
    "print(NN.predict(X[40:60,:]))\n",
    "print(yNN[40:60])"
   ]
  },
  {
   "cell_type": "markdown",
   "id": "995c440d",
   "metadata": {},
   "source": [
    "#### Now with SHAP"
   ]
  },
  {
   "cell_type": "code",
   "execution_count": 29,
   "id": "d7835bd0",
   "metadata": {},
   "outputs": [
    {
     "name": "stdout",
     "output_type": "stream",
     "text": [
      "0 1.317709844356758\n",
      "1 0.22492306474816978\n",
      "2 0.12982407104909355\n",
      "3 0.004051880689513324\n",
      "4 0.9573579498912698\n"
     ]
    }
   ],
   "source": [
    "SHAP_Importance_NN = np.empty(5)\n",
    "for Jf in range(X.shape[1]):\n",
    "    SHAP_Importance_NN[Jf] = FeatureImportance(X,Jf,100,100,NN)\n",
    "    print(Jf, SHAP_Importance_NN[Jf])"
   ]
  },
  {
   "cell_type": "markdown",
   "id": "efc9590f",
   "metadata": {},
   "source": [
    "Ranking makes sense! Importances are very close to the linear Regression case."
   ]
  },
  {
   "cell_type": "code",
   "execution_count": null,
   "id": "32a48c80",
   "metadata": {},
   "outputs": [],
   "source": []
  }
 ],
 "metadata": {
  "kernelspec": {
   "display_name": "Python 3 (ipykernel)",
   "language": "python",
   "name": "python3"
  },
  "language_info": {
   "codemirror_mode": {
    "name": "ipython",
    "version": 3
   },
   "file_extension": ".py",
   "mimetype": "text/x-python",
   "name": "python",
   "nbconvert_exporter": "python",
   "pygments_lexer": "ipython3",
   "version": "3.7.3"
  }
 },
 "nbformat": 4,
 "nbformat_minor": 5
}

{
 "cells": [
  {
   "cell_type": "markdown",
   "id": "2a271764",
   "metadata": {},
   "source": [
    "# Clustering via XAI\n",
    "\n",
    "This notebook takes a kmeans-clustering algorithm and rewrites it as a 2-layer Neural Net, following Kauffmann et al. 2021 (https://arxiv.org/abs/1906.07633). Then, one can use XAI-techniques to analyse the NN. Kauffmann et al. propose Layer-Relevance-Propagation LRP (which will be implemented at a later stage in this notebook)."
   ]
  },
  {
   "cell_type": "code",
   "execution_count": 1,
   "id": "cecc243a",
   "metadata": {},
   "outputs": [],
   "source": [
    "import numpy as np\n",
    "import seaborn as sns\n",
    "import matplotlib.pyplot as plt\n",
    "from sklearn.cluster import *\n",
    "np.random.seed(1234)"
   ]
  },
  {
   "cell_type": "code",
   "execution_count": 2,
   "id": "6f24ab1f",
   "metadata": {},
   "outputs": [
    {
     "name": "stdout",
     "output_type": "stream",
     "text": [
      "(400, 5)\n"
     ]
    }
   ],
   "source": [
    "x = np.random.normal(0,1,100).reshape(-1,1)\n",
    "y = np.random.normal(0,1,100).reshape(-1,1)\n",
    "z = np.random.normal(0,1,100).reshape(-1,1)\n",
    "Data = np.concatenate((x,y,z), axis=1)\n",
    "\n",
    "x = np.random.normal(0,1,100).reshape(-1,1)\n",
    "y = np.random.normal(5,1,100).reshape(-1,1)\n",
    "z = np.random.normal(0,1,100).reshape(-1,1)\n",
    "newDat = np.concatenate((x,y,z), axis=1)\n",
    "Data = np.concatenate((Data,newDat))\n",
    "\n",
    "x = np.random.normal(5,1,100).reshape(-1,1)\n",
    "y = np.random.normal(-5,1,100).reshape(-1,1)\n",
    "z = np.random.normal(0,1,100).reshape(-1,1)\n",
    "newDat = np.concatenate((x,y,z), axis=1)\n",
    "Data = np.concatenate((Data,newDat))\n",
    "\n",
    "x = np.random.normal(0,1,100).reshape(-1,1)\n",
    "y = np.random.normal(0,1,100).reshape(-1,1)\n",
    "z = np.random.normal(5,1,100).reshape(-1,1)\n",
    "newDat = np.concatenate((x,y,z), axis=1)\n",
    "Data = np.concatenate((Data,newDat))\n",
    "\n",
    "s1 = np.random.normal(0,1,400).reshape(-1,1) # superfluous data\n",
    "s2 = np.random.normal(0,1,400).reshape(-1,1) # superfluous data\n",
    "\n",
    "Data = np.concatenate((Data, s1,s2), axis =1)\n",
    "np.random.shuffle(Data)\n",
    "print(Data.shape)"
   ]
  },
  {
   "cell_type": "code",
   "execution_count": 3,
   "id": "cb3d0af5",
   "metadata": {},
   "outputs": [
    {
     "data": {
      "text/plain": [
       "<matplotlib.collections.PathCollection at 0x7f465d3486a0>"
      ]
     },
     "execution_count": 3,
     "metadata": {},
     "output_type": "execute_result"
    },
    {
     "data": {
      "image/png": "[encoded data removed]",
      "text/plain": [
       "<Figure size 432x288 with 1 Axes>"
      ]
     },
     "metadata": {
      "needs_background": "light"
     },
     "output_type": "display_data"
    }
   ],
   "source": [
    "plt.scatter(Data[:,1], Data[:,2])"
   ]
  },
  {
   "cell_type": "code",
   "execution_count": 4,
   "id": "ab7028a5",
   "metadata": {},
   "outputs": [
    {
     "data": {
      "text/plain": [
       "array([ 1.38299725,  4.40664361, -0.56009295,  0.15330679,  0.03168205])"
      ]
     },
     "execution_count": 4,
     "metadata": {},
     "output_type": "execute_result"
    }
   ],
   "source": [
    "Data[0,:]\n",
    "# should be array([ 1.38299725,  4.40664361, -0.56009295,  0.15330679,  0.03168205])"
   ]
  },
  {
   "cell_type": "code",
   "execution_count": 5,
   "id": "d8bb15d2",
   "metadata": {
    "scrolled": true
   },
   "outputs": [
    {
     "name": "stdout",
     "output_type": "stream",
     "text": [
      "[[ 1.71574206e-02 -1.76319542e-01  5.06252265e+00  1.07430050e-01\n",
      "   1.28495164e-01]\n",
      " [ 5.03798883e+00 -5.01356819e+00 -4.52937721e-02 -4.56142331e-03\n",
      "   5.74825979e-02]\n",
      " [ 1.04955543e-01  4.80794571e+00  1.09065574e-01  1.16696186e-01\n",
      "  -4.57392771e-02]\n",
      " [ 3.87275062e-02 -7.01581725e-02  1.24402617e-01  9.26459280e-02\n",
      "   7.63761552e-02]]\n",
      "[2 2 1 1 0 0 0 3 1 1 2 1 2 3 1 1 3 2 2 3 1 3 1 3 2 1 1 0 2 3 0 2 1 0 3 2 3\n",
      " 3 3 2 1 1 2 0 3 3 3 2 1 3 1 2 0 0 3 2 1 3 1 3 1 0 3 2 0 0 3 0 1 2 0 1 0 0\n",
      " 2 1 2 3 0 1 1 3 1 2 1 1 1 1 0 3 1 3 1 1 1 0 2 0 0 0 1 1 1 1 0 2 1 1 3 2 2\n",
      " 2 1 1 3 1 0 3 2 2 1 2 1 1 1 3 0 0 2 0 2 0 3 2 2 3 1 3 3 2 0 1 3 0 3 2 0 2\n",
      " 0 1 1 0 3 0 3 2 0 1 2 2 1 1 2 0 2 1 0 2 3 3 2 2 0 1 1 1 2 0 3 2 3 1 2 0 1\n",
      " 3 3 1 1 2 1 3 0 3 3 0 3 0 3 3 3 0 3 2 1 0 0 3 0 1 1 1 3 3 3 0 3 2 0 3 2 1\n",
      " 0 3 0 0 1 1 1 2 0 3 2 3 2 3 0 1 2 0 0 2 1 0 0 3 3 2 3 2 3 2 2 3 0 2 0 0 2\n",
      " 3 2 0 1 1 3 2 0 0 0 1 0 1 3 2 0 1 0 0 2 1 1 3 1 2 0 2 3 1 3 0 1 2 0 1 2 0\n",
      " 3 3 0 2 1 1 2 0 0 1 2 0 2 2 0 3 0 3 3 0 3 0 1 0 0 0 3 0 1 2 1 1 2 3 3 2 2\n",
      " 0 2 0 2 3 2 0 1 2 0 0 3 0 2 0 3 2 0 2 2 0 3 0 2 1 2 2 3 3 3 0 3 2 2 3 3 1\n",
      " 3 0 2 3 1 1 2 0 1 0 0 1 3 2 2 2 0 2 3 1 3 3 2 1 3 3 2 1 3 2]\n"
     ]
    }
   ],
   "source": [
    "nKM = 4 # Number of Clusters\n",
    "kmeans = KMeans(n_clusters=nKM, random_state=0).fit(Data)\n",
    "print(kmeans.cluster_centers_)\n",
    "print(kmeans.labels_)"
   ]
  },
  {
   "cell_type": "markdown",
   "id": "0013f5b8",
   "metadata": {},
   "source": [
    "## Neuralising K-Means\n",
    "\n",
    "We neuralise the clustering classifier with respect to class 0, i.e. write a net that should tell us whether an instance belongs to class 0 or not."
   ]
  },
  {
   "cell_type": "code",
   "execution_count": 6,
   "id": "0faeb4a8",
   "metadata": {},
   "outputs": [
    {
     "data": {
      "text/plain": [
       "array([  0.        ,  35.04847864,  -2.44088379, -15.8976728 ])"
      ]
     },
     "execution_count": 6,
     "metadata": {},
     "output_type": "execute_result"
    }
   ],
   "source": [
    "def layer1(x, centroids, i):\n",
    "    # takes one instance x, centroid-matrix and index of ith centroid\n",
    "    # returns values for the distances to centroid i\n",
    "    mu_c = centroids[i]\n",
    "    w = 2*(mu_c - centroids)\n",
    "    b = (centroids**2.).sum(1) - (mu_c**2.).sum()\n",
    "    h = w.dot(x) + b\n",
    "    return(h)\n",
    "x = np.ones(Data.shape[1])\n",
    "layer1(x, kmeans.cluster_centers_, 0)\n",
    "    "
   ]
  },
  {
   "cell_type": "code",
   "execution_count": 7,
   "id": "5763843e",
   "metadata": {},
   "outputs": [
    {
     "name": "stdout",
     "output_type": "stream",
     "text": [
      "False\n",
      "False\n",
      "False\n",
      "True\n"
     ]
    }
   ],
   "source": [
    "def layer2(h):\n",
    "    return(min(h) >= 0)\n",
    "\n",
    "for i in range(nKM):\n",
    "    print(layer2(layer1(x, \n",
    "                   kmeans.cluster_centers_,\n",
    "                   i)))"
   ]
  },
  {
   "cell_type": "code",
   "execution_count": 8,
   "id": "23798bb2",
   "metadata": {},
   "outputs": [
    {
     "name": "stdout",
     "output_type": "stream",
     "text": [
      "False\n",
      "False\n",
      "False\n",
      "True\n"
     ]
    }
   ],
   "source": [
    "def layer2(h,i):\n",
    "    # i is the index of the cluster which we \"test\" here\n",
    "    Indices = np.arange(len(h))\n",
    "    return(min(h[Indices!=i]) )\n",
    "\n",
    "def DecisionLayer(Minimum):\n",
    "    return(Minimum > 0)\n",
    "\n",
    "\n",
    "for i in range(nKM):\n",
    "    print(DecisionLayer(layer2(layer1(x, \n",
    "                   kmeans.cluster_centers_,\n",
    "                   i),i)))"
   ]
  },
  {
   "cell_type": "markdown",
   "id": "22c9ffc4",
   "metadata": {},
   "source": [
    "### Testing this 2-Layer-NN"
   ]
  },
  {
   "cell_type": "code",
   "execution_count": 9,
   "id": "fad1d554",
   "metadata": {},
   "outputs": [],
   "source": [
    "X = np.random.multivariate_normal(np.ones(Data.shape[1])*2.5, \n",
    "                              np.eye(Data.shape[1]), \n",
    "                              size=1000)\n",
    "Cluster_Pred = kmeans.predict(X)"
   ]
  },
  {
   "cell_type": "code",
   "execution_count": 10,
   "id": "4640b322",
   "metadata": {},
   "outputs": [],
   "source": [
    "# Now predict via the layers\n",
    "Layer_Pred = np.empty(1000)\n",
    "\n",
    "\n",
    "\n",
    "for i in range(1000):\n",
    "    for j in range(nKM):\n",
    "        Decision = DecisionLayer(layer2(layer1(X[i,:],\n",
    "                                               kmeans.cluster_centers_,\n",
    "                                               j),\n",
    "                                        j))\n",
    "        if Decision:\n",
    "            Layer_Pred[i] = range(nKM)[j]\n"
   ]
  },
  {
   "cell_type": "code",
   "execution_count": 11,
   "id": "0d549163",
   "metadata": {},
   "outputs": [
    {
     "data": {
      "text/plain": [
       "0"
      ]
     },
     "execution_count": 11,
     "metadata": {},
     "output_type": "execute_result"
    }
   ],
   "source": [
    "sum(Layer_Pred != Cluster_Pred)\n",
    "# Very good! The numerics don't introduce any unexpected errors!"
   ]
  },
  {
   "cell_type": "markdown",
   "id": "b245c617",
   "metadata": {},
   "source": [
    "## Layer Relevance Propagation\n"
   ]
  },
  {
   "cell_type": "code",
   "execution_count": 12,
   "id": "b4bd7bdf",
   "metadata": {},
   "outputs": [],
   "source": [
    "\n",
    "\n",
    "def NN_k(x,centroids,k):\n",
    "    # checks if x belongs to kth cluster\n",
    "    return(layer2(layer1(x,centroids,k),k))"
   ]
  },
  {
   "cell_type": "code",
   "execution_count": 13,
   "id": "dc2d6575",
   "metadata": {},
   "outputs": [],
   "source": [
    "Is0 = np.empty(Data.shape[0]) # Output-array whether jth instance is assigned to cluster 0\n",
    "for i in range(len(Is0)):\n",
    "    Is0[i] = DecisionLayer(NN_k(Data[i,:], \n",
    "                                kmeans.cluster_centers_, \n",
    "                                0))\n"
   ]
  },
  {
   "cell_type": "code",
   "execution_count": 14,
   "id": "7d61cbc5",
   "metadata": {
    "scrolled": true
   },
   "outputs": [
    {
     "name": "stdout",
     "output_type": "stream",
     "text": [
      "Should all be 0: [0 0 0 0 0 0 0 0 0 0 0 0 0 0 0 0 0 0 0 0 0 0 0 0 0 0 0 0 0 0 0 0 0 0 0 0 0\n",
      " 0 0 0 0 0 0 0 0 0 0 0 0 0 0 0 0 0 0 0 0 0 0 0 0 0 0 0 0 0 0 0 0 0 0 0 0 0\n",
      " 0 0 0 0 0 0 0 0 0 0 0 0 0 0 0 0 0 0 0 0 0 0 0 0 0 0 0]\n",
      "Should all be nonzero: [2 2 1 1 3 1 1 2 1 2 3 1 1 3 2 2 3 1 3 1 3 2 1 1 2 3 2 1 3 2 3 3 3 2 1 1 2\n",
      " 3 3 3 2 1 3 1 2 3 2 1 3 1 3 1 3 2 3 1 2 1 2 1 2 3 1 1 3 1 2 1 1 1 1 3 1 3\n",
      " 1 1 1 2 1 1 1 1 2 1 1 3 2 2 2 1 1 3 1 3 2 2 1 2 1 1 1 3 2 2 3 2 2 3 1 3 3\n",
      " 2 1 3 3 2 2 1 1 3 3 2 1 2 2 1 1 2 2 1 2 3 3 2 2 1 1 1 2 3 2 3 1 2 1 3 3 1\n",
      " 1 2 1 3 3 3 3 3 3 3 3 2 1 3 1 1 1 3 3 3 3 2 3 2 1 3 1 1 1 2 3 2 3 2 3 1 2\n",
      " 2 1 3 3 2 3 2 3 2 2 3 2 2 3 2 1 1 3 2 1 1 3 2 1 2 1 1 3 1 2 2 3 1 3 1 2 1\n",
      " 2 3 3 2 1 1 2 1 2 2 2 3 3 3 3 1 3 1 2 1 1 2 3 3 2 2 2 2 3 2 1 2 3 2 3 2 2\n",
      " 2 3 2 1 2 2 3 3 3 3 2 2 3 3 1 3 2 3 1 1 2 1 1 3 2 2 2 2 3 1 3 3 2 1 3 3 2\n",
      " 1 3 2]\n"
     ]
    }
   ],
   "source": [
    "print(\"Should all be 0:\", kmeans.labels_[Is0 == 1])\n",
    "print(\"Should all be nonzero:\",kmeans.labels_[Is0 != 1])\n",
    "# Good!"
   ]
  },
  {
   "cell_type": "code",
   "execution_count": 15,
   "id": "580ec50d",
   "metadata": {},
   "outputs": [],
   "source": [
    "def beta(X, i, DecisionL, NN, Centroids):\n",
    "    # Takes the Data X, a particular class i, a Decision Layer DecisionL and Neuralised kmeans NN = NN(x,centroids,k)\n",
    "    # Returns the beta-scaling factor from eq. (3)\n",
    "    IS_i = np.empty(X.shape[0])\n",
    "    \n",
    "    for j in range(X.shape[0]):\n",
    "        IS_i[j] = NN(X[j,:],\n",
    "                     Centroids,\n",
    "                     i)\n",
    "    return( np.mean(IS_i)**(-1.))\n",
    "    "
   ]
  },
  {
   "cell_type": "code",
   "execution_count": 16,
   "id": "ab17ebc4",
   "metadata": {},
   "outputs": [
    {
     "name": "stdout",
     "output_type": "stream",
     "text": [
      "-0.050356586650341914\n"
     ]
    }
   ],
   "source": [
    "# just for testing purposes \n",
    "Beta = beta(Data, 3, DecisionLayer, NN_k, kmeans.cluster_centers_)\n",
    "print(Beta)"
   ]
  },
  {
   "cell_type": "code",
   "execution_count": 17,
   "id": "30c33029",
   "metadata": {},
   "outputs": [],
   "source": [
    "## IMPLEMENT EQUATION (2)\n",
    "\n",
    "\n",
    "#For one particular data point x\n",
    "x = np.zeros(Data.shape[1])\n",
    "x[0] = 4.5\n",
    "x[1] = -2.\n",
    "\n"
   ]
  },
  {
   "cell_type": "markdown",
   "id": "449f67ab",
   "metadata": {},
   "source": [
    "#### Try to modularise the LRP\n"
   ]
  },
  {
   "cell_type": "code",
   "execution_count": 18,
   "id": "d63b2fe7",
   "metadata": {},
   "outputs": [
    {
     "name": "stdout",
     "output_type": "stream",
     "text": [
      "[ 4.5 -2.   0.   0.   0. ]\n",
      "[0.27882562 0.03776208 0.64366225 0.07751213]\n",
      "[0.29036775 0.03932526 0.67030699 0.08072078]\n"
     ]
    }
   ],
   "source": [
    "## IMPLEMENT EQUATION (2)\n",
    "\n",
    "\n",
    "\n",
    "def Eq2(X, Centroids, c, beta):\n",
    "    # take one Data.point X, the cluster Centroids and the cluster of interest c, scaling factor beta\n",
    "    # output: R_k - array as in equation (2)\n",
    "    \n",
    "    n_C = Centroids.shape[0]\n",
    "    \n",
    "    H_k = layer1(X, Centroids, c)\n",
    "    F_c = layer2(H_k, c)\n",
    "    \n",
    "    # numerator of eq. (2)\n",
    "    r_k_func = np.exp(-beta * H_k) * F_c\n",
    "    \n",
    "    R_k_out = r_k_func / sum(r_k_func[np.arange(n_C) != c])\n",
    "    #print(range(n_C), range(n_C) != c)\n",
    "    return(R_k_out)\n",
    "print(x)\n",
    "\n",
    "print(Eq2(x, kmeans.cluster_centers_, \n",
    "          kmeans.predict(x.reshape(1, -1)),\n",
    "          Beta))\n",
    "print(Eq2(x, kmeans.cluster_centers_, 3, Beta))\n"
   ]
  },
  {
   "cell_type": "code",
   "execution_count": 19,
   "id": "3c0e9c28",
   "metadata": {},
   "outputs": [],
   "source": [
    "def Eq4(X, Centroids, c, beta):\n",
    "\n",
    "    n_C = Centroids.shape[0]\n",
    "    Index = (np.arange(n_C) != c) # index of \"all clusters except c\"\n",
    "    \n",
    "    R_previous = Eq2(X, Centroids, c, beta) # from Equation (2)\n",
    "    R_previous_reduced = R_previous[Index]\n",
    "    MU_c = Centroids[c]\n",
    "    M_k = 0.5*(Centroids + MU_c)\n",
    "    DIFF_x_m = X - M_k\n",
    "    \n",
    "    DIFF_x_m_reduced = DIFF_x_m[Index]\n",
    "    \n",
    "    W = 2*(MU_c - Centroids)\n",
    "    W_reduced = W[Index]\n",
    "    \n",
    "    Prod = np.multiply(DIFF_x_m_reduced, W_reduced)\n",
    "    \n",
    "    R_InputLayer = np.zeros(len(X)) # relevance of each input-feature\n",
    "    \n",
    "    for i in range(len(R_InputLayer)):\n",
    "        for k in range(n_C-1):\n",
    "            R_InputLayer[i] += Prod[k,i] * R_previous_reduced[k] / np.sum(Prod[k,:])\n",
    "    \n",
    "    return(R_InputLayer)"
   ]
  },
  {
   "cell_type": "markdown",
   "id": "a2c96054",
   "metadata": {},
   "source": [
    "## MAIN FUNCTION\n",
    "\n",
    "The function xai_clust combines everything from the above. It includes the beta-selection as of equation (3)."
   ]
  },
  {
   "cell_type": "code",
   "execution_count": 20,
   "id": "2fd9352e",
   "metadata": {},
   "outputs": [],
   "source": [
    "\n",
    "def xai_clust(X, Centroids, X_Label, Dat, DecisionL, Neuralised):\n",
    "\n",
    "    return(Eq4(X, Centroids,  X_Label,\n",
    "           beta(Dat, X_Label, DecisionL, Neuralised, Centroids)))\n"
   ]
  },
  {
   "cell_type": "markdown",
   "id": "e713b723",
   "metadata": {},
   "source": [
    "#### Let's try out different cluster assignments\n",
    "By varying the parameter i, we can see which features of x would influence the decision towards i, if i actually was the predicted cluster. Note that this XAI-method does not tell us which cluster has actually been selected, one has to specify this (e.g. as i=kmeans.predict(x.reshape(-1,1)"
   ]
  },
  {
   "cell_type": "code",
   "execution_count": 21,
   "id": "b26c119b",
   "metadata": {},
   "outputs": [
    {
     "name": "stdout",
     "output_type": "stream",
     "text": [
      "x [ 4.5 -2.   0.   0.   0. ]\n",
      "Predicted label is 1\n",
      "0 [ 0.   1.8 -0.8  0.  -0. ]\n",
      "1 [0.6 0.2 0.2 0.  0. ]\n",
      "2 [ 0.   1.8 -0.8  0.  -0. ]\n",
      "3 [0.  0.7 0.3 0.  0. ]\n"
     ]
    }
   ],
   "source": [
    "x = np.zeros(Data.shape[1])\n",
    "x[0] = 4.5\n",
    "x[1] = -2.\n",
    "print(\"x\", x)\n",
    "print(\"Predicted label is\", kmeans.predict(x.reshape(1,-1))[0])\n",
    "\n",
    "for i in range(kmeans.cluster_centers_.shape[0]):\n",
    "    print(i,xai_clust(x, kmeans.cluster_centers_, i, Data, DecisionLayer, NN_k).round(1))"
   ]
  },
  {
   "cell_type": "code",
   "execution_count": 22,
   "id": "58e866e3",
   "metadata": {},
   "outputs": [
    {
     "name": "stdout",
     "output_type": "stream",
     "text": [
      "Compared to the centroids:\n",
      "[[ 0.  -0.2  5.1  0.1  0.1]\n",
      " [ 5.  -5.  -0.  -0.   0.1]\n",
      " [ 0.1  4.8  0.1  0.1 -0. ]\n",
      " [ 0.  -0.1  0.1  0.1  0.1]]\n"
     ]
    }
   ],
   "source": [
    "print(\"Compared to the centroids:\")\n",
    "print(kmeans.cluster_centers_.round(1))"
   ]
  },
  {
   "cell_type": "markdown",
   "id": "6b111e5b",
   "metadata": {},
   "source": [
    "Note that for the truly predcited label, the XAI attributes high relevance for x[0]. That makes sense, because both x[0] and the associated centroid are much larger than the 0th feature of all other centroids. "
   ]
  },
  {
   "cell_type": "markdown",
   "id": "c8ba2739",
   "metadata": {},
   "source": [
    "#### And another example\n",
    "\n",
    "Now for something that is in-between the clusters 1 and 3: What will happen now?"
   ]
  },
  {
   "cell_type": "code",
   "execution_count": 23,
   "id": "23df5631",
   "metadata": {},
   "outputs": [
    {
     "name": "stdout",
     "output_type": "stream",
     "text": [
      "[0.  5.  5.  0.1 0.1] [2]\n"
     ]
    }
   ],
   "source": [
    "x_none = np.array([0., 5, 5, 0.1, 0.1])\n",
    "print(x_none, kmeans.predict(x_none.reshape(1,-1)))"
   ]
  },
  {
   "cell_type": "code",
   "execution_count": 24,
   "id": "44feece3",
   "metadata": {},
   "outputs": [
    {
     "name": "stdout",
     "output_type": "stream",
     "text": [
      "0 [ 0.2  0.7  0.1  0.  -0. ]\n",
      "1 [ 0.2  0.7  0.1  0.  -0. ]\n",
      "2 [ 0.2  1.2 -0.4  0.  -0. ]\n",
      "3 [0.2 0.7 0.  0.  0. ]\n"
     ]
    }
   ],
   "source": [
    "for i in range(kmeans.cluster_centers_.shape[0]):\n",
    "    print(i, xai_clust(x_none, kmeans.cluster_centers_, i, Data, DecisionLayer, NN_k).round(1))"
   ]
  },
  {
   "cell_type": "code",
   "execution_count": 25,
   "id": "01dd939e",
   "metadata": {},
   "outputs": [
    {
     "name": "stdout",
     "output_type": "stream",
     "text": [
      "Explanation of the real prediction x_hat = 2\n",
      "[ 0.2  1.2 -0.4  0.  -0. ]\n"
     ]
    }
   ],
   "source": [
    "print(\"Explanation of the real prediction x_hat =\", kmeans.predict(x_none.reshape(1,-1))[0])\n",
    "print(xai_clust(x_none, kmeans.cluster_centers_, \n",
    "                kmeans.predict(x_none.reshape(1,-1))[0],\n",
    "                Data, DecisionLayer, NN_k).round(1))"
   ]
  },
  {
   "cell_type": "markdown",
   "id": "1c0ad101",
   "metadata": {},
   "source": [
    "Interstingly, this clearly out-of-sample instance has absolute relevance values above 1. May this be a sign of the instance not being in any of the known clusters, i.e. an outlier or new cluster?"
   ]
  },
  {
   "cell_type": "markdown",
   "id": "276fd887",
   "metadata": {},
   "source": [
    "#### Randomised Example"
   ]
  },
  {
   "cell_type": "code",
   "execution_count": 26,
   "id": "6cc24763",
   "metadata": {},
   "outputs": [
    {
     "name": "stdout",
     "output_type": "stream",
     "text": [
      "[ 2.94287033 -0.38195139  4.86541394  1.37469621  0.55882253] [0]\n",
      "Cluster Centers:\n",
      "[[ 0.  -0.2  5.1  0.1  0.1]\n",
      " [ 5.  -5.  -0.  -0.   0.1]\n",
      " [ 0.1  4.8  0.1  0.1 -0. ]\n",
      " [ 0.  -0.1  0.1  0.1  0.1]]\n",
      "Explanation: [-0.   0.4  0.6  0.   0. ]\n"
     ]
    }
   ],
   "source": [
    "np.random.seed(1234)\n",
    "x_rand = np.random.normal(2,2,5)\n",
    "\n",
    "print(x_rand, kmeans.predict(x_rand.reshape(1,-1)))\n",
    "\n",
    "print(\"Cluster Centers:\")\n",
    "print(kmeans.cluster_centers_.round(1))\n",
    "print(\"Explanation:\", xai_clust(x_rand, kmeans.cluster_centers_, \n",
    "                kmeans.predict(x_rand.reshape(1,-1))[0],\n",
    "                Data, DecisionLayer, NN_k).round(1))"
   ]
  },
  {
   "cell_type": "markdown",
   "id": "cba4434b",
   "metadata": {},
   "source": [
    "Interpretation:\n",
    "This instance is assigned to its cluster mainly (high relevance value) because of its 1st and 2nd feature's value. \n"
   ]
  },
  {
   "cell_type": "markdown",
   "id": "ba5421a1",
   "metadata": {},
   "source": [
    "## Go through entire training data\n",
    "\n",
    "We look at the XAI values for each feature of every instance with respect to its kmeans-prediction. Then, we will plot the kernel densities of these importance values to see if the overall feature importance aligns with our knowledge about the data."
   ]
  },
  {
   "cell_type": "code",
   "execution_count": 27,
   "id": "a60acd66",
   "metadata": {},
   "outputs": [
    {
     "name": "stdout",
     "output_type": "stream",
     "text": [
      "[[ 0.1  0.8  0.1  0.  -0. ]\n",
      " [ 0.1  0.8  0.1 -0.  -0. ]\n",
      " [ 0.3  0.7  0.1 -0.   0. ]\n",
      " ...\n",
      " [ 0.4  0.6  0.1 -0.   0. ]\n",
      " [ 0.   0.7  0.2  0.   0. ]\n",
      " [ 0.2  0.7  0.   0.   0. ]]\n"
     ]
    }
   ],
   "source": [
    "XAI = np.zeros(Data.shape)\n",
    "Labels = np.zeros(Data.shape[0])\n",
    "\n",
    "for i in range(Data.shape[0]):\n",
    "    x = Data[i,:]\n",
    "    XAI[i,:] = xai_clust(x, kmeans.cluster_centers_, kmeans.predict(x.reshape(1,-1)),\n",
    "                    Data, DecisionLayer, NN_k)\n",
    "    Labels[i] = kmeans.predict(x.reshape(1,-1))\n",
    "print(XAI.round(1))"
   ]
  },
  {
   "cell_type": "code",
   "execution_count": 28,
   "id": "fd675c75",
   "metadata": {
    "scrolled": true
   },
   "outputs": [
    {
     "name": "stdout",
     "output_type": "stream",
     "text": [
      "Cluster 0 with centroid [ 0.02 -0.18  5.06  0.11  0.13]\n"
     ]
    },
    {
     "data": {
      "image/png": "[encoded data removed]",
      "text/plain": [
       "<Figure size 432x288 with 1 Axes>"
      ]
     },
     "metadata": {
      "needs_background": "light"
     },
     "output_type": "display_data"
    },
    {
     "name": "stdout",
     "output_type": "stream",
     "text": [
      "Cluster 1 with centroid [ 5.04 -5.01 -0.05 -0.    0.06]\n"
     ]
    },
    {
     "data": {
      "image/png": "[encoded data removed]",
      "text/plain": [
       "<Figure size 432x288 with 1 Axes>"
      ]
     },
     "metadata": {
      "needs_background": "light"
     },
     "output_type": "display_data"
    },
    {
     "name": "stdout",
     "output_type": "stream",
     "text": [
      "Cluster 2 with centroid [ 0.1   4.81  0.11  0.12 -0.05]\n"
     ]
    },
    {
     "data": {
      "image/png": "[encoded data removed]",
      "text/plain": [
       "<Figure size 432x288 with 1 Axes>"
      ]
     },
     "metadata": {
      "needs_background": "light"
     },
     "output_type": "display_data"
    },
    {
     "name": "stdout",
     "output_type": "stream",
     "text": [
      "Cluster 3 with centroid [ 0.04 -0.07  0.12  0.09  0.08]\n"
     ]
    },
    {
     "data": {
      "image/png": "[encoded data removed]",
      "text/plain": [
       "<Figure size 432x288 with 1 Axes>"
      ]
     },
     "metadata": {
      "needs_background": "light"
     },
     "output_type": "display_data"
    }
   ],
   "source": [
    "import warnings\n",
    "warnings.filterwarnings(\"ignore\")\n",
    "\n",
    "for i in range(nKM):\n",
    "    print(\"Cluster\", i, \"with centroid\", kmeans.cluster_centers_[i].round(2))\n",
    "    plt.yscale(\"symlog\", linthresh=1)\n",
    "    for j in range(Data.shape[1]):\n",
    "        sns.kdeplot(XAI[Labels==i,j], label=\"Feature \" +str(j))\n",
    "    plt.title(\"Kernel Densities for Cluster \"+str(i))\n",
    "    plt.ylabel(\"Symlog Density\")\n",
    "    plt.xlabel(\"Feature XAI-Importance Values\")\n",
    "    plt.legend()\n",
    "    plt.show()"
   ]
  },
  {
   "cell_type": "markdown",
   "id": "5b52835b",
   "metadata": {},
   "source": [
    "As it should, no cluster has any meaningful importance for features 3 and 4. The clusters with clearly nonzero values for some of their centroid's features assign the highest importance to those nonzero features, which makes sense."
   ]
  }
 ],
 "metadata": {
  "kernelspec": {
   "display_name": "Python 3 (ipykernel)",
   "language": "python",
   "name": "python3"
  },
  "language_info": {
   "codemirror_mode": {
    "name": "ipython",
    "version": 3
   },
   "file_extension": ".py",
   "mimetype": "text/x-python",
   "name": "python",
   "nbconvert_exporter": "python",
   "pygments_lexer": "ipython3",
   "version": "3.7.3"
  }
 },
 "nbformat": 4,
 "nbformat_minor": 5
}

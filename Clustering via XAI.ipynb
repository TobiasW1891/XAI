{
 "cells": [
  {
   "cell_type": "markdown",
   "id": "accad1ad",
   "metadata": {},
   "source": [
    "# Clustering via XAI\n",
    "\n",
    "This notebook takes a kmeans-clustering algorithm and rewrites it as a 2-layer Neural Net, following Kauffmann et al. 2021 (https://arxiv.org/abs/1906.07633). Then, one can use XAI-techniques to analyse the NN. Kauffmann et al. propose Layer-Relevance-Propagation LRP (which will be implemented at a later stage in this notebook)."
   ]
  },
  {
   "cell_type": "code",
   "execution_count": 1,
   "id": "f6735cce",
   "metadata": {},
   "outputs": [],
   "source": [
    "import numpy as np\n",
    "import matplotlib.pyplot as plt\n",
    "from sklearn.cluster import *"
   ]
  },
  {
   "cell_type": "code",
   "execution_count": 2,
   "id": "7e0fc710",
   "metadata": {},
   "outputs": [
    {
     "name": "stdout",
     "output_type": "stream",
     "text": [
      "(400, 3)\n"
     ]
    }
   ],
   "source": [
    "x = np.random.normal(0,1,100).reshape(-1,1)\n",
    "y = np.random.normal(0,1,100).reshape(-1,1)\n",
    "z = np.random.normal(0,1,100).reshape(-1,1)\n",
    "Data = np.concatenate((x,y,z), axis=1)\n",
    "\n",
    "x = np.random.normal(0,1,100).reshape(-1,1)\n",
    "y = np.random.normal(5,1,100).reshape(-1,1)\n",
    "z = np.random.normal(0,1,100).reshape(-1,1)\n",
    "newDat = np.concatenate((x,y,z), axis=1)\n",
    "Data = np.concatenate((Data,newDat))\n",
    "\n",
    "x = np.random.normal(5,1,100).reshape(-1,1)\n",
    "y = np.random.normal(-5,1,100).reshape(-1,1)\n",
    "z = np.random.normal(0,1,100).reshape(-1,1)\n",
    "newDat = np.concatenate((x,y,z), axis=1)\n",
    "Data = np.concatenate((Data,newDat))\n",
    "\n",
    "x = np.random.normal(0,1,100).reshape(-1,1)\n",
    "y = np.random.normal(0,1,100).reshape(-1,1)\n",
    "z = np.random.normal(5,1,100).reshape(-1,1)\n",
    "newDat = np.concatenate((x,y,z), axis=1)\n",
    "Data = np.concatenate((Data,newDat))\n",
    "print(Data.shape)"
   ]
  },
  {
   "cell_type": "code",
   "execution_count": 3,
   "id": "df86fedb",
   "metadata": {},
   "outputs": [
    {
     "data": {
      "text/plain": [
       "<matplotlib.collections.PathCollection at 0x7f736becbda0>"
      ]
     },
     "execution_count": 3,
     "metadata": {},
     "output_type": "execute_result"
    },
    {
     "data": {
      "image/png": "[encoded data removed]",
      "text/plain": [
       "<Figure size 432x288 with 1 Axes>"
      ]
     },
     "metadata": {
      "needs_background": "light"
     },
     "output_type": "display_data"
    }
   ],
   "source": [
    "plt.scatter(Data[:,1], Data[:,2])"
   ]
  },
  {
   "cell_type": "code",
   "execution_count": 4,
   "id": "0632e8c8",
   "metadata": {
    "scrolled": true
   },
   "outputs": [
    {
     "name": "stdout",
     "output_type": "stream",
     "text": [
      "[[-0.09445339  5.1748603  -0.04592667]\n",
      " [ 5.03976267 -5.04148153 -0.03570522]\n",
      " [ 0.03921555  0.19500331  5.13025017]\n",
      " [ 0.0370871   0.19722005 -0.05196173]]\n",
      "[3 3 3 3 3 3 3 3 3 3 3 3 3 3 3 3 3 3 3 3 3 3 3 3 3 3 3 3 3 3 3 3 3 3 3 3 3\n",
      " 3 3 3 3 3 3 3 3 3 3 3 3 3 3 3 3 3 3 3 3 3 3 3 3 3 3 3 3 3 3 3 3 3 3 3 3 3\n",
      " 3 3 3 3 3 3 3 3 3 3 3 3 3 3 3 3 3 3 3 3 3 3 3 3 3 3 0 0 0 0 0 0 0 0 0 0 0\n",
      " 0 0 0 0 0 0 0 0 0 0 0 0 0 0 0 0 0 0 0 0 0 0 0 0 0 0 0 0 0 0 0 0 0 0 0 0 0\n",
      " 0 0 0 0 0 0 0 0 0 0 0 0 0 0 0 0 0 0 0 0 0 0 0 0 0 0 0 3 0 0 0 0 0 0 0 0 0\n",
      " 0 0 0 0 0 0 0 0 0 0 0 0 0 0 0 1 1 1 1 1 1 1 1 1 1 1 1 1 1 1 1 1 1 1 1 1 1\n",
      " 1 1 1 1 1 1 1 1 1 1 1 1 1 1 1 1 1 1 1 1 1 1 1 1 1 1 1 1 1 1 1 1 1 1 1 1 1\n",
      " 1 1 1 1 1 1 1 1 1 1 1 1 1 1 1 1 1 1 1 1 1 1 1 1 1 1 1 1 1 1 1 1 1 1 1 1 1\n",
      " 1 1 1 1 2 2 2 2 2 2 2 2 2 2 2 2 2 2 2 2 2 2 2 2 2 2 2 2 2 2 2 2 2 2 2 2 2\n",
      " 2 2 3 2 2 2 2 2 2 2 2 2 2 2 2 2 2 2 2 2 2 2 2 2 2 2 2 2 2 2 2 2 2 2 2 2 2\n",
      " 2 2 2 2 2 2 2 2 2 2 2 2 2 2 2 2 2 2 2 2 2 2 2 2 2 2 2 2 2 2]\n"
     ]
    }
   ],
   "source": [
    "kmeans = KMeans(n_clusters=4, random_state=0).fit(Data)\n",
    "print(kmeans.cluster_centers_)\n",
    "print(kmeans.labels_)"
   ]
  },
  {
   "cell_type": "markdown",
   "id": "19faab6f",
   "metadata": {},
   "source": [
    "## Neuralising K-Means\n",
    "\n",
    "We neuralise the clustering classifier with respect to class 0, i.e. write a net that should tell us whether an instance belongs to class 0 or not."
   ]
  },
  {
   "cell_type": "code",
   "execution_count": 5,
   "id": "46a2ee61",
   "metadata": {},
   "outputs": [
    {
     "ename": "NameError",
     "evalue": "name 'mu' is not defined",
     "output_type": "error",
     "traceback": [
      "\u001b[0;31m---------------------------------------------------------------------------\u001b[0m",
      "\u001b[0;31mNameError\u001b[0m                                 Traceback (most recent call last)",
      "\u001b[0;32m/tmp/ipykernel_615216/1540719010.py\u001b[0m in \u001b[0;36m<module>\u001b[0;34m\u001b[0m\n\u001b[1;32m      8\u001b[0m     \u001b[0;32mreturn\u001b[0m\u001b[0;34m(\u001b[0m\u001b[0mh\u001b[0m\u001b[0;34m)\u001b[0m\u001b[0;34m\u001b[0m\u001b[0;34m\u001b[0m\u001b[0m\n\u001b[1;32m      9\u001b[0m \u001b[0;34m\u001b[0m\u001b[0m\n\u001b[0;32m---> 10\u001b[0;31m \u001b[0mlayer1\u001b[0m\u001b[0;34m(\u001b[0m\u001b[0mx\u001b[0m\u001b[0;34m,\u001b[0m \u001b[0mkmeans\u001b[0m\u001b[0;34m.\u001b[0m\u001b[0mcluster_centers_\u001b[0m\u001b[0;34m,\u001b[0m \u001b[0;36m0\u001b[0m\u001b[0;34m)\u001b[0m\u001b[0;34m\u001b[0m\u001b[0;34m\u001b[0m\u001b[0m\n\u001b[0m\u001b[1;32m     11\u001b[0m \u001b[0;34m\u001b[0m\u001b[0m\n",
      "\u001b[0;32m/tmp/ipykernel_615216/1540719010.py\u001b[0m in \u001b[0;36mlayer1\u001b[0;34m(x, centroids, i)\u001b[0m\n\u001b[1;32m      3\u001b[0m     \u001b[0;31m# returns values for the distances to centroid i\u001b[0m\u001b[0;34m\u001b[0m\u001b[0;34m\u001b[0m\u001b[0;34m\u001b[0m\u001b[0m\n\u001b[1;32m      4\u001b[0m     \u001b[0mmu_c\u001b[0m \u001b[0;34m=\u001b[0m \u001b[0mcentroids\u001b[0m\u001b[0;34m[\u001b[0m\u001b[0mi\u001b[0m\u001b[0;34m]\u001b[0m\u001b[0;34m\u001b[0m\u001b[0;34m\u001b[0m\u001b[0m\n\u001b[0;32m----> 5\u001b[0;31m     \u001b[0mw\u001b[0m \u001b[0;34m=\u001b[0m \u001b[0;36m2\u001b[0m\u001b[0;34m*\u001b[0m\u001b[0;34m(\u001b[0m\u001b[0mmu_c\u001b[0m \u001b[0;34m-\u001b[0m \u001b[0mmu\u001b[0m\u001b[0;34m)\u001b[0m\u001b[0;34m\u001b[0m\u001b[0;34m\u001b[0m\u001b[0m\n\u001b[0m\u001b[1;32m      6\u001b[0m     \u001b[0mb\u001b[0m \u001b[0;34m=\u001b[0m \u001b[0;34m(\u001b[0m\u001b[0mmu\u001b[0m\u001b[0;34m**\u001b[0m\u001b[0;36m2.\u001b[0m\u001b[0;34m)\u001b[0m\u001b[0;34m.\u001b[0m\u001b[0msum\u001b[0m\u001b[0;34m(\u001b[0m\u001b[0;36m1\u001b[0m\u001b[0;34m)\u001b[0m \u001b[0;34m-\u001b[0m \u001b[0;34m(\u001b[0m\u001b[0mmu_c\u001b[0m\u001b[0;34m**\u001b[0m\u001b[0;36m2.\u001b[0m\u001b[0;34m)\u001b[0m\u001b[0;34m.\u001b[0m\u001b[0msum\u001b[0m\u001b[0;34m(\u001b[0m\u001b[0;34m)\u001b[0m\u001b[0;34m\u001b[0m\u001b[0;34m\u001b[0m\u001b[0m\n\u001b[1;32m      7\u001b[0m     \u001b[0mh\u001b[0m \u001b[0;34m=\u001b[0m \u001b[0mw\u001b[0m\u001b[0;34m.\u001b[0m\u001b[0mdot\u001b[0m\u001b[0;34m(\u001b[0m\u001b[0mx\u001b[0m\u001b[0;34m)\u001b[0m \u001b[0;34m+\u001b[0m \u001b[0mb\u001b[0m\u001b[0;34m\u001b[0m\u001b[0;34m\u001b[0m\u001b[0m\n",
      "\u001b[0;31mNameError\u001b[0m: name 'mu' is not defined"
     ]
    }
   ],
   "source": [
    "def layer1(x, centroids, i):\n",
    "    # takes one instance x, centroid-matrix and index of ith centroid\n",
    "    # returns values for the distances to centroid i\n",
    "    mu_c = centroids[i]\n",
    "    w = 2*(mu_c - mu) \n",
    "    b = (mu**2.).sum(1) - (mu_c**2.).sum()\n",
    "    h = w.dot(x) + b\n",
    "    return(h)\n",
    "\n",
    "layer1(x, kmeans.cluster_centers_, 0)\n",
    "    "
   ]
  },
  {
   "cell_type": "code",
   "execution_count": null,
   "id": "5e80f354",
   "metadata": {},
   "outputs": [],
   "source": [
    "def layer2(h):\n",
    "    return(min(h) >= 0)\n",
    "\n",
    "for i in range(4):\n",
    "    print(layer2(layer1(x, \n",
    "                   kmeans.cluster_centers_,\n",
    "                   i)))"
   ]
  },
  {
   "cell_type": "markdown",
   "id": "17c98978",
   "metadata": {},
   "source": [
    "## Testing this 2-Layer-NN"
   ]
  },
  {
   "cell_type": "code",
   "execution_count": null,
   "id": "65207647",
   "metadata": {},
   "outputs": [],
   "source": [
    "X = np.random.multivariate_normal(np.ones(3)*2.5, \n",
    "                              np.eye(3), \n",
    "                              size=1000)\n",
    "Cluster_Pred = kmeans.predict(X)"
   ]
  },
  {
   "cell_type": "code",
   "execution_count": null,
   "id": "b7d9e1ff",
   "metadata": {},
   "outputs": [],
   "source": [
    "# Now predict via the layers\n",
    "Layer_Pred = np.empty(1000)\n",
    "\n",
    "\n",
    "\n",
    "for i in range(1000):\n",
    "    for j in range(4):\n",
    "        if layer2(layer1(X[i,:],kmeans.cluster_centers_,j)):\n",
    "            Layer_Pred[i] = range(4)[j]\n"
   ]
  },
  {
   "cell_type": "code",
   "execution_count": null,
   "id": "8183ea5e",
   "metadata": {},
   "outputs": [],
   "source": [
    "sum(Layer_Pred != Cluster_Pred)\n",
    "# Very good! The numerics don't introduce any unexpected errors!"
   ]
  }
 ],
 "metadata": {
  "kernelspec": {
   "display_name": "Python 3 (ipykernel)",
   "language": "python",
   "name": "python3"
  },
  "language_info": {
   "codemirror_mode": {
    "name": "ipython",
    "version": 3
   },
   "file_extension": ".py",
   "mimetype": "text/x-python",
   "name": "python",
   "nbconvert_exporter": "python",
   "pygments_lexer": "ipython3",
   "version": "3.7.3"
  }
 },
 "nbformat": 4,
 "nbformat_minor": 5
}

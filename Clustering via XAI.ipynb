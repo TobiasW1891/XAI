{
 "cells": [
  {
   "cell_type": "code",
   "execution_count": 1,
   "id": "33be4a13",
   "metadata": {},
   "outputs": [],
   "source": [
    "import numpy as np\n",
    "import matplotlib.pyplot as plt\n",
    "from sklearn.cluster import *"
   ]
  },
  {
   "cell_type": "code",
   "execution_count": 2,
   "id": "0a8ad8cf",
   "metadata": {},
   "outputs": [
    {
     "name": "stdout",
     "output_type": "stream",
     "text": [
      "(400, 3)\n"
     ]
    }
   ],
   "source": [
    "x = np.random.normal(0,1,100).reshape(-1,1)\n",
    "y = np.random.normal(0,1,100).reshape(-1,1)\n",
    "z = np.random.normal(0,1,100).reshape(-1,1)\n",
    "Data = np.concatenate((x,y,z), axis=1)\n",
    "\n",
    "x = np.random.normal(0,1,100).reshape(-1,1)\n",
    "y = np.random.normal(5,1,100).reshape(-1,1)\n",
    "z = np.random.normal(0,1,100).reshape(-1,1)\n",
    "newDat = np.concatenate((x,y,z), axis=1)\n",
    "Data = np.concatenate((Data,newDat))\n",
    "\n",
    "x = np.random.normal(5,1,100).reshape(-1,1)\n",
    "y = np.random.normal(-5,1,100).reshape(-1,1)\n",
    "z = np.random.normal(0,1,100).reshape(-1,1)\n",
    "newDat = np.concatenate((x,y,z), axis=1)\n",
    "Data = np.concatenate((Data,newDat))\n",
    "\n",
    "x = np.random.normal(0,1,100).reshape(-1,1)\n",
    "y = np.random.normal(0,1,100).reshape(-1,1)\n",
    "z = np.random.normal(5,1,100).reshape(-1,1)\n",
    "newDat = np.concatenate((x,y,z), axis=1)\n",
    "Data = np.concatenate((Data,newDat))\n",
    "print(Data.shape)"
   ]
  },
  {
   "cell_type": "code",
   "execution_count": 3,
   "id": "f39b3b67",
   "metadata": {},
   "outputs": [
    {
     "data": {
      "text/plain": [
       "<matplotlib.collections.PathCollection at 0x7f4d62d09198>"
      ]
     },
     "execution_count": 3,
     "metadata": {},
     "output_type": "execute_result"
    },
    {
     "data": {
      "image/png": "[encoded data removed]",
      "text/plain": [
       "<Figure size 432x288 with 1 Axes>"
      ]
     },
     "metadata": {
      "needs_background": "light"
     },
     "output_type": "display_data"
    }
   ],
   "source": [
    "plt.scatter(Data[:,1], Data[:,2])"
   ]
  },
  {
   "cell_type": "code",
   "execution_count": 4,
   "id": "354961a4",
   "metadata": {
    "scrolled": true
   },
   "outputs": [
    {
     "name": "stdout",
     "output_type": "stream",
     "text": [
      "[[ 8.77358673e-02  5.11712364e+00  1.13115932e-01]\n",
      " [ 1.08830945e-01  3.49842942e-03  5.18003085e+00]\n",
      " [ 4.88865883e+00 -5.14826957e+00 -2.55101854e-02]\n",
      " [-5.01183452e-02  2.73188325e-02  2.12903373e-01]]\n",
      "[3 3 3 3 3 3 3 3 3 3 3 3 3 3 3 3 3 3 3 3 3 3 3 3 3 3 3 3 3 3 3 3 3 3 3 3 3\n",
      " 3 3 3 3 3 3 3 3 3 3 3 3 3 3 3 3 3 3 3 3 3 3 3 3 0 3 3 3 3 3 3 3 3 3 3 3 3\n",
      " 3 3 3 3 3 3 3 3 3 3 3 3 3 3 3 3 3 3 3 3 3 3 3 3 3 3 0 0 0 0 0 0 0 0 0 0 0\n",
      " 0 0 0 0 0 0 0 0 0 0 0 0 0 0 0 0 0 0 0 0 0 0 0 0 0 0 0 0 0 0 0 0 0 3 0 0 0\n",
      " 0 0 0 0 0 0 0 0 0 0 0 0 0 0 0 0 0 0 0 0 0 0 0 0 0 0 0 0 0 0 0 0 0 0 0 0 0\n",
      " 0 0 0 0 0 0 0 0 0 0 0 0 0 0 0 2 2 2 2 2 2 2 2 2 2 2 2 2 2 3 2 2 2 2 2 2 2\n",
      " 2 2 2 2 2 2 2 2 2 2 2 2 2 2 2 2 2 2 2 2 2 2 2 2 2 2 2 2 2 2 2 2 2 2 2 2 2\n",
      " 2 2 2 2 2 2 2 2 2 2 2 2 2 2 2 2 2 2 2 2 2 2 2 2 2 2 2 2 2 2 2 2 2 2 2 2 2\n",
      " 2 2 2 2 1 1 1 1 1 1 1 1 1 1 1 1 1 1 3 1 1 1 3 1 1 1 1 1 1 1 1 1 1 1 1 1 1\n",
      " 1 1 1 1 1 1 1 1 1 1 1 1 1 1 1 1 1 3 1 1 1 1 1 1 1 1 1 1 1 1 1 1 1 1 1 1 1\n",
      " 1 1 1 1 1 1 1 1 1 1 1 1 1 1 1 1 1 1 1 1 1 1 1 1 1 1 1 1 1 1]\n"
     ]
    }
   ],
   "source": [
    "kmeans = KMeans(n_clusters=4, random_state=0).fit(Data)\n",
    "print(kmeans.cluster_centers_)\n",
    "print(kmeans.labels_)"
   ]
  },
  {
   "cell_type": "markdown",
   "id": "c1a8d632",
   "metadata": {},
   "source": [
    "## Neuralising K-Means\n",
    "\n",
    "We neuralise the clustering classifier with respect to class 0, i.e. write a net that should tell us whether an instance belongs to class 0 or not."
   ]
  },
  {
   "cell_type": "code",
   "execution_count": 5,
   "id": "653b5ae2",
   "metadata": {},
   "outputs": [
    {
     "name": "stdout",
     "output_type": "stream",
     "text": [
      "[-0.37882745 -1.04202948 -0.03417286]\n",
      "w [[  0.           0.           0.        ]\n",
      " [ -0.04219015  10.22725043 -10.13382984]\n",
      " [ -9.60184593  20.53078643   0.27725223]\n",
      " [  0.27570842  10.17960962  -0.19957488]]\n",
      "w2 [-9.60184593 20.53078643  0.27725223]\n",
      "b [  0.           0.63912886  24.19886839 -26.15686116]\n",
      "[  0.          -9.6556829    6.43315197 -36.86194038]\n",
      "False\n"
     ]
    }
   ],
   "source": [
    "x = np.random.normal(0,1,3)\n",
    "\n",
    "print(x)\n",
    "mu_c = kmeans.cluster_centers_[0]\n",
    "mu = kmeans.cluster_centers_\n",
    "w = 2*(mu_c - mu)\n",
    "print(\"w\",w)\n",
    "print(\"w2\",w[2])\n",
    "b = (mu**2.).sum(1) - (mu_c**2).sum()\n",
    "print(\"b\",b)\n",
    "h = w.dot(x) + b\n",
    "print(h)\n",
    "\n",
    "f_c = min(h) # h_c always exact 0\n",
    "print(f_c >= 0)"
   ]
  },
  {
   "cell_type": "code",
   "execution_count": 6,
   "id": "a52c6055",
   "metadata": {},
   "outputs": [
    {
     "name": "stdout",
     "output_type": "stream",
     "text": [
      "[-1.19942211e-02  4.99012810e+00 -3.58899443e-03]\n",
      "w [[  0.           0.           0.        ]\n",
      " [ -0.04219015  10.22725043 -10.13382984]\n",
      " [ -9.60184593  20.53078643   0.27725223]\n",
      " [  0.27570842  10.17960962  -0.19957488]]\n",
      "w2 [-9.60184593 20.53078643  0.27725223]\n",
      "b [  0.           0.63912886  24.19886839 -26.15686116]\n",
      "h [  0.          51.71129487 126.76429421  24.63810419]\n",
      "True\n"
     ]
    }
   ],
   "source": [
    "# Now an example that should hit cluster 0\n",
    "\n",
    "x = np.random.normal(0,0.01,3)\n",
    "x[1] +=5.\n",
    "print(x)\n",
    "mu_c = kmeans.cluster_centers_[0]\n",
    "mu = kmeans.cluster_centers_\n",
    "w = 2*(mu_c - mu)  # Correct in Supplements, wrong in paper!\n",
    "print(\"w\",w)\n",
    "print(\"w2\",w[2])\n",
    "b = (mu**2.).sum(1) - (mu_c**2).sum()\n",
    "print(\"b\",b)\n",
    "h = w.dot(x) + b\n",
    "print(\"h\",h)\n",
    "\n",
    "f_c = min(h) # h_c always exact 0\n",
    "print(f_c >= 0)"
   ]
  },
  {
   "cell_type": "code",
   "execution_count": 7,
   "id": "cfe63d1c",
   "metadata": {},
   "outputs": [
    {
     "data": {
      "text/plain": [
       "array([  0.        ,  51.71129487, 126.76429421,  24.63810419])"
      ]
     },
     "execution_count": 7,
     "metadata": {},
     "output_type": "execute_result"
    }
   ],
   "source": [
    "def layer1(x, centroids, i):\n",
    "    # takes one instance x, centroid-matrix and index of ith centroid\n",
    "    # returns values for the distances to centroid i\n",
    "    mu_c = centroids[i]\n",
    "    w = 2*(mu_c - mu) # Correct in Supplements, wrong in paper\n",
    "    b = (mu**2.).sum(1) - (mu_c**2.).sum()\n",
    "    h = w.dot(x) + b\n",
    "    return(h)\n",
    "\n",
    "layer1(x, kmeans.cluster_centers_, 0)\n",
    "    "
   ]
  },
  {
   "cell_type": "code",
   "execution_count": 8,
   "id": "00589c19",
   "metadata": {},
   "outputs": [
    {
     "name": "stdout",
     "output_type": "stream",
     "text": [
      "True\n",
      "False\n",
      "False\n",
      "False\n"
     ]
    }
   ],
   "source": [
    "def layer2(h):\n",
    "    return(min(h) >= 0)\n",
    "\n",
    "for i in range(4):\n",
    "    print(layer2(layer1(x, \n",
    "                   kmeans.cluster_centers_,\n",
    "                   i)))"
   ]
  },
  {
   "cell_type": "markdown",
   "id": "4e454600",
   "metadata": {},
   "source": [
    "## Testing this 2-Layer-NN"
   ]
  },
  {
   "cell_type": "code",
   "execution_count": 9,
   "id": "8e8f6208",
   "metadata": {},
   "outputs": [],
   "source": [
    "X = np.random.multivariate_normal(np.ones(3)*2.5, \n",
    "                              np.eye(3), \n",
    "                              size=1000)\n",
    "Cluster_Pred = kmeans.predict(X)"
   ]
  },
  {
   "cell_type": "code",
   "execution_count": 10,
   "id": "bdb33994",
   "metadata": {},
   "outputs": [],
   "source": [
    "# Now predict via the layers\n",
    "Layer_Pred = np.empty(1000)\n",
    "\n",
    "\n",
    "\n",
    "for i in range(1000):\n",
    "    for j in range(4):\n",
    "        if layer2(layer1(X[i,:],kmeans.cluster_centers_,j)):\n",
    "            Layer_Pred[i] = range(4)[j]\n"
   ]
  },
  {
   "cell_type": "code",
   "execution_count": 11,
   "id": "a1a06077",
   "metadata": {},
   "outputs": [
    {
     "data": {
      "text/plain": [
       "0"
      ]
     },
     "execution_count": 11,
     "metadata": {},
     "output_type": "execute_result"
    }
   ],
   "source": [
    "sum(Layer_Pred != Cluster_Pred)\n",
    "# Very good! The numerics don't introduce any unexpected errors!"
   ]
  }
 ],
 "metadata": {
  "kernelspec": {
   "display_name": "Python 3 (ipykernel)",
   "language": "python",
   "name": "python3"
  },
  "language_info": {
   "codemirror_mode": {
    "name": "ipython",
    "version": 3
   },
   "file_extension": ".py",
   "mimetype": "text/x-python",
   "name": "python",
   "nbconvert_exporter": "python",
   "pygments_lexer": "ipython3",
   "version": "3.7.3"
  }
 },
 "nbformat": 4,
 "nbformat_minor": 5
}

{
 "cells": [
  {
   "cell_type": "markdown",
   "metadata": {},
   "source": [
    "# Clustering via XAI\n",
    "\n",
    "This notebook takes a kmeans-clustering algorithm and rewrites it as a 2-layer Neural Net, following Kauffmann et al. 2021 (https://arxiv.org/abs/1906.07633). Then, one can use XAI-techniques to analyse the NN. Kauffmann et al. propose Layer-Relevance-Propagation LRP (which will be implemented at a later stage in this notebook)."
   ]
  },
  {
   "cell_type": "code",
   "execution_count": 1,
   "metadata": {},
   "outputs": [],
   "source": [
    "import numpy as np\n",
    "import matplotlib.pyplot as plt\n",
    "from sklearn.cluster import *\n",
    "np.random.seed(1234)"
   ]
  },
  {
   "cell_type": "code",
   "execution_count": 2,
   "metadata": {},
   "outputs": [
    {
     "name": "stdout",
     "output_type": "stream",
     "text": [
      "(400, 5)\n"
     ]
    }
   ],
   "source": [
    "x = np.random.normal(0,1,100).reshape(-1,1)\n",
    "y = np.random.normal(0,1,100).reshape(-1,1)\n",
    "z = np.random.normal(0,1,100).reshape(-1,1)\n",
    "Data = np.concatenate((x,y,z), axis=1)\n",
    "\n",
    "x = np.random.normal(0,1,100).reshape(-1,1)\n",
    "y = np.random.normal(5,1,100).reshape(-1,1)\n",
    "z = np.random.normal(0,1,100).reshape(-1,1)\n",
    "newDat = np.concatenate((x,y,z), axis=1)\n",
    "Data = np.concatenate((Data,newDat))\n",
    "\n",
    "x = np.random.normal(5,1,100).reshape(-1,1)\n",
    "y = np.random.normal(-5,1,100).reshape(-1,1)\n",
    "z = np.random.normal(0,1,100).reshape(-1,1)\n",
    "newDat = np.concatenate((x,y,z), axis=1)\n",
    "Data = np.concatenate((Data,newDat))\n",
    "\n",
    "x = np.random.normal(0,1,100).reshape(-1,1)\n",
    "y = np.random.normal(0,1,100).reshape(-1,1)\n",
    "z = np.random.normal(5,1,100).reshape(-1,1)\n",
    "newDat = np.concatenate((x,y,z), axis=1)\n",
    "Data = np.concatenate((Data,newDat))\n",
    "\n",
    "s1 = np.random.normal(0,1,400).reshape(-1,1) # superfluous data\n",
    "s2 = np.random.normal(0,1,400).reshape(-1,1) # superfluous data\n",
    "\n",
    "Data = np.concatenate((Data, s1,s2), axis =1)\n",
    "np.random.shuffle(Data)\n",
    "print(Data.shape)"
   ]
  },
  {
   "cell_type": "code",
   "execution_count": 3,
   "metadata": {},
   "outputs": [
    {
     "data": {
      "text/plain": [
       "<matplotlib.collections.PathCollection at 0x1a716adfdc0>"
      ]
     },
     "execution_count": 3,
     "metadata": {},
     "output_type": "execute_result"
    },
    {
     "data": {
      "image/png": "[encoded data removed]",
      "text/plain": [
       "<Figure size 432x288 with 1 Axes>"
      ]
     },
     "metadata": {
      "needs_background": "light"
     },
     "output_type": "display_data"
    }
   ],
   "source": [
    "plt.scatter(Data[:,1], Data[:,2])"
   ]
  },
  {
   "cell_type": "code",
   "execution_count": 4,
   "metadata": {},
   "outputs": [
    {
     "data": {
      "text/plain": [
       "array([ 1.38299725,  4.40664361, -0.56009295,  0.15330679,  0.03168205])"
      ]
     },
     "execution_count": 4,
     "metadata": {},
     "output_type": "execute_result"
    }
   ],
   "source": [
    "Data[0,:]\n",
    "# should be array([ 1.38299725,  4.40664361, -0.56009295,  0.15330679,  0.03168205])"
   ]
  },
  {
   "cell_type": "code",
   "execution_count": 5,
   "metadata": {
    "scrolled": true
   },
   "outputs": [
    {
     "name": "stdout",
     "output_type": "stream",
     "text": [
      "[[ 5.03798883e+00 -5.01356819e+00 -4.52937721e-02 -4.56142331e-03\n",
      "   5.74825979e-02]\n",
      " [ 1.71574206e-02 -1.76319542e-01  5.06252265e+00  1.07430050e-01\n",
      "   1.28495164e-01]\n",
      " [ 3.87275062e-02 -7.01581725e-02  1.24402617e-01  9.26459280e-02\n",
      "   7.63761552e-02]\n",
      " [ 1.04955543e-01  4.80794571e+00  1.09065574e-01  1.16696186e-01\n",
      "  -4.57392771e-02]]\n",
      "[3 3 0 0 1 1 1 2 0 0 3 0 3 2 0 0 2 3 3 2 0 2 0 2 3 0 0 1 3 2 1 3 0 1 2 3 2\n",
      " 2 2 3 0 0 3 1 2 2 2 3 0 2 0 3 1 1 2 3 0 2 0 2 0 1 2 3 1 1 2 1 0 3 1 0 1 1\n",
      " 3 0 3 2 1 0 0 2 0 3 0 0 0 0 1 2 0 2 0 0 0 1 3 1 1 1 0 0 0 0 1 3 0 0 2 3 3\n",
      " 3 0 0 2 0 1 2 3 3 0 3 0 0 0 2 1 1 3 1 3 1 2 3 3 2 0 2 2 3 1 0 2 1 2 3 1 3\n",
      " 1 0 0 1 2 1 2 3 1 0 3 3 0 0 3 1 3 0 1 3 2 2 3 3 1 0 0 0 3 1 2 3 2 0 3 1 0\n",
      " 2 2 0 0 3 0 2 1 2 2 1 2 1 2 2 2 1 2 3 0 1 1 2 1 0 0 0 2 2 2 1 2 3 1 2 3 0\n",
      " 1 2 1 1 0 0 0 3 1 2 3 2 3 2 1 0 3 1 1 3 0 1 1 2 2 3 2 3 2 3 3 2 1 3 1 1 3\n",
      " 2 3 1 0 0 2 3 1 1 1 0 1 0 2 3 1 0 1 1 3 0 0 2 0 3 1 3 2 0 2 1 0 3 1 0 3 1\n",
      " 2 2 1 3 0 0 3 1 1 0 3 1 3 3 1 2 1 2 2 1 2 1 0 1 1 1 2 1 0 3 0 0 3 2 2 3 3\n",
      " 1 3 1 3 2 3 1 0 3 1 1 2 1 3 1 2 3 1 3 3 1 2 1 3 0 3 3 2 2 2 1 2 3 3 2 2 0\n",
      " 2 1 3 2 0 0 3 1 0 1 1 0 2 3 3 3 1 3 2 0 2 2 3 0 2 2 3 0 2 3]\n"
     ]
    }
   ],
   "source": [
    "nKM = 4\n",
    "kmeans = KMeans(n_clusters=nKM, random_state=0).fit(Data)\n",
    "print(kmeans.cluster_centers_)\n",
    "print(kmeans.labels_)"
   ]
  },
  {
   "cell_type": "markdown",
   "metadata": {},
   "source": [
    "## Neuralising K-Means\n",
    "\n",
    "We neuralise the clustering classifier with respect to class 0, i.e. write a net that should tell us whether an instance belongs to class 0 or not."
   ]
  },
  {
   "cell_type": "code",
   "execution_count": 6,
   "metadata": {},
   "outputs": [
    {
     "data": {
      "text/plain": [
       "array([  0.        , -35.04847864, -50.94615144, -37.48936243])"
      ]
     },
     "execution_count": 6,
     "metadata": {},
     "output_type": "execute_result"
    }
   ],
   "source": [
    "def layer1(x, centroids, i):\n",
    "    # takes one instance x, centroid-matrix and index of ith centroid\n",
    "    # returns values for the distances to centroid i\n",
    "    mu_c = centroids[i]\n",
    "    w = 2*(mu_c - centroids)\n",
    "    b = (centroids**2.).sum(1) - (mu_c**2.).sum()\n",
    "    h = w.dot(x) + b\n",
    "    return(h)\n",
    "x = np.ones(Data.shape[1])\n",
    "layer1(x, kmeans.cluster_centers_, 0)\n",
    "    "
   ]
  },
  {
   "cell_type": "code",
   "execution_count": 7,
   "metadata": {},
   "outputs": [
    {
     "name": "stdout",
     "output_type": "stream",
     "text": [
      "False\n",
      "False\n",
      "True\n",
      "False\n"
     ]
    }
   ],
   "source": [
    "def layer2(h):\n",
    "    return(min(h) >= 0)\n",
    "\n",
    "for i in range(nKM):\n",
    "    print(layer2(layer1(x, \n",
    "                   kmeans.cluster_centers_,\n",
    "                   i)))"
   ]
  },
  {
   "cell_type": "code",
   "execution_count": 8,
   "metadata": {},
   "outputs": [
    {
     "name": "stdout",
     "output_type": "stream",
     "text": [
      "False\n",
      "False\n",
      "True\n",
      "False\n"
     ]
    }
   ],
   "source": [
    "def layer2(h,i):\n",
    "    # i is the index of the cluster which we \"test\" here\n",
    "    Indices = np.arange(len(h))\n",
    "    return(min(h[Indices!=i]) )\n",
    "\n",
    "def DecisionLayer(Minimum):\n",
    "    return(Minimum > 0)\n",
    "\n",
    "\n",
    "for i in range(nKM):\n",
    "    print(DecisionLayer(layer2(layer1(x, \n",
    "                   kmeans.cluster_centers_,\n",
    "                   i),i)))"
   ]
  },
  {
   "cell_type": "markdown",
   "metadata": {},
   "source": [
    "### Testing this 2-Layer-NN"
   ]
  },
  {
   "cell_type": "code",
   "execution_count": 9,
   "metadata": {},
   "outputs": [],
   "source": [
    "X = np.random.multivariate_normal(np.ones(Data.shape[1])*2.5, \n",
    "                              np.eye(Data.shape[1]), \n",
    "                              size=1000)\n",
    "Cluster_Pred = kmeans.predict(X)"
   ]
  },
  {
   "cell_type": "code",
   "execution_count": 10,
   "metadata": {},
   "outputs": [],
   "source": [
    "# Now predict via the layers\n",
    "Layer_Pred = np.empty(1000)\n",
    "\n",
    "\n",
    "\n",
    "for i in range(1000):\n",
    "    for j in range(nKM):\n",
    "        Decision = DecisionLayer(layer2(layer1(X[i,:],\n",
    "                                               kmeans.cluster_centers_,\n",
    "                                               j),\n",
    "                                        j))\n",
    "        if Decision:\n",
    "            Layer_Pred[i] = range(nKM)[j]\n"
   ]
  },
  {
   "cell_type": "code",
   "execution_count": 11,
   "metadata": {},
   "outputs": [
    {
     "data": {
      "text/plain": [
       "0"
      ]
     },
     "execution_count": 11,
     "metadata": {},
     "output_type": "execute_result"
    }
   ],
   "source": [
    "sum(Layer_Pred != Cluster_Pred)\n",
    "# Very good! The numerics don't introduce any unexpected errors!"
   ]
  },
  {
   "cell_type": "markdown",
   "metadata": {},
   "source": [
    "## Layer Relevance Propagation\n"
   ]
  },
  {
   "cell_type": "code",
   "execution_count": 12,
   "metadata": {},
   "outputs": [],
   "source": [
    "\n",
    "\n",
    "def NN_k(x,centroids,k):\n",
    "    # checks if x belongs to kth cluster\n",
    "    return(layer2(layer1(x,centroids,k),k))"
   ]
  },
  {
   "cell_type": "code",
   "execution_count": 13,
   "metadata": {},
   "outputs": [],
   "source": [
    "Is0 = np.empty(Data.shape[0]) # Output-array whether jth instance is assigned to cluster 0\n",
    "for i in range(len(Is0)):\n",
    "    Is0[i] = DecisionLayer(NN_k(Data[i,:], \n",
    "                                kmeans.cluster_centers_, \n",
    "                                0))\n"
   ]
  },
  {
   "cell_type": "code",
   "execution_count": 14,
   "metadata": {
    "scrolled": true
   },
   "outputs": [
    {
     "name": "stdout",
     "output_type": "stream",
     "text": [
      "Should all be 0: [0 0 0 0 0 0 0 0 0 0 0 0 0 0 0 0 0 0 0 0 0 0 0 0 0 0 0 0 0 0 0 0 0 0 0 0 0\n",
      " 0 0 0 0 0 0 0 0 0 0 0 0 0 0 0 0 0 0 0 0 0 0 0 0 0 0 0 0 0 0 0 0 0 0 0 0 0\n",
      " 0 0 0 0 0 0 0 0 0 0 0 0 0 0 0 0 0 0 0 0 0 0 0 0 0 0]\n",
      "Should all be nonzero: [3 3 1 1 1 2 3 3 2 2 3 3 2 2 2 3 1 3 2 1 3 1 2 3 2 2 2 3 3 1 2 2 2 3 2 3 1\n",
      " 1 2 3 2 2 1 2 3 1 1 2 1 3 1 1 1 3 3 2 1 2 3 1 2 2 1 3 1 1 1 1 3 2 3 3 3 2\n",
      " 1 2 3 3 3 2 1 1 3 1 3 1 2 3 3 2 2 2 3 1 2 1 2 3 1 3 1 1 2 1 2 3 1 3 3 3 1\n",
      " 3 1 3 2 2 3 3 1 3 1 2 3 2 3 1 2 2 3 2 1 2 2 1 2 1 2 2 2 1 2 3 1 1 2 1 2 2\n",
      " 2 1 2 3 1 2 3 1 2 1 1 3 1 2 3 2 3 2 1 3 1 1 3 1 1 2 2 3 2 3 2 3 3 2 1 3 1\n",
      " 1 3 2 3 1 2 3 1 1 1 1 2 3 1 1 1 3 2 3 1 3 2 2 1 3 1 3 1 2 2 1 3 3 1 1 3 1\n",
      " 3 3 1 2 1 2 2 1 2 1 1 1 1 2 1 3 3 2 2 3 3 1 3 1 3 2 3 1 3 1 1 2 1 3 1 2 3\n",
      " 1 3 3 1 2 1 3 3 3 2 2 2 1 2 3 3 2 2 2 1 3 2 3 1 1 1 2 3 3 3 1 3 2 2 2 3 2\n",
      " 2 3 2 3]\n"
     ]
    }
   ],
   "source": [
    "print(\"Should all be 0:\", kmeans.labels_[Is0 == 1])\n",
    "print(\"Should all be nonzero:\",kmeans.labels_[Is0 != 1])\n",
    "# Good!"
   ]
  },
  {
   "cell_type": "code",
   "execution_count": 15,
   "metadata": {},
   "outputs": [
    {
     "data": {
      "text/plain": [
       "False"
      ]
     },
     "execution_count": 15,
     "metadata": {},
     "output_type": "execute_result"
    }
   ],
   "source": [
    "DecisionLayer(NN_k(x,kmeans.cluster_centers_,3))"
   ]
  },
  {
   "cell_type": "code",
   "execution_count": 16,
   "metadata": {},
   "outputs": [
    {
     "name": "stdout",
     "output_type": "stream",
     "text": [
      "4.0\n"
     ]
    }
   ],
   "source": [
    "# Beta-Heuristic from eq. (3)\n",
    "\n",
    "Beta = np.mean(Is0)**(-1.)\n",
    "print(Beta)"
   ]
  },
  {
   "cell_type": "code",
   "execution_count": 17,
   "metadata": {},
   "outputs": [],
   "source": [
    "def beta(X, i, DecisionL, NN, Centroids):\n",
    "    # Takes the Data X, a particular class i, a Decision Layer DecisionL and Neuralised kmeans NN = NN(x,centroids,k)\n",
    "    # Returns the beta-scaling factor from eq. (3)\n",
    "    IS_i = np.empty(X.shape[0])\n",
    "    \n",
    "    for j in range(X.shape[0]):\n",
    "        IS_i[j] = DecisionL(NN(X[j,:],\n",
    "                             Centroids,\n",
    "                             i))\n",
    "    return( np.mean(IS_i)**(-1.))\n",
    "    "
   ]
  },
  {
   "cell_type": "code",
   "execution_count": 18,
   "metadata": {},
   "outputs": [
    {
     "data": {
      "text/plain": [
       "4.0"
      ]
     },
     "execution_count": 18,
     "metadata": {},
     "output_type": "execute_result"
    }
   ],
   "source": [
    "beta(Data, 3, DecisionLayer, NN_k, kmeans.cluster_centers_)"
   ]
  },
  {
   "cell_type": "code",
   "execution_count": 19,
   "metadata": {},
   "outputs": [
    {
     "name": "stdout",
     "output_type": "stream",
     "text": [
      "[ 4.5 -2.   0.   0.   0. ]\n",
      "0\n",
      "14.280732523286801\n",
      "[1.42807325e+01 1.52928670e-68 2.22114625e-24 2.11000167e-97]\n",
      "[1.52928670e-68 2.22114625e-24 2.11000167e-97]\n",
      "R_k [6.42944269e+24 6.88512384e-45 1.00000000e+00 9.49960711e-74]\n"
     ]
    }
   ],
   "source": [
    "## IMPLEMENT EQUATION (2)\n",
    "\n",
    "\n",
    "#For one particular data point x\n",
    "x = np.zeros(Data.shape[1])\n",
    "x[0] = 4.5\n",
    "x[1] = -2.\n",
    "\n",
    "\n",
    "print(x) \n",
    "x_Pred = kmeans.predict(x.reshape(1, -1))[0]\n",
    "print(x_Pred)\n",
    "\n",
    "# Let's see why x was assigned to x_Pred:\n",
    "n_Clust = kmeans.cluster_centers_.shape[0] # number of clusters\n",
    "h_k = layer1(x, kmeans.cluster_centers_,x_Pred)\n",
    "f_c = layer2(layer1(x,\n",
    "                    kmeans.cluster_centers_, x_Pred), x_Pred)\n",
    "print(f_c)\n",
    "\n",
    "# numerator of equation (2)\n",
    "r_k = np.exp(-Beta * h_k) *f_c\n",
    "print(r_k)\n",
    "print(r_k[range(n_Clust) != x_Pred])\n",
    "\n",
    "R_k = r_k/ sum(r_k[range(n_Clust) != x_Pred])\n",
    "print(\"R_k\",R_k) # Equation (2)"
   ]
  },
  {
   "cell_type": "code",
   "execution_count": 20,
   "metadata": {},
   "outputs": [
    {
     "name": "stdout",
     "output_type": "stream",
     "text": [
      "[[ 5.03798883e+00 -5.01356819e+00 -4.52937721e-02 -4.56142331e-03\n",
      "   5.74825979e-02]\n",
      " [ 2.52757312e+00 -2.59494387e+00  2.50861444e+00  5.14343136e-02\n",
      "   9.29888812e-02]\n",
      " [ 2.53835817e+00 -2.54186318e+00  3.95544227e-02  4.40422523e-02\n",
      "   6.69293766e-02]\n",
      " [ 2.57147218e+00 -1.02811242e-01  3.18859008e-02  5.60673814e-02\n",
      "   5.87166043e-03]]\n",
      "(4, 5)\n",
      " # # # # \n",
      "(3, 5)\n"
     ]
    }
   ],
   "source": [
    "# IMPLEMENT EQUATION (4)\n",
    "m_k = 0.5*(kmeans.cluster_centers_ + kmeans.cluster_centers_[x_Pred])\n",
    "print(m_k)\n",
    "Diff_x_m = x - m_k\n",
    "print(Diff_x_m.shape)\n",
    "print(\" # # # # \")\n",
    "Diff_x_m_reduced = Diff_x_m[range(n_Clust) != x_Pred]\n",
    "print(Diff_x_m_reduced.shape)"
   ]
  },
  {
   "cell_type": "code",
   "execution_count": 21,
   "metadata": {},
   "outputs": [
    {
     "name": "stdout",
     "output_type": "stream",
     "text": [
      "[6.88512384e-45 1.00000000e+00 9.49960711e-74]\n"
     ]
    }
   ],
   "source": [
    "mu_c = kmeans.cluster_centers_[x_Pred]\n",
    "W = 2*(mu_c - kmeans.cluster_centers_)\n",
    "W_reduced = W[range(n_Clust) != x_Pred]\n",
    "W_reduced.shape\n",
    "\n",
    "R_previous_reduced = R_k[range(n_Clust)!= x_Pred] # from Equation (2)\n",
    "print(R_previous_reduced)"
   ]
  },
  {
   "cell_type": "code",
   "execution_count": 22,
   "metadata": {},
   "outputs": [
    {
     "name": "stdout",
     "output_type": "stream",
     "text": [
      "[[ 1.98064456e+01 -5.75578284e+00  2.56270841e+01  1.15204092e-02\n",
      "   1.32067582e-02]\n",
      " [ 1.96135203e+01 -5.35730378e+00  1.34244854e-02  8.56246139e-03\n",
      "   2.52906801e-03]\n",
      " [ 1.90269838e+01  3.72665315e+01  9.84377357e-03  1.35971933e-02\n",
      "  -1.21216760e-03]]\n",
      "(3, 5)\n",
      "[-5.75578284 -5.35730378 37.26653153]\n"
     ]
    }
   ],
   "source": [
    "Product = np.multiply(Diff_x_m_reduced, W_reduced)\n",
    "print(Product)\n",
    "# Product is a Matrix P_ki with k = number of Clusters -1\n",
    "#                               i = Index of the input feature\n",
    "#       Shape of Product is (number Clusters -1,  number Input Features)\n",
    "\n",
    "print(Product.shape)\n",
    "print(Product[:,1])"
   ]
  },
  {
   "cell_type": "code",
   "execution_count": 23,
   "metadata": {},
   "outputs": [
    {
     "name": "stdout",
     "output_type": "stream",
     "text": [
      "[39.70247404 14.28073252 56.31574413]\n"
     ]
    }
   ],
   "source": [
    "R_input = np.zeros(Data.shape[1]) # Relevance of each input-feature\n",
    "\n",
    "Denominator_Eq4 = np.sum(Product,1) # summing over all input features\n",
    "print(Denominator_Eq4)"
   ]
  },
  {
   "cell_type": "code",
   "execution_count": 24,
   "metadata": {},
   "outputs": [
    {
     "name": "stdout",
     "output_type": "stream",
     "text": [
      "39.70247403958452\n",
      "14.280732523286806\n",
      "56.31574413353557\n"
     ]
    }
   ],
   "source": [
    "for k in range(3):\n",
    "    print(np.sum(Product[k,:]))"
   ]
  },
  {
   "cell_type": "code",
   "execution_count": 25,
   "metadata": {},
   "outputs": [
    {
     "name": "stdout",
     "output_type": "stream",
     "text": [
      "[ 1.4 -0.4  0.   0.   0. ]\n"
     ]
    }
   ],
   "source": [
    "\n",
    "for i in range(len(R_input)):\n",
    "    \n",
    "    for k in range(n_Clust-1):\n",
    "        \n",
    "        R_input[i] +=  Product[k,i] * R_previous_reduced[k] / np.sum(Product[k,:])\n",
    "    \n",
    "print(R_input.round(1))"
   ]
  },
  {
   "cell_type": "code",
   "execution_count": 26,
   "metadata": {},
   "outputs": [
    {
     "name": "stdout",
     "output_type": "stream",
     "text": [
      "[ 4.5 -2.   0.   0.   0. ] 0\n",
      "[[ 5.  -5.  -0.  -0.   0.1]\n",
      " [ 0.  -0.2  5.1  0.1  0.1]\n",
      " [ 0.  -0.1  0.1  0.1  0.1]\n",
      " [ 0.1  4.8  0.1  0.1 -0. ]]\n"
     ]
    }
   ],
   "source": [
    "print(x, x_Pred)\n",
    "print(kmeans.cluster_centers_.round(1))"
   ]
  },
  {
   "cell_type": "markdown",
   "metadata": {},
   "source": [
    "That is really interesting! There is high positive relevance attributed to x[0], which makes sense because its high value clearly guides the classifier towards cluster 1. However, there is negative relevance attributed to x[1]: its value does not correspond well with centroid_1[1]. Maybe that's why we get negative relevance?"
   ]
  },
  {
   "cell_type": "markdown",
   "metadata": {},
   "source": [
    "#### Now for a different example"
   ]
  },
  {
   "cell_type": "code",
   "execution_count": 27,
   "metadata": {},
   "outputs": [],
   "source": [
    "x = np.zeros(Data.shape[1])\n",
    "x[1] = 4.0\n",
    "x[2] = 2.0\n",
    "x[3] = 1.0"
   ]
  },
  {
   "cell_type": "code",
   "execution_count": 28,
   "metadata": {},
   "outputs": [
    {
     "name": "stdout",
     "output_type": "stream",
     "text": [
      "3\n",
      "15.89293498983962\n",
      "[4.68992903e-185 8.30583428e-039 3.91154416e-027 1.58929350e+001]\n",
      "[4.68992903e-185 8.30583428e-039 3.91154416e-027]\n",
      "R_k [1.19899683e-158 2.12341570e-012 1.00000000e+000 4.06308464e+027]\n",
      "[[ 2.57147218 -0.10281124  0.0318859   0.05606738  0.00587166]\n",
      " [ 0.06105648  2.31581308  2.58579411  0.11206312  0.04137794]\n",
      " [ 0.07184152  2.36889377  0.1167341   0.10467106  0.01531844]\n",
      " [ 0.10495554  4.80794571  0.10906557  0.11669619 -0.04573928]]\n",
      "(4, 5)\n",
      " # # # # \n",
      "(3, 5)\n",
      "[1.19899683e-158 2.12341570e-012 1.00000000e+000]\n",
      "[[ 2.53703157e+01  8.05916353e+01  6.07593610e-01  2.28918026e-01\n",
      "   1.21216760e-03]\n",
      " [-1.07212889e-02  1.67888686e+01  5.80341200e+00  1.64554873e-02\n",
      "   1.44189258e-02]\n",
      " [-9.51584626e-03  1.59134113e+01 -5.77674632e-02  4.30657845e-02\n",
      "   3.74123561e-03]]\n",
      "(3, 5)\n",
      "[80.59163531 16.78886865 15.91341128]\n",
      "[106.79967486  22.61243378  15.89293499]\n"
     ]
    }
   ],
   "source": [
    "\n",
    "x_Pred = kmeans.predict(x.reshape(1, -1))[0]\n",
    "print(x_Pred)\n",
    "\n",
    "## IMPLEMENT EQUATION (2)\n",
    "\n",
    "# Let's see why x was assigned to x_Pred:\n",
    "n_Clust = kmeans.cluster_centers_.shape[0] # number of clusters\n",
    "h_k = layer1(x, kmeans.cluster_centers_,x_Pred)\n",
    "f_c = layer2(layer1(x,\n",
    "                    kmeans.cluster_centers_, x_Pred), x_Pred)\n",
    "print(f_c)\n",
    "\n",
    "# numerator of equation (2)\n",
    "r_k = np.exp(-Beta * h_k) *f_c\n",
    "print(r_k)\n",
    "print(r_k[range(n_Clust) != x_Pred])\n",
    "\n",
    "R_k = r_k/ sum(r_k[np.arange(n_Clust) != x_Pred])\n",
    "print(\"R_k\",R_k) # Equation (2)\n",
    "\n",
    "\n",
    "# IMPLEMENT EQUATION (4)\n",
    "m_k = 0.5*(kmeans.cluster_centers_ + kmeans.cluster_centers_[x_Pred])\n",
    "print(m_k)\n",
    "Diff_x_m = x - m_k\n",
    "print(Diff_x_m.shape)\n",
    "print(\" # # # # \")\n",
    "Diff_x_m_reduced = Diff_x_m[np.arange(n_Clust) != x_Pred]\n",
    "print(Diff_x_m_reduced.shape)\n",
    "\n",
    "mu_c = kmeans.cluster_centers_[x_Pred]\n",
    "W = 2*(mu_c - kmeans.cluster_centers_)\n",
    "W_reduced = W[np.arange(n_Clust) != x_Pred]\n",
    "W_reduced.shape\n",
    "\n",
    "R_previous_reduced = R_k[np.arange(n_Clust)!= x_Pred] # from Equation (2)\n",
    "print(R_previous_reduced)\n",
    "\n",
    "Product = np.multiply(Diff_x_m_reduced, W_reduced)\n",
    "print(Product)\n",
    "# Product is a Matrix P_ki with k = number of Clusters -1\n",
    "#                               i = Index of the input feature\n",
    "#       Shape of Product is (number Clusters -1,  number Input Features)\n",
    "\n",
    "print(Product.shape)\n",
    "print(Product[:,1])\n",
    "\n",
    "R_input = np.zeros(Data.shape[1]) # Relevance of each input-feature\n",
    "\n",
    "Denominator_Eq4 = np.sum(Product,1) # summing over all input features\n",
    "print(Denominator_Eq4)"
   ]
  },
  {
   "cell_type": "code",
   "execution_count": 29,
   "metadata": {},
   "outputs": [
    {
     "name": "stdout",
     "output_type": "stream",
     "text": [
      "[-0.  1. -0.  0.  0.]\n"
     ]
    }
   ],
   "source": [
    "\n",
    "for i in range(len(R_input)):\n",
    "    \n",
    "    for k in range(n_Clust-1):\n",
    "        \n",
    "        R_input[i] +=  Product[k,i] * R_previous_reduced[k] / np.sum(Product[k,:])\n",
    "    \n",
    "print(R_input.round(1))"
   ]
  },
  {
   "cell_type": "code",
   "execution_count": 30,
   "metadata": {},
   "outputs": [
    {
     "name": "stdout",
     "output_type": "stream",
     "text": [
      "[0. 4. 2. 1. 0.] 3\n",
      "[[ 5.  -5.  -0.  -0.   0.1]\n",
      " [ 0.  -0.2  5.1  0.1  0.1]\n",
      " [ 0.  -0.1  0.1  0.1  0.1]\n",
      " [ 0.1  4.8  0.1  0.1 -0. ]]\n"
     ]
    }
   ],
   "source": [
    "print(x, x_Pred)\n",
    "print(kmeans.cluster_centers_.round(1))"
   ]
  },
  {
   "cell_type": "markdown",
   "metadata": {},
   "source": [
    "#### Try to modularise the LRP\n"
   ]
  },
  {
   "cell_type": "code",
   "execution_count": 31,
   "metadata": {},
   "outputs": [
    {
     "name": "stdout",
     "output_type": "stream",
     "text": [
      "[1.19899683e-158 2.12341570e-012 1.00000000e+000 4.06308464e+027]\n",
      "[1.19899683e-158 2.12341570e-012 1.00000000e+000 4.06308464e+027]\n"
     ]
    }
   ],
   "source": [
    "## IMPLEMENT EQUATION (2)\n",
    "\n",
    "\n",
    "\n",
    "def Eq2(X, Centroids, c, beta):\n",
    "    # take one Data.point X, the cluster Centroids and the cluster of interest c, scaling factor beta\n",
    "    # output: R_k - array as in equation (2)\n",
    "    \n",
    "    n_C = Centroids.shape[0]\n",
    "    \n",
    "    H_k = layer1(X, Centroids, c)\n",
    "    F_c = layer2(H_k, c)\n",
    "    \n",
    "    # numerator of eq. (2)\n",
    "    r_k_func = np.exp(-beta * H_k) * F_c\n",
    "    \n",
    "    R_k_out = r_k_func / sum(r_k_func[np.arange(n_C) != c])\n",
    "    #print(range(n_C), range(n_C) != c)\n",
    "    return(R_k_out)\n",
    "\n",
    "print(Eq2(x, kmeans.cluster_centers_, x_Pred, Beta))\n",
    "print(Eq2(x, kmeans.cluster_centers_, 3, Beta))\n"
   ]
  },
  {
   "cell_type": "code",
   "execution_count": 32,
   "metadata": {},
   "outputs": [],
   "source": [
    "def Eq4(X, Centroids, c, beta):\n",
    "\n",
    "    n_C = Centroids.shape[0]\n",
    "    Index = (np.arange(n_C) != c) # index of \"all clusters except c\"\n",
    "    \n",
    "    R_previous = Eq2(X, Centroids, c, beta) # from Equation (2)\n",
    "    R_previous_reduced = R_previous[Index]\n",
    "    MU_c = Centroids[c]\n",
    "    M_k = 0.5*(Centroids + MU_c)\n",
    "    DIFF_x_m = X - M_k\n",
    "    \n",
    "    DIFF_x_m_reduced = DIFF_x_m[Index]\n",
    "    \n",
    "    W = 2*(MU_c - Centroids)\n",
    "    W_reduced = W[Index]\n",
    "    \n",
    "    Prod = np.multiply(DIFF_x_m_reduced, W_reduced)\n",
    "    \n",
    "    R_InputLayer = np.zeros(len(X)) # relevance of each input-feature\n",
    "    \n",
    "    for i in range(len(R_input)):\n",
    "        for k in range(n_C-1):\n",
    "            R_InputLayer[i] += Prod[k,i] * R_previous_reduced[k] / np.sum(Prod[k,:])\n",
    "    \n",
    "    return(R_InputLayer)"
   ]
  },
  {
   "cell_type": "code",
   "execution_count": 33,
   "metadata": {},
   "outputs": [
    {
     "name": "stdout",
     "output_type": "stream",
     "text": [
      "[[ 2.53703157e+01  8.05916353e+01  6.07593610e-01  2.28918026e-01\n",
      "   1.21216760e-03]\n",
      " [-1.07212889e-02  1.67888686e+01  5.80341200e+00  1.64554873e-02\n",
      "   1.44189258e-02]\n",
      " [-9.51584626e-03  1.59134113e+01 -5.77674632e-02  4.30657845e-02\n",
      "   3.74123561e-03]]\n",
      "[-5.98746944e-04  1.00128839e+00 -3.63478887e-03  2.70974395e-03\n",
      "  2.35402436e-04]\n"
     ]
    }
   ],
   "source": [
    "\n",
    "# IMPLEMENT EQUATION (4)\n",
    "m_k = 0.5*(kmeans.cluster_centers_ + kmeans.cluster_centers_[x_Pred])\n",
    "Diff_x_m = x - m_k\n",
    "Diff_x_m_reduced = Diff_x_m[np.arange(n_Clust) != x_Pred]\n",
    "\n",
    "mu_c = kmeans.cluster_centers_[x_Pred]\n",
    "W = 2*(mu_c - kmeans.cluster_centers_)\n",
    "W_reduced = W[np.arange(n_Clust) != x_Pred]\n",
    "\n",
    "R_previous_reduced = R_k[np.arange(n_Clust)!= x_Pred] # from Equation (2)\n",
    "\n",
    "Product = np.multiply(Diff_x_m_reduced, W_reduced)\n",
    "print(Product)\n",
    "\n",
    "R_input = np.zeros(Data.shape[1]) # Relevance of each input-feature\n",
    "\n",
    "\n",
    "for i in range(len(R_input)):\n",
    "    \n",
    "    for k in range(n_Clust-1):\n",
    "        \n",
    "        R_input[i] +=  Product[k,i] * R_previous_reduced[k] / np.sum(Product[k,:])\n",
    "    \n",
    "print(R_input)"
   ]
  },
  {
   "cell_type": "code",
   "execution_count": 34,
   "metadata": {},
   "outputs": [
    {
     "data": {
      "text/plain": [
       "array([-5.98746944e-04,  1.00128839e+00, -3.63478887e-03,  2.70974395e-03,\n",
       "        2.35402436e-04])"
      ]
     },
     "execution_count": 34,
     "metadata": {},
     "output_type": "execute_result"
    }
   ],
   "source": [
    "Eq4(x, kmeans.cluster_centers_, x_Pred, Beta)"
   ]
  },
  {
   "cell_type": "markdown",
   "metadata": {},
   "source": [
    "#### Let's try out different cluster assignments\n",
    "By varying the parameter i, we can see which features of x would influence the decision towards i, if i actually was the predicted cluster. Note that this XAI-method does not tell us which cluster has actually been selected, one has to specify this (e.g. as i=kmeans.predict(x.reshape(-1,1)"
   ]
  },
  {
   "cell_type": "code",
   "execution_count": 35,
   "metadata": {},
   "outputs": [
    {
     "name": "stdout",
     "output_type": "stream",
     "text": [
      "0 [0.24 0.75 0.01 0.   0.  ]\n",
      "1 [-0.    0.74  0.26  0.    0.  ]\n",
      "2 [-0.  1. -0.  0.  0.]\n",
      "3 [-0.  1. -0.  0.  0.]\n"
     ]
    }
   ],
   "source": [
    "for i in range(kmeans.cluster_centers_.shape[0]):\n",
    "    print(i, Eq4(x, kmeans.cluster_centers_, i, Beta).round(2))"
   ]
  },
  {
   "cell_type": "markdown",
   "metadata": {},
   "source": [
    "#### how about x from the first example"
   ]
  },
  {
   "cell_type": "code",
   "execution_count": 36,
   "metadata": {},
   "outputs": [
    {
     "name": "stdout",
     "output_type": "stream",
     "text": [
      "x [ 4.5 -2.   0.   0.   0. ]\n",
      "Prediction [0]\n",
      "0 [ 1.4 -0.4  0.   0.   0. ]\n",
      "1 [ 0.5 -0.1  0.6  0.   0. ]\n",
      "2 [ 1.4 -0.4  0.   0.   0. ]\n",
      "3 [ 0.3  0.7  0.   0.  -0. ]\n"
     ]
    }
   ],
   "source": [
    "x = np.zeros(Data.shape[1])\n",
    "x[0] = 4.5\n",
    "x[1] = -2.\n",
    "print(\"x\", x)\n",
    "print(\"Prediction\", kmeans.predict(x.reshape(1,-1)))\n",
    "\n",
    "for i in range(kmeans.cluster_centers_.shape[0]):\n",
    "    print(i, Eq4(x, kmeans.cluster_centers_, i, Beta).round(1))"
   ]
  },
  {
   "cell_type": "markdown",
   "metadata": {},
   "source": [
    "#### And another example\n",
    "\n",
    "Now for something that is in-between the clusters 1 and 3: What will happen now?"
   ]
  },
  {
   "cell_type": "code",
   "execution_count": 37,
   "metadata": {},
   "outputs": [
    {
     "name": "stdout",
     "output_type": "stream",
     "text": [
      "[[ 5.  -5.  -0.  -0.   0.1]\n",
      " [ 0.  -0.2  5.1  0.1  0.1]\n",
      " [ 0.  -0.1  0.1  0.1  0.1]\n",
      " [ 0.1  4.8  0.1  0.1 -0. ]]\n"
     ]
    }
   ],
   "source": [
    "print(kmeans.cluster_centers_.round(1))"
   ]
  },
  {
   "cell_type": "code",
   "execution_count": 38,
   "metadata": {},
   "outputs": [
    {
     "name": "stdout",
     "output_type": "stream",
     "text": [
      "[0.  5.  5.  0.1 0.1] [3]\n"
     ]
    }
   ],
   "source": [
    "x_none = np.array([0., 5., 5., 0.1, 0.1])\n",
    "print(x_none, kmeans.predict(x_none.reshape(1,-1)))"
   ]
  },
  {
   "cell_type": "code",
   "execution_count": 39,
   "metadata": {},
   "outputs": [
    {
     "name": "stdout",
     "output_type": "stream",
     "text": [
      "0 [ 0.2  0.8  0.   0.  -0. ]\n",
      "1 [-0.   9.5 -8.5 -0.  -0. ]\n",
      "2 [-0.  1. -0. -0. -0.]\n",
      "3 [-0.   9.5 -8.5 -0.  -0. ]\n"
     ]
    }
   ],
   "source": [
    "for i in range(kmeans.cluster_centers_.shape[0]):\n",
    "    print(i, Eq4(x_none, kmeans.cluster_centers_, i, Beta).round(1))"
   ]
  },
  {
   "cell_type": "code",
   "execution_count": 40,
   "metadata": {},
   "outputs": [
    {
     "name": "stdout",
     "output_type": "stream",
     "text": [
      "0 [ 0.2  0.8  0.   0.  -0. ]\n",
      "1 [-0.   9.5 -8.5 -0.  -0. ]\n",
      "2 [-0.  1. -0. -0. -0.]\n",
      "3 [-0.   9.5 -8.5 -0.  -0. ]\n"
     ]
    }
   ],
   "source": [
    "for i in range(kmeans.cluster_centers_.shape[0]):\n",
    "    print(i, Eq4(x_none, kmeans.cluster_centers_, i,\n",
    "                 beta(Data, i,\n",
    "                      DecisionLayer, NN_k, kmeans.cluster_centers_)).round(1))"
   ]
  },
  {
   "cell_type": "code",
   "execution_count": 41,
   "metadata": {},
   "outputs": [
    {
     "name": "stdout",
     "output_type": "stream",
     "text": [
      "Explanation of the real prediction x_hat = 3\n",
      "[-0.   9.5 -8.5 -0.  -0. ]\n"
     ]
    }
   ],
   "source": [
    "print(\"Explanation of the real prediction x_hat =\", kmeans.predict(x_none.reshape(1,-1))[0])\n",
    "print(Eq4(x_none, kmeans.cluster_centers_, i,\n",
    "          beta(Data, kmeans.predict(x_none.reshape(1,-1)),\n",
    "          DecisionLayer, NN_k, kmeans.cluster_centers_)).round(1))"
   ]
  },
  {
   "cell_type": "markdown",
   "metadata": {},
   "source": [
    "#### Randomised Example"
   ]
  },
  {
   "cell_type": "code",
   "execution_count": 42,
   "metadata": {},
   "outputs": [
    {
     "name": "stdout",
     "output_type": "stream",
     "text": [
      "[ 1.90907292  3.69068696  1.91780792 -0.44968563  1.59692618] [3]\n",
      "Cluster Centers:\n",
      "[[ 5.  -5.  -0.  -0.   0.1]\n",
      " [ 0.  -0.2  5.1  0.1  0.1]\n",
      " [ 0.  -0.1  0.1  0.1  0.1]\n",
      " [ 0.1  4.8  0.1  0.1 -0. ]]\n",
      "Explanation: [ 0.  1. -0. -0. -0.]\n"
     ]
    }
   ],
   "source": [
    "x_rand = np.random.normal(2,2,5)\n",
    "\n",
    "print(x_rand, kmeans.predict(x_rand.reshape(1,-1)))\n",
    "\n",
    "print(\"Cluster Centers:\")\n",
    "print(kmeans.cluster_centers_.round(1))\n",
    "print(\"Explanation:\", Eq4(x_rand,\n",
    "                           kmeans.cluster_centers_,\n",
    "                         kmeans.predict(x_rand.reshape(1,-1)),\n",
    "                         Beta).round(1))"
   ]
  }
 ],
 "metadata": {
  "kernelspec": {
   "display_name": "Python 3",
   "language": "python",
   "name": "python3"
  },
  "language_info": {
   "codemirror_mode": {
    "name": "ipython",
    "version": 3
   },
   "file_extension": ".py",
   "mimetype": "text/x-python",
   "name": "python",
   "nbconvert_exporter": "python",
   "pygments_lexer": "ipython3",
   "version": "3.8.5"
  }
 },
 "nbformat": 4,
 "nbformat_minor": 5
}

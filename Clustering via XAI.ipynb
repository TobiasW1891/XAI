{
 "cells": [
  {
   "cell_type": "markdown",
   "id": "7ec2a54e",
   "metadata": {},
   "source": [
    "# Clustering via XAI\n",
    "\n",
    "This notebook takes a kmeans-clustering algorithm and rewrites it as a 2-layer Neural Net, following Kauffmann et al. 2021 (https://arxiv.org/abs/1906.07633). Then, one can use XAI-techniques to analyse the NN. Kauffmann et al. propose Layer-Relevance-Propagation LRP (which will be implemented at a later stage in this notebook)."
   ]
  },
  {
   "cell_type": "code",
   "execution_count": 1,
   "id": "2223c765",
   "metadata": {},
   "outputs": [],
   "source": [
    "import numpy as np\n",
    "import matplotlib.pyplot as plt\n",
    "from sklearn.cluster import *"
   ]
  },
  {
   "cell_type": "code",
   "execution_count": 2,
   "id": "dc34714c",
   "metadata": {},
   "outputs": [
    {
     "name": "stdout",
     "output_type": "stream",
     "text": [
      "(400, 5)\n"
     ]
    }
   ],
   "source": [
    "x = np.random.normal(0,1,100).reshape(-1,1)\n",
    "y = np.random.normal(0,1,100).reshape(-1,1)\n",
    "z = np.random.normal(0,1,100).reshape(-1,1)\n",
    "Data = np.concatenate((x,y,z), axis=1)\n",
    "\n",
    "x = np.random.normal(0,1,100).reshape(-1,1)\n",
    "y = np.random.normal(5,1,100).reshape(-1,1)\n",
    "z = np.random.normal(0,1,100).reshape(-1,1)\n",
    "newDat = np.concatenate((x,y,z), axis=1)\n",
    "Data = np.concatenate((Data,newDat))\n",
    "\n",
    "x = np.random.normal(5,1,100).reshape(-1,1)\n",
    "y = np.random.normal(-5,1,100).reshape(-1,1)\n",
    "z = np.random.normal(0,1,100).reshape(-1,1)\n",
    "newDat = np.concatenate((x,y,z), axis=1)\n",
    "Data = np.concatenate((Data,newDat))\n",
    "\n",
    "x = np.random.normal(0,1,100).reshape(-1,1)\n",
    "y = np.random.normal(0,1,100).reshape(-1,1)\n",
    "z = np.random.normal(5,1,100).reshape(-1,1)\n",
    "newDat = np.concatenate((x,y,z), axis=1)\n",
    "Data = np.concatenate((Data,newDat))\n",
    "\n",
    "s1 = np.random.normal(0,1,400).reshape(-1,1) # superfluous data\n",
    "s2 = np.random.normal(0,1,400).reshape(-1,1) # superfluous data\n",
    "\n",
    "Data = np.concatenate((Data, s1,s2), axis =1)\n",
    "np.random.shuffle(Data)\n",
    "print(Data.shape)"
   ]
  },
  {
   "cell_type": "code",
   "execution_count": 3,
   "id": "22d492ef",
   "metadata": {},
   "outputs": [
    {
     "data": {
      "text/plain": [
       "<matplotlib.collections.PathCollection at 0x7f17229b5f60>"
      ]
     },
     "execution_count": 3,
     "metadata": {},
     "output_type": "execute_result"
    },
    {
     "data": {
      "image/png": "[encoded data removed]",
      "text/plain": [
       "<Figure size 432x288 with 1 Axes>"
      ]
     },
     "metadata": {
      "needs_background": "light"
     },
     "output_type": "display_data"
    }
   ],
   "source": [
    "plt.scatter(Data[:,1], Data[:,2])"
   ]
  },
  {
   "cell_type": "code",
   "execution_count": 4,
   "id": "957f5ca6",
   "metadata": {
    "scrolled": true
   },
   "outputs": [
    {
     "name": "stdout",
     "output_type": "stream",
     "text": [
      "[[ 3.27298488e-02  5.08835026e+00 -2.92112276e-04  8.57941668e-02\n",
      "   6.55419439e-02]\n",
      " [ 5.01246823e+00 -4.93370246e+00 -6.85192730e-03 -8.04469351e-02\n",
      "  -1.23671898e-01]\n",
      " [ 6.25576145e-02  1.24365072e-02 -1.21591317e-02 -2.40590999e-01\n",
      "  -8.80993839e-02]\n",
      " [-1.32642936e-01  4.59282931e-02  4.96047450e+00  2.85538380e-01\n",
      "  -6.15102806e-03]]\n",
      "[1 3 0 3 1 3 2 1 1 1 3 1 2 3 2 0 3 2 2 1 1 0 0 2 2 2 0 2 3 0 3 2 1 0 3 0 1\n",
      " 3 3 1 1 3 0 3 3 1 2 2 2 2 3 3 0 1 3 3 1 2 1 2 2 1 0 2 1 3 1 0 2 3 1 0 1 1\n",
      " 2 2 0 1 2 3 0 2 1 2 0 2 2 0 1 3 0 1 0 3 0 2 1 0 0 2 0 2 3 1 1 0 2 2 3 2 1\n",
      " 1 0 2 3 2 1 3 3 2 2 3 0 2 3 1 2 0 3 3 3 2 0 3 0 2 0 1 2 0 0 2 1 1 2 1 2 3\n",
      " 3 2 2 2 1 2 1 2 1 3 1 3 3 3 2 2 2 3 2 3 2 2 1 3 0 0 1 3 3 3 0 3 0 1 3 3 2\n",
      " 3 0 0 0 3 3 3 0 3 1 3 3 3 3 0 0 1 0 0 3 2 3 0 3 1 2 1 3 3 1 0 1 0 3 1 2 1\n",
      " 0 3 2 3 0 0 1 1 1 2 2 2 0 0 0 3 1 1 0 1 3 0 0 2 2 0 2 0 1 3 0 1 1 3 2 2 0\n",
      " 2 3 3 2 1 3 3 0 0 1 0 0 0 0 3 0 0 1 0 3 0 3 1 1 0 3 2 0 3 0 2 3 3 1 3 1 2\n",
      " 3 1 3 1 1 0 1 2 1 2 0 2 2 1 2 2 2 3 1 2 0 0 0 1 1 2 1 2 0 2 2 1 0 2 3 2 0\n",
      " 0 2 2 3 0 0 0 2 0 3 3 0 0 1 1 2 0 1 1 1 0 0 1 3 3 0 1 3 1 1 1 1 1 0 0 0 3\n",
      " 3 1 3 1 2 1 1 1 0 2 0 3 0 0 1 2 3 2 2 3 0 1 2 3 1 2 1 3 2 2]\n"
     ]
    }
   ],
   "source": [
    "nKM = 4\n",
    "kmeans = KMeans(n_clusters=nKM, random_state=0).fit(Data)\n",
    "print(kmeans.cluster_centers_)\n",
    "print(kmeans.labels_)"
   ]
  },
  {
   "cell_type": "markdown",
   "id": "67e33fd2",
   "metadata": {},
   "source": [
    "## Neuralising K-Means\n",
    "\n",
    "We neuralise the clustering classifier with respect to class 0, i.e. write a net that should tell us whether an instance belongs to class 0 or not."
   ]
  },
  {
   "cell_type": "code",
   "execution_count": 5,
   "id": "6d9ffaa0",
   "metadata": {},
   "outputs": [
    {
     "data": {
      "text/plain": [
       "array([  0.        ,  34.39269321, -14.75821562,  -0.95850148])"
      ]
     },
     "execution_count": 5,
     "metadata": {},
     "output_type": "execute_result"
    }
   ],
   "source": [
    "def layer1(x, centroids, i):\n",
    "    # takes one instance x, centroid-matrix and index of ith centroid\n",
    "    # returns values for the distances to centroid i\n",
    "    mu_c = centroids[i]\n",
    "    w = 2*(mu_c - centroids)\n",
    "    b = (centroids**2.).sum(1) - (mu_c**2.).sum()\n",
    "    h = w.dot(x) + b\n",
    "    return(h)\n",
    "x = np.ones(Data.shape[1])\n",
    "layer1(x, kmeans.cluster_centers_, 0)\n",
    "    "
   ]
  },
  {
   "cell_type": "code",
   "execution_count": 6,
   "id": "a786b8ce",
   "metadata": {},
   "outputs": [
    {
     "name": "stdout",
     "output_type": "stream",
     "text": [
      "False\n",
      "False\n",
      "True\n",
      "False\n"
     ]
    }
   ],
   "source": [
    "def layer2(h):\n",
    "    return(min(h) >= 0)\n",
    "\n",
    "for i in range(nKM):\n",
    "    print(layer2(layer1(x, \n",
    "                   kmeans.cluster_centers_,\n",
    "                   i)))"
   ]
  },
  {
   "cell_type": "code",
   "execution_count": 7,
   "id": "d4c2f39c",
   "metadata": {},
   "outputs": [
    {
     "name": "stdout",
     "output_type": "stream",
     "text": [
      "False\n",
      "False\n",
      "True\n",
      "False\n"
     ]
    }
   ],
   "source": [
    "def layer2(h,i):\n",
    "    # i is the index of the cluster which we \"test\" here\n",
    "    Indices = np.arange(len(h))\n",
    "    return(min(h[Indices!=i]) )\n",
    "\n",
    "def DecisionLayer(Minimum):\n",
    "    return(Minimum > 0)\n",
    "\n",
    "\n",
    "for i in range(nKM):\n",
    "    print(DecisionLayer(layer2(layer1(x, \n",
    "                   kmeans.cluster_centers_,\n",
    "                   i),i)))"
   ]
  },
  {
   "cell_type": "markdown",
   "id": "e67165d1",
   "metadata": {},
   "source": [
    "### Testing this 2-Layer-NN"
   ]
  },
  {
   "cell_type": "code",
   "execution_count": 8,
   "id": "83420808",
   "metadata": {},
   "outputs": [],
   "source": [
    "X = np.random.multivariate_normal(np.ones(Data.shape[1])*2.5, \n",
    "                              np.eye(Data.shape[1]), \n",
    "                              size=1000)\n",
    "Cluster_Pred = kmeans.predict(X)"
   ]
  },
  {
   "cell_type": "code",
   "execution_count": 9,
   "id": "91e2d693",
   "metadata": {},
   "outputs": [],
   "source": [
    "# Now predict via the layers\n",
    "Layer_Pred = np.empty(1000)\n",
    "\n",
    "\n",
    "\n",
    "for i in range(1000):\n",
    "    for j in range(nKM):\n",
    "        Decision = DecisionLayer(layer2(layer1(X[i,:],\n",
    "                                               kmeans.cluster_centers_,\n",
    "                                               j),\n",
    "                                        j))\n",
    "        if Decision:\n",
    "            Layer_Pred[i] = range(nKM)[j]\n"
   ]
  },
  {
   "cell_type": "code",
   "execution_count": 10,
   "id": "b5201d67",
   "metadata": {},
   "outputs": [
    {
     "data": {
      "text/plain": [
       "0"
      ]
     },
     "execution_count": 10,
     "metadata": {},
     "output_type": "execute_result"
    }
   ],
   "source": [
    "sum(Layer_Pred != Cluster_Pred)\n",
    "# Very good! The numerics don't introduce any unexpected errors!"
   ]
  },
  {
   "cell_type": "markdown",
   "id": "39e7c03f",
   "metadata": {},
   "source": [
    "## Layer Relevance Propagation\n"
   ]
  },
  {
   "cell_type": "code",
   "execution_count": 11,
   "id": "9722dd30",
   "metadata": {},
   "outputs": [],
   "source": [
    "\n",
    "\n",
    "def NN_k(x,centroids,k):\n",
    "    # checks if x belongs to kth cluster\n",
    "    return(layer2(layer1(x,centroids,k),k))"
   ]
  },
  {
   "cell_type": "code",
   "execution_count": 12,
   "id": "b846be3d",
   "metadata": {},
   "outputs": [],
   "source": [
    "Is0 = np.empty(Data.shape[0]) # Output-array whether jth instance is assigned to cluster 0\n",
    "for i in range(len(Is0)):\n",
    "    Is0[i] = DecisionLayer(NN_k(Data[i,:], \n",
    "                                kmeans.cluster_centers_, \n",
    "                                0))\n"
   ]
  },
  {
   "cell_type": "code",
   "execution_count": 13,
   "id": "5f416e2d",
   "metadata": {
    "scrolled": true
   },
   "outputs": [
    {
     "name": "stdout",
     "output_type": "stream",
     "text": [
      "Should all be 0: [0 0 0 0 0 0 0 0 0 0 0 0 0 0 0 0 0 0 0 0 0 0 0 0 0 0 0 0 0 0 0 0 0 0 0 0 0\n",
      " 0 0 0 0 0 0 0 0 0 0 0 0 0 0 0 0 0 0 0 0 0 0 0 0 0 0 0 0 0 0 0 0 0 0 0 0 0\n",
      " 0 0 0 0 0 0 0 0 0 0 0 0 0 0 0 0 0 0 0 0 0 0 0 0 0 0]\n",
      "Should all be nonzero: [1 3 3 1 3 2 1 1 1 3 1 2 3 2 3 2 2 1 1 2 2 2 2 3 3 2 1 3 1 3 3 1 1 3 3 3 1\n",
      " 2 2 2 2 3 3 1 3 3 1 2 1 2 2 1 2 1 3 1 2 3 1 1 1 2 2 1 2 3 2 1 2 2 2 1 3 1\n",
      " 3 2 1 2 2 3 1 1 2 2 3 2 1 1 2 3 2 1 3 3 2 2 3 2 3 1 2 3 3 3 2 3 2 1 2 2 1\n",
      " 1 2 1 2 3 3 2 2 2 1 2 1 2 1 3 1 3 3 3 2 2 2 3 2 3 2 2 1 3 1 3 3 3 3 1 3 3\n",
      " 2 3 3 3 3 3 1 3 3 3 3 1 3 2 3 3 1 2 1 3 3 1 1 3 1 2 1 3 2 3 1 1 1 2 2 2 3\n",
      " 1 1 1 3 2 2 2 1 3 1 1 3 2 2 2 3 3 2 1 3 3 1 3 1 3 3 1 1 3 2 3 2 3 3 1 3 1\n",
      " 2 3 1 3 1 1 1 2 1 2 2 2 1 2 2 2 3 1 2 1 1 2 1 2 2 2 1 2 3 2 2 2 3 2 3 3 1\n",
      " 1 2 1 1 1 1 3 3 1 3 1 1 1 1 1 3 3 1 3 1 2 1 1 1 2 3 1 2 3 2 2 3 1 2 3 1 2\n",
      " 1 3 2 2]\n"
     ]
    }
   ],
   "source": [
    "print(\"Should all be 0:\", kmeans.labels_[Is0 == 1])\n",
    "print(\"Should all be nonzero:\",kmeans.labels_[Is0 != 1])\n",
    "# Good!"
   ]
  },
  {
   "cell_type": "code",
   "execution_count": 14,
   "id": "acd83366",
   "metadata": {},
   "outputs": [
    {
     "name": "stdout",
     "output_type": "stream",
     "text": [
      "4.0\n"
     ]
    }
   ],
   "source": [
    "# Beta-Heuristic from eq. (3)\n",
    "\n",
    "Beta = np.mean(Is0)**(-1.)\n",
    "print(Beta)"
   ]
  },
  {
   "cell_type": "code",
   "execution_count": 28,
   "id": "6ffc5ee8",
   "metadata": {},
   "outputs": [
    {
     "name": "stdout",
     "output_type": "stream",
     "text": [
      "[ 4.5 -2.   0.   0.   0. ]\n",
      "1\n",
      "14.915541779713685\n",
      "[4.43327362e-106 1.49155418e+001 1.83100308e-025 1.50653522e-071]\n",
      "[4.43327362e-106 1.83100308e-025 1.50653522e-071]\n",
      "R_k [2.42122674e-81 8.14610415e+25 1.00000000e+00 8.22792292e-47]\n"
     ]
    }
   ],
   "source": [
    "## IMPLEMENT EQUATION (2)\n",
    "\n",
    "\n",
    "#For one particular data point x\n",
    "x = np.zeros(Data.shape[1])\n",
    "x[0] = 4.5\n",
    "x[1] = -2.\n",
    "\n",
    "\n",
    "print(x) \n",
    "x_Pred = kmeans.predict(x.reshape(1, -1))[0]\n",
    "print(x_Pred)\n",
    "\n",
    "# Let's see why x was assigned to x_Pred:\n",
    "n_Clust = kmeans.cluster_centers_.shape[0] # number of clusters\n",
    "h_k = layer1(x, kmeans.cluster_centers_,x_Pred)\n",
    "f_c = layer2(layer1(x,\n",
    "                    kmeans.cluster_centers_, x_Pred), x_Pred)\n",
    "print(f_c)\n",
    "\n",
    "# numerator of equation (2)\n",
    "r_k = np.exp(-Beta * h_k) *f_c\n",
    "print(r_k)\n",
    "print(r_k[range(n_Clust) != x_Pred])\n",
    "\n",
    "R_k = r_k/ sum(r_k[range(n_Clust) != x_Pred])\n",
    "print(\"R_k\",R_k) # Equation (2)"
   ]
  },
  {
   "cell_type": "code",
   "execution_count": 29,
   "id": "977c00c1",
   "metadata": {},
   "outputs": [
    {
     "name": "stdout",
     "output_type": "stream",
     "text": [
      "[[ 2.52259904e+00  7.73239015e-02 -3.57201979e-03  2.67361586e-03\n",
      "  -2.90649771e-02]\n",
      " [ 5.01246823e+00 -4.93370246e+00 -6.85192730e-03 -8.04469351e-02\n",
      "  -1.23671898e-01]\n",
      " [ 2.53751292e+00 -2.46063298e+00 -9.50552951e-03 -1.60518967e-01\n",
      "  -1.05885641e-01]\n",
      " [ 2.43991265e+00 -2.44388708e+00  2.47681129e+00  1.02545722e-01\n",
      "  -6.49114631e-02]]\n",
      "(4, 5)\n",
      " # # # # \n",
      "(3, 5)\n"
     ]
    }
   ],
   "source": [
    "# IMPLEMENT EQUATION (4)\n",
    "m_k = 0.5*(kmeans.cluster_centers_ + kmeans.cluster_centers_[x_Pred])\n",
    "print(m_k)\n",
    "Diff_x_m = x - m_k\n",
    "print(Diff_x_m.shape)\n",
    "print(\" # # # # \")\n",
    "Diff_x_m_reduced = Diff_x_m[range(n_Clust) != x_Pred]\n",
    "print(Diff_x_m_reduced.shape)"
   ]
  },
  {
   "cell_type": "code",
   "execution_count": 30,
   "id": "ea3656fc",
   "metadata": {},
   "outputs": [
    {
     "name": "stdout",
     "output_type": "stream",
     "text": [
      "[2.42122674e-81 1.00000000e+00 8.22792292e-47]\n"
     ]
    }
   ],
   "source": [
    "mu_c = kmeans.cluster_centers_[x_Pred]\n",
    "W = 2*(mu_c - kmeans.cluster_centers_)\n",
    "W_reduced = W[range(n_Clust) != x_Pred]\n",
    "W_reduced.shape\n",
    "\n",
    "R_previous_reduced = R_k[range(n_Clust)!= x_Pred] # from Equation (2)\n",
    "print(R_previous_reduced)"
   ]
  },
  {
   "cell_type": "code",
   "execution_count": 31,
   "id": "b2acb0f4",
   "metadata": {},
   "outputs": [
    {
     "name": "stdout",
     "output_type": "stream",
     "text": [
      "[[ 1.96938789e+01  4.16380993e+01 -4.68635781e-05  8.88929694e-04\n",
      "  -1.09989920e-02]\n",
      " [ 1.94282712e+01 -4.55670944e+00  1.00895577e-04  5.14123192e-02\n",
      "  -7.53323693e-03]\n",
      " [ 2.11987569e+01 -4.42078755e+00  2.46062603e+01  7.50604569e-02\n",
      "  -1.52569032e-02]]\n",
      "(3, 5)\n",
      "[41.63809934 -4.55670944 -4.42078755]\n"
     ]
    }
   ],
   "source": [
    "Product = np.multiply(Diff_x_m_reduced, W_reduced)\n",
    "print(Product)\n",
    "# Product is a Matrix P_ki with k = number of Clusters -1\n",
    "#                               i = Index of the input feature\n",
    "#       Shape of Product is (number Clusters -1,  number Input Features)\n",
    "\n",
    "print(Product.shape)\n",
    "print(Product[:,1])"
   ]
  },
  {
   "cell_type": "code",
   "execution_count": 32,
   "id": "27ed35bc",
   "metadata": {},
   "outputs": [
    {
     "name": "stdout",
     "output_type": "stream",
     "text": [
      "[61.32182133 14.91554178 41.44403322]\n"
     ]
    }
   ],
   "source": [
    "R_input = np.empty(Data.shape[1]) # Relevance of each input-feature\n",
    "\n",
    "Denominator_Eq4 = np.sum(Product,1) # summing over all input features\n",
    "print(Denominator_Eq4)"
   ]
  },
  {
   "cell_type": "code",
   "execution_count": 33,
   "id": "26442021",
   "metadata": {},
   "outputs": [
    {
     "name": "stdout",
     "output_type": "stream",
     "text": [
      "61.321821330502424\n",
      "14.915541779713687\n",
      "41.444033221414074\n"
     ]
    }
   ],
   "source": [
    "for k in range(3):\n",
    "    print(np.sum(Product[k,:]))"
   ]
  },
  {
   "cell_type": "code",
   "execution_count": 34,
   "id": "ce04b45d",
   "metadata": {},
   "outputs": [
    {
     "name": "stdout",
     "output_type": "stream",
     "text": [
      "[26.4 24.   0.   0.   0. ]\n"
     ]
    }
   ],
   "source": [
    "\n",
    "for i in range(len(R_input)):\n",
    "    \n",
    "    for k in range(n_Clust-1):\n",
    "        \n",
    "        R_input[i] +=  Product[k,i] * R_previous_reduced[k] / np.sum(Product[k,:])\n",
    "    \n",
    "print(R_input.round(1))"
   ]
  },
  {
   "cell_type": "code",
   "execution_count": 35,
   "id": "ef7c41b2",
   "metadata": {},
   "outputs": [
    {
     "name": "stdout",
     "output_type": "stream",
     "text": [
      "[ 4.5 -2.   0.   0.   0. ] 1\n",
      "[[ 0.   5.1 -0.   0.1  0.1]\n",
      " [ 5.  -4.9 -0.  -0.1 -0.1]\n",
      " [ 0.1  0.  -0.  -0.2 -0.1]\n",
      " [-0.1  0.   5.   0.3 -0. ]]\n"
     ]
    }
   ],
   "source": [
    "print(x, x_Pred)\n",
    "print(kmeans.cluster_centers_.round(1))"
   ]
  },
  {
   "cell_type": "markdown",
   "id": "46043d3e",
   "metadata": {},
   "source": [
    "#### Now for a different example"
   ]
  },
  {
   "cell_type": "code",
   "execution_count": 37,
   "id": "72d8dc74",
   "metadata": {},
   "outputs": [],
   "source": [
    "x = np.zeros(Data.shape[1])\n",
    "x[1] = 4.0\n",
    "x[2] = 2.0\n",
    "x[3] = 1.0"
   ]
  },
  {
   "cell_type": "code",
   "execution_count": 38,
   "id": "d878e764",
   "metadata": {},
   "outputs": [
    {
     "name": "stdout",
     "output_type": "stream",
     "text": [
      "0\n",
      "15.47337383542678\n",
      "[1.54733738e+001 2.07036388e-180 2.03977153e-026 2.27136572e-032]\n",
      "[2.07036388e-180 2.03977153e-026 2.27136572e-032]\n",
      "R_k [7.58582831e+026 1.01499680e-154 9.99998886e-001 1.11353804e-006]\n",
      "[[ 3.27298488e-02  5.08835026e+00 -2.92112276e-04  8.57941668e-02\n",
      "   6.55419439e-02]\n",
      " [ 2.52259904e+00  7.73239015e-02 -3.57201979e-03  2.67361586e-03\n",
      "  -2.90649771e-02]\n",
      " [ 4.76437316e-02  2.55039339e+00 -6.22562200e-03 -7.73984159e-02\n",
      "  -1.12787200e-02]\n",
      " [-4.99565434e-02  2.56713928e+00  2.48009119e+00  1.85666273e-01\n",
      "   2.96954579e-02]]\n",
      "(4, 5)\n",
      " # # # # \n",
      "(3, 5)\n",
      "[1.01499680e-154 9.99998886e-001 1.11353804e-006]\n",
      "[[ 2.51237665e+01  7.86265334e+01  2.62861237e-02  3.31593274e-01\n",
      "   1.09989920e-02]\n",
      " [ 2.84221213e-03  1.47161563e+01  4.76158370e-02  7.03293720e-01\n",
      "   3.46575503e-03]\n",
      " [ 1.65229053e-02  1.44501768e+01  4.76324074e+00 -3.25316899e-01\n",
      "  -4.25791126e-03]]\n",
      "(3, 5)\n",
      "[78.62653337 14.71615631 14.45017676]\n",
      "[104.11917827  15.47337384  18.9003656 ]\n"
     ]
    }
   ],
   "source": [
    "\n",
    "x_Pred = kmeans.predict(x.reshape(1, -1))[0]\n",
    "print(x_Pred)\n",
    "\n",
    "## IMPLEMENT EQUATION (2)\n",
    "\n",
    "# Let's see why x was assigned to x_Pred:\n",
    "n_Clust = kmeans.cluster_centers_.shape[0] # number of clusters\n",
    "h_k = layer1(x, kmeans.cluster_centers_,x_Pred)\n",
    "f_c = layer2(layer1(x,\n",
    "                    kmeans.cluster_centers_, x_Pred), x_Pred)\n",
    "print(f_c)\n",
    "\n",
    "# numerator of equation (2)\n",
    "r_k = np.exp(-Beta * h_k) *f_c\n",
    "print(r_k)\n",
    "print(r_k[range(n_Clust) != x_Pred])\n",
    "\n",
    "R_k = r_k/ sum(r_k[range(n_Clust) != x_Pred])\n",
    "print(\"R_k\",R_k) # Equation (2)\n",
    "\n",
    "\n",
    "# IMPLEMENT EQUATION (4)\n",
    "m_k = 0.5*(kmeans.cluster_centers_ + kmeans.cluster_centers_[x_Pred])\n",
    "print(m_k)\n",
    "Diff_x_m = x - m_k\n",
    "print(Diff_x_m.shape)\n",
    "print(\" # # # # \")\n",
    "Diff_x_m_reduced = Diff_x_m[range(n_Clust) != x_Pred]\n",
    "print(Diff_x_m_reduced.shape)\n",
    "\n",
    "mu_c = kmeans.cluster_centers_[x_Pred]\n",
    "W = 2*(mu_c - kmeans.cluster_centers_)\n",
    "W_reduced = W[range(n_Clust) != x_Pred]\n",
    "W_reduced.shape\n",
    "\n",
    "R_previous_reduced = R_k[range(n_Clust)!= x_Pred] # from Equation (2)\n",
    "print(R_previous_reduced)\n",
    "\n",
    "Product = np.multiply(Diff_x_m_reduced, W_reduced)\n",
    "print(Product)\n",
    "# Product is a Matrix P_ki with k = number of Clusters -1\n",
    "#                               i = Index of the input feature\n",
    "#       Shape of Product is (number Clusters -1,  number Input Features)\n",
    "\n",
    "print(Product.shape)\n",
    "print(Product[:,1])\n",
    "\n",
    "R_input = np.empty(Data.shape[1]) # Relevance of each input-feature\n",
    "\n",
    "Denominator_Eq4 = np.sum(Product,1) # summing over all input features\n",
    "print(Denominator_Eq4)"
   ]
  },
  {
   "cell_type": "code",
   "execution_count": 39,
   "id": "a20751ef",
   "metadata": {},
   "outputs": [
    {
     "name": "stdout",
     "output_type": "stream",
     "text": [
      "[ 0.  26.8  0.   0.1  0. ]\n"
     ]
    }
   ],
   "source": [
    "\n",
    "for i in range(len(R_input)):\n",
    "    \n",
    "    for k in range(n_Clust-1):\n",
    "        \n",
    "        R_input[i] +=  Product[k,i] * R_previous_reduced[k] / np.sum(Product[k,:])\n",
    "    \n",
    "print(R_input.round(1))"
   ]
  },
  {
   "cell_type": "code",
   "execution_count": 40,
   "id": "0d3de5fc",
   "metadata": {},
   "outputs": [
    {
     "name": "stdout",
     "output_type": "stream",
     "text": [
      "[0. 4. 2. 1. 0.] 0\n",
      "[[ 0.   5.1 -0.   0.1  0.1]\n",
      " [ 5.  -4.9 -0.  -0.1 -0.1]\n",
      " [ 0.1  0.  -0.  -0.2 -0.1]\n",
      " [-0.1  0.   5.   0.3 -0. ]]\n"
     ]
    }
   ],
   "source": [
    "print(x, x_Pred)\n",
    "print(kmeans.cluster_centers_.round(1))"
   ]
  },
  {
   "cell_type": "code",
   "execution_count": null,
   "id": "3cf10929",
   "metadata": {},
   "outputs": [],
   "source": []
  }
 ],
 "metadata": {
  "kernelspec": {
   "display_name": "Python 3 (ipykernel)",
   "language": "python",
   "name": "python3"
  },
  "language_info": {
   "codemirror_mode": {
    "name": "ipython",
    "version": 3
   },
   "file_extension": ".py",
   "mimetype": "text/x-python",
   "name": "python",
   "nbconvert_exporter": "python",
   "pygments_lexer": "ipython3",
   "version": "3.7.3"
  }
 },
 "nbformat": 4,
 "nbformat_minor": 5
}

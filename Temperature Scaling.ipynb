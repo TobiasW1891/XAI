{
 "cells": [
  {
   "cell_type": "code",
   "execution_count": 1,
   "id": "00a5a045",
   "metadata": {
    "scrolled": true
   },
   "outputs": [
    {
     "name": "stderr",
     "output_type": "stream",
     "text": [
      "/home/users/t_wand01/.local/lib/python3.7/site-packages/tensorflow/python/framework/dtypes.py:516: FutureWarning: Passing (type, 1) or '1type' as a synonym of type is deprecated; in a future version of numpy, it will be understood as (type, (1,)) / '(1,)type'.\n",
      "  _np_qint8 = np.dtype([(\"qint8\", np.int8, 1)])\n",
      "/home/users/t_wand01/.local/lib/python3.7/site-packages/tensorflow/python/framework/dtypes.py:517: FutureWarning: Passing (type, 1) or '1type' as a synonym of type is deprecated; in a future version of numpy, it will be understood as (type, (1,)) / '(1,)type'.\n",
      "  _np_quint8 = np.dtype([(\"quint8\", np.uint8, 1)])\n",
      "/home/users/t_wand01/.local/lib/python3.7/site-packages/tensorflow/python/framework/dtypes.py:518: FutureWarning: Passing (type, 1) or '1type' as a synonym of type is deprecated; in a future version of numpy, it will be understood as (type, (1,)) / '(1,)type'.\n",
      "  _np_qint16 = np.dtype([(\"qint16\", np.int16, 1)])\n",
      "/home/users/t_wand01/.local/lib/python3.7/site-packages/tensorflow/python/framework/dtypes.py:519: FutureWarning: Passing (type, 1) or '1type' as a synonym of type is deprecated; in a future version of numpy, it will be understood as (type, (1,)) / '(1,)type'.\n",
      "  _np_quint16 = np.dtype([(\"quint16\", np.uint16, 1)])\n",
      "/home/users/t_wand01/.local/lib/python3.7/site-packages/tensorflow/python/framework/dtypes.py:520: FutureWarning: Passing (type, 1) or '1type' as a synonym of type is deprecated; in a future version of numpy, it will be understood as (type, (1,)) / '(1,)type'.\n",
      "  _np_qint32 = np.dtype([(\"qint32\", np.int32, 1)])\n",
      "/home/users/t_wand01/.local/lib/python3.7/site-packages/tensorflow/python/framework/dtypes.py:525: FutureWarning: Passing (type, 1) or '1type' as a synonym of type is deprecated; in a future version of numpy, it will be understood as (type, (1,)) / '(1,)type'.\n",
      "  np_resource = np.dtype([(\"resource\", np.ubyte, 1)])\n",
      "/usr/lib/python3/dist-packages/requests/__init__.py:91: RequestsDependencyWarning: urllib3 (1.26.7) or chardet (3.0.4) doesn't match a supported version!\n",
      "  RequestsDependencyWarning)\n",
      "/home/users/t_wand01/.local/lib/python3.7/site-packages/tensorboard/compat/tensorflow_stub/dtypes.py:541: FutureWarning: Passing (type, 1) or '1type' as a synonym of type is deprecated; in a future version of numpy, it will be understood as (type, (1,)) / '(1,)type'.\n",
      "  _np_qint8 = np.dtype([(\"qint8\", np.int8, 1)])\n",
      "/home/users/t_wand01/.local/lib/python3.7/site-packages/tensorboard/compat/tensorflow_stub/dtypes.py:542: FutureWarning: Passing (type, 1) or '1type' as a synonym of type is deprecated; in a future version of numpy, it will be understood as (type, (1,)) / '(1,)type'.\n",
      "  _np_quint8 = np.dtype([(\"quint8\", np.uint8, 1)])\n",
      "/home/users/t_wand01/.local/lib/python3.7/site-packages/tensorboard/compat/tensorflow_stub/dtypes.py:543: FutureWarning: Passing (type, 1) or '1type' as a synonym of type is deprecated; in a future version of numpy, it will be understood as (type, (1,)) / '(1,)type'.\n",
      "  _np_qint16 = np.dtype([(\"qint16\", np.int16, 1)])\n",
      "/home/users/t_wand01/.local/lib/python3.7/site-packages/tensorboard/compat/tensorflow_stub/dtypes.py:544: FutureWarning: Passing (type, 1) or '1type' as a synonym of type is deprecated; in a future version of numpy, it will be understood as (type, (1,)) / '(1,)type'.\n",
      "  _np_quint16 = np.dtype([(\"quint16\", np.uint16, 1)])\n",
      "/home/users/t_wand01/.local/lib/python3.7/site-packages/tensorboard/compat/tensorflow_stub/dtypes.py:545: FutureWarning: Passing (type, 1) or '1type' as a synonym of type is deprecated; in a future version of numpy, it will be understood as (type, (1,)) / '(1,)type'.\n",
      "  _np_qint32 = np.dtype([(\"qint32\", np.int32, 1)])\n",
      "/home/users/t_wand01/.local/lib/python3.7/site-packages/tensorboard/compat/tensorflow_stub/dtypes.py:550: FutureWarning: Passing (type, 1) or '1type' as a synonym of type is deprecated; in a future version of numpy, it will be understood as (type, (1,)) / '(1,)type'.\n",
      "  np_resource = np.dtype([(\"resource\", np.ubyte, 1)])\n"
     ]
    }
   ],
   "source": [
    "import numpy as np\n",
    "from tensorflow import keras\n",
    "from tensorflow.keras import layers\n",
    "from sklearn.model_selection import train_test_split\n",
    "import matplotlib.pyplot as plt\n",
    "import pandas as pd\n",
    "from scipy.optimize import fmin"
   ]
  },
  {
   "cell_type": "markdown",
   "id": "e0bcfb2e",
   "metadata": {},
   "source": [
    "### Import the Data"
   ]
  },
  {
   "cell_type": "code",
   "execution_count": 2,
   "id": "46586793",
   "metadata": {},
   "outputs": [
    {
     "name": "stdout",
     "output_type": "stream",
     "text": [
      "x_train shape: (10000, 28, 28, 1)\n",
      "x_val shape: (50000, 28, 28, 1)\n",
      "10000 train samples\n",
      "50000 validation samples\n",
      "10000 test samples\n"
     ]
    }
   ],
   "source": [
    "# Model / data parameters\n",
    "num_classes = 10\n",
    "input_shape = (28, 28, 1)\n",
    "\n",
    "# the data, split between train and test sets\n",
    "(x_train, y_train), (x_test, y_test) = keras.datasets.mnist.load_data()\n",
    "# now split into validation data, too\n",
    "x_train, x_val, y_train, y_val = train_test_split( x_train, y_train, \n",
    "                                                  test_size=0.83333, \n",
    "                                                  random_state=42)\n",
    "\n",
    "# Scale images to the [0, 1] range\n",
    "x_train = x_train.astype(\"float32\") / 255\n",
    "x_test = x_test.astype(\"float32\") / 255\n",
    "x_val = x_val.astype(\"float32\") / 255\n",
    "\n",
    "# Make sure images have shape (28, 28, 1)\n",
    "x_train = np.expand_dims(x_train, -1)\n",
    "x_test = np.expand_dims(x_test, -1)\n",
    "x_val = np.expand_dims(x_val, -1)\n",
    "\n",
    "\n",
    "\n",
    "\n",
    "print(\"x_train shape:\", x_train.shape)\n",
    "print(\"x_val shape:\", x_val.shape)\n",
    "\n",
    "print(x_train.shape[0], \"train samples\")\n",
    "print(x_val.shape[0], \"validation samples\")\n",
    "print(x_test.shape[0], \"test samples\")\n",
    "\n",
    "\n",
    "# convert class vectors to binary class matrices\n",
    "y_train = keras.utils.to_categorical(y_train, num_classes)\n",
    "y_test = keras.utils.to_categorical(y_test, num_classes)\n",
    "y_val = keras.utils.to_categorical(y_val, num_classes)\n"
   ]
  },
  {
   "cell_type": "markdown",
   "id": "6a09e29f",
   "metadata": {},
   "source": [
    "### Build Model\n",
    "With a softmax activation function to use temperature scaling."
   ]
  },
  {
   "cell_type": "code",
   "execution_count": 3,
   "id": "9332b817",
   "metadata": {},
   "outputs": [
    {
     "name": "stdout",
     "output_type": "stream",
     "text": [
      "WARNING:tensorflow:From /home/users/t_wand01/.local/lib/python3.7/site-packages/tensorflow/python/ops/init_ops.py:1251: calling VarianceScaling.__init__ (from tensorflow.python.ops.init_ops) with dtype is deprecated and will be removed in a future version.\n",
      "Instructions for updating:\n",
      "Call initializer instance with the dtype argument instead of passing it to the constructor\n",
      "Model: \"sequential\"\n",
      "_________________________________________________________________\n",
      "Layer (type)                 Output Shape              Param #   \n",
      "=================================================================\n",
      "conv2d (Conv2D)              (None, 26, 26, 32)        320       \n",
      "_________________________________________________________________\n",
      "max_pooling2d (MaxPooling2D) (None, 13, 13, 32)        0         \n",
      "_________________________________________________________________\n",
      "conv2d_1 (Conv2D)            (None, 11, 11, 64)        18496     \n",
      "_________________________________________________________________\n",
      "max_pooling2d_1 (MaxPooling2 (None, 5, 5, 64)          0         \n",
      "_________________________________________________________________\n",
      "flatten (Flatten)            (None, 1600)              0         \n",
      "_________________________________________________________________\n",
      "dropout (Dropout)            (None, 1600)              0         \n",
      "_________________________________________________________________\n",
      "dense (Dense)                (None, 10)                16010     \n",
      "=================================================================\n",
      "Total params: 34,826\n",
      "Trainable params: 34,826\n",
      "Non-trainable params: 0\n",
      "_________________________________________________________________\n"
     ]
    }
   ],
   "source": [
    "model = keras.Sequential(\n",
    "    [\n",
    "        keras.Input(shape=input_shape),\n",
    "        layers.Conv2D(32, kernel_size=(3, 3), activation=\"relu\"),\n",
    "        layers.MaxPooling2D(pool_size=(2, 2)),\n",
    "        layers.Conv2D(64, kernel_size=(3, 3), activation=\"relu\"),\n",
    "        layers.MaxPooling2D(pool_size=(2, 2)),\n",
    "        layers.Flatten(),\n",
    "        layers.Dropout(0.5),\n",
    "        layers.Dense(num_classes, activation=\"softmax\"),\n",
    "    ]\n",
    ")\n",
    "\n",
    "model.summary()"
   ]
  },
  {
   "cell_type": "markdown",
   "id": "7545193d",
   "metadata": {},
   "source": [
    "### Train the Model"
   ]
  },
  {
   "cell_type": "code",
   "execution_count": 4,
   "id": "0f3c5932",
   "metadata": {
    "scrolled": true
   },
   "outputs": [
    {
     "name": "stdout",
     "output_type": "stream",
     "text": [
      "Train on 10000 samples, validate on 50000 samples\n",
      "Epoch 1/3\n",
      "  128/10000 [..............................] - ETA: 6s - loss: 2.2724 - acc: 0.1484"
     ]
    },
    {
     "name": "stderr",
     "output_type": "stream",
     "text": [
      "2022-01-12 15:49:49.547273: I tensorflow/core/platform/cpu_feature_guard.cc:142] Your CPU supports instructions that this TensorFlow binary was not compiled to use: AVX2 FMA\n",
      "2022-01-12 15:49:49.570083: I tensorflow/core/platform/profile_utils/cpu_utils.cc:94] CPU Frequency: 3299990000 Hz\n",
      "2022-01-12 15:49:49.571714: I tensorflow/compiler/xla/service/service.cc:168] XLA service 0x105f010 executing computations on platform Host. Devices:\n",
      "2022-01-12 15:49:49.571758: I tensorflow/compiler/xla/service/service.cc:175]   StreamExecutor device (0): <undefined>, <undefined>\n",
      "2022-01-12 15:49:49.622001: W tensorflow/compiler/jit/mark_for_compilation_pass.cc:1412] (One-time warning): Not using XLA:CPU for cluster because envvar TF_XLA_FLAGS=--tf_xla_cpu_global_jit was not set.  If you want XLA:CPU, either set that envvar, or use experimental_jit_scope to enable XLA:CPU.  To confirm that XLA is active, pass --vmodule=xla_compilation_cache=1 (as a proper command-line flag, not via TF_XLA_FLAGS) or set the envvar XLA_FLAGS=--xla_hlo_profile.\n"
     ]
    },
    {
     "name": "stdout",
     "output_type": "stream",
     "text": [
      "10000/10000 [==============================] - 3s 295us/sample - loss: 1.0278 - acc: 0.6849 - val_loss: 0.3034 - val_acc: 0.9158\n",
      "Epoch 2/3\n",
      "10000/10000 [==============================] - 3s 276us/sample - loss: 0.2963 - acc: 0.9069 - val_loss: 0.1992 - val_acc: 0.9407\n",
      "Epoch 3/3\n",
      "10000/10000 [==============================] - 3s 282us/sample - loss: 0.2137 - acc: 0.9322 - val_loss: 0.1507 - val_acc: 0.9567\n"
     ]
    },
    {
     "data": {
      "text/plain": [
       "<tensorflow.python.keras.callbacks.History at 0x7f6dc4629390>"
      ]
     },
     "execution_count": 4,
     "metadata": {},
     "output_type": "execute_result"
    }
   ],
   "source": [
    "batch_size = 128\n",
    "epochs = 3\n",
    "\n",
    "model.compile(loss=\"categorical_crossentropy\", optimizer=\"adam\", metrics=[\"accuracy\"])\n",
    "\n",
    "model.fit(x_train, y_train, batch_size=batch_size, epochs=epochs,\n",
    "          validation_split=0.0, \n",
    "          validation_data = (x_val,\n",
    "                             y_val))"
   ]
  },
  {
   "cell_type": "code",
   "execution_count": 5,
   "id": "b5c3be9d",
   "metadata": {},
   "outputs": [
    {
     "name": "stdout",
     "output_type": "stream",
     "text": [
      "Test loss: 0.13546126974523068\n",
      "Test accuracy: 0.9609\n"
     ]
    }
   ],
   "source": [
    "score = model.evaluate(x_test, y_test, verbose=0)\n",
    "print(\"Test loss:\", score[0])\n",
    "print(\"Test accuracy:\", score[1])\n"
   ]
  },
  {
   "cell_type": "code",
   "execution_count": 6,
   "id": "7f42a857",
   "metadata": {},
   "outputs": [],
   "source": [
    "predict = model.predict(x_val) # this gives the softmax-output for all 10 classes"
   ]
  },
  {
   "cell_type": "code",
   "execution_count": 7,
   "id": "cae83124",
   "metadata": {},
   "outputs": [
    {
     "data": {
      "text/plain": [
       "array([7, 3, 8, ..., 2, 0, 2])"
      ]
     },
     "execution_count": 7,
     "metadata": {},
     "output_type": "execute_result"
    }
   ],
   "source": [
    "np.argmax(predict,axis=-1) # this yields the class prediction"
   ]
  },
  {
   "cell_type": "code",
   "execution_count": 8,
   "id": "09d47775",
   "metadata": {},
   "outputs": [
    {
     "name": "stdout",
     "output_type": "stream",
     "text": [
      "[7 3 8 ... 2 0 2]\n"
     ]
    }
   ],
   "source": [
    "y_val_hat = model.predict_classes(x_val)\n",
    "print(y_val_hat)  # this also yields the class prediction"
   ]
  },
  {
   "cell_type": "code",
   "execution_count": 9,
   "id": "7ee5a53a",
   "metadata": {},
   "outputs": [
    {
     "name": "stdout",
     "output_type": "stream",
     "text": [
      "1.0000000876253754\n",
      "1.000000100929817\n",
      "0.9999999543142621\n",
      "1.0000000092454684\n",
      "1.0000000334827321\n"
     ]
    }
   ],
   "source": [
    "for i in range(5):\n",
    "    print(sum(predict[i,:])) # adds up to approx. 1"
   ]
  },
  {
   "cell_type": "markdown",
   "id": "858bc677",
   "metadata": {},
   "source": [
    "### Temperature Scaling\n",
    "\n",
    "Based on arXiv:1706.04599:First define a function to calculate the expected confidence error (eq. (3)). Then define a function to scale the temperature T of the softmax-prediction (eq. (9)). Finally, optimise the negative log likelihood (eq. (6)) with respect to the temperature T (T is \"hidden\" in the re-scaled softmax-probability)."
   ]
  },
  {
   "cell_type": "markdown",
   "id": "bed21829",
   "metadata": {},
   "source": [
    "#### ECE\n",
    "\n",
    "Define Bins and compute their expected confidence error"
   ]
  },
  {
   "cell_type": "code",
   "execution_count": 10,
   "id": "9022777f",
   "metadata": {},
   "outputs": [
    {
     "name": "stdout",
     "output_type": "stream",
     "text": [
      "(50000,)\n"
     ]
    },
    {
     "data": {
      "image/png": "[encoded data removed]",
      "text/plain": [
       "<Figure size 432x288 with 1 Axes>"
      ]
     },
     "metadata": {
      "needs_background": "light"
     },
     "output_type": "display_data"
    },
    {
     "name": "stdout",
     "output_type": "stream",
     "text": [
      "[0.2 0.3 0.4 0.5 0.6 0.7 0.8 0.9 1. ]\n"
     ]
    }
   ],
   "source": [
    "Maxima = predict.max(axis=1)\n",
    "print(Maxima.shape)\n",
    "plt.hist(Maxima)\n",
    "plt.show()\n",
    "Borders = np.arange(0.2,1.01,0.1) # borders of the bin intervals\n",
    "print(Borders)"
   ]
  },
  {
   "cell_type": "code",
   "execution_count": 11,
   "id": "b5b93c25",
   "metadata": {},
   "outputs": [
    {
     "name": "stdout",
     "output_type": "stream",
     "text": [
      "0.2 0.3 42 0.274 0.286\n",
      "0.3 0.4 277 0.362 0.419\n",
      "0.4 0.5 723 0.457 0.483\n",
      "0.5 0.6 1260 0.551 0.601\n",
      "0.6 0.7 1296 0.65 0.731\n",
      "0.7 0.8 1863 0.754 0.832\n",
      "0.8 0.9 3304 0.857 0.93\n",
      "0.9 1.0 41235 0.984 0.995\n",
      "[ True  True  True ...  True  True False]\n",
      "[0.99897456 0.99937683 0.9940339  ... 0.96963173 0.99987364 0.6274244 ]\n"
     ]
    }
   ],
   "source": [
    "for i in range(len(Borders)-1):\n",
    "    Blower = Borders[i]\n",
    "    Bupper = Borders[i+1]\n",
    "    Logical_in_bin = (Blower<Maxima)*(Bupper>Maxima) # wich instances are in the ith bin?\n",
    "    \n",
    "    x_Bin_i = x_val[Logical_in_bin,:]\n",
    "    y_Bin_i = y_val[Logical_in_bin]\n",
    "    y_Bin_i = np.argmax(y_Bin_i, axis = -1)\n",
    "    Confidence_Bin_i = Maxima[Logical_in_bin]\n",
    "    y_hat_Bin_i = y_val_hat[Logical_in_bin]\n",
    "    \n",
    "    \n",
    "    print(round(Blower,1), round(Bupper,1),sum(Logical_in_bin), \n",
    "          round(np.mean(Confidence_Bin_i),3),  # what is the mean confidence of the bin?\n",
    "          round(np.mean(y_hat_Bin_i == y_Bin_i),3)) # what is the accuracy of the bin?\n",
    "    \n",
    "print(Logical_in_bin)\n",
    "print(Maxima)"
   ]
  },
  {
   "cell_type": "markdown",
   "id": "407274cd",
   "metadata": {},
   "source": [
    "Interestingly, this is actually underconfident!"
   ]
  },
  {
   "cell_type": "code",
   "execution_count": 12,
   "id": "b2af7e84",
   "metadata": {},
   "outputs": [],
   "source": [
    "def ECE_df(Model, X, Y_binary):\n",
    "    # Takes keras Model, validation data X/Y and returns the confidence vs accuracy\n",
    "    \n",
    "    Y = np.argmax(Y_binary, axis = -1) # transform the encoded y-label into actual class labels\n",
    "    Borders = np.arange(0.1,1.01,0.1) # interval borders of the bins\n",
    "    Pred = Model.predict(X)  # softmax prediction/confidence\n",
    "    Y_hat = Model.predict_classes(X) # class label prediction\n",
    "    Max = Pred.max(axis=-1) # how large is softmax confidence for the predicted label\n",
    "   \n",
    "    Output = pd.DataFrame({})\n",
    "    \n",
    "    # loop over the bins\n",
    "    for i in range(len(Borders)-1):\n",
    "        B_lower = Borders[i]\n",
    "        B_upper = Borders[i+1]\n",
    "        Logical_in_Bin = (B_lower<Max)*(B_upper>Max) # wich instances are in the ith bin?\n",
    "        \n",
    "        if(sum(Logical_in_Bin)>10): # else: not enough instances to make any real inference\n",
    "            X_Bin_i = X[Logical_in_Bin,:]\n",
    "            Y_Bin_i = Y[Logical_in_Bin]\n",
    "            confidence_Bin_i = Max[Logical_in_Bin] # confidence of the predicions in ith Bin\n",
    "            Y_hat_Bin_i = Y_hat[Logical_in_Bin]\n",
    "         \n",
    "            Output = Output.append({'B_lower': B_lower,\n",
    "                                    'B_upper': B_upper,\n",
    "                                   'Number of Instances': sum(Logical_in_Bin),\n",
    "                                   'Confidence': np.mean(confidence_Bin_i),\n",
    "                                   'Accuracy': np.mean(Y_hat_Bin_i == Y_Bin_i)},\n",
    "                                  ignore_index=True)\n",
    "    \n",
    "    \n",
    "    return(Output)\n",
    "                                   \n",
    "                                   \n",
    "            \n",
    "            \n",
    "        "
   ]
  },
  {
   "cell_type": "code",
   "execution_count": 13,
   "id": "01b32c74",
   "metadata": {},
   "outputs": [],
   "source": [
    "ECE_DF = ECE_df(model, x_val, y_val)"
   ]
  },
  {
   "cell_type": "code",
   "execution_count": 14,
   "id": "9f83d858",
   "metadata": {},
   "outputs": [
    {
     "name": "stdout",
     "output_type": "stream",
     "text": [
      "   B_lower  B_upper  Number of Instances  Confidence  Accuracy\n",
      "0      0.2      0.3                 42.0    0.274337  0.285714\n",
      "1      0.3      0.4                277.0    0.362163  0.418773\n",
      "2      0.4      0.5                723.0    0.457361  0.482711\n",
      "3      0.5      0.6               1260.0    0.551323  0.600794\n",
      "4      0.6      0.7               1296.0    0.650036  0.730710\n",
      "5      0.7      0.8               1863.0    0.754229  0.831991\n",
      "6      0.8      0.9               3304.0    0.857421  0.930085\n",
      "7      0.9      1.0              41235.0    0.984362  0.995004\n"
     ]
    },
    {
     "name": "stderr",
     "output_type": "stream",
     "text": [
      "/usr/lib/python3/dist-packages/matplotlib/cbook/__init__.py:1377: FutureWarning: Support for multi-dimensional indexing (e.g. `obj[:, None]`) is deprecated and will be removed in a future version.  Convert to a numpy array before indexing instead.\n",
      "  x[:, None]\n",
      "/usr/lib/python3/dist-packages/matplotlib/axes/_base.py:237: FutureWarning: Support for multi-dimensional indexing (e.g. `obj[:, None]`) is deprecated and will be removed in a future version.  Convert to a numpy array before indexing instead.\n",
      "  x = x[:, np.newaxis]\n",
      "/usr/lib/python3/dist-packages/matplotlib/axes/_base.py:239: FutureWarning: Support for multi-dimensional indexing (e.g. `obj[:, None]`) is deprecated and will be removed in a future version.  Convert to a numpy array before indexing instead.\n",
      "  y = y[:, np.newaxis]\n"
     ]
    },
    {
     "data": {
      "image/png": "[encoded data removed]",
      "text/plain": [
       "<Figure size 432x288 with 1 Axes>"
      ]
     },
     "metadata": {
      "needs_background": "light"
     },
     "output_type": "display_data"
    }
   ],
   "source": [
    "print(ECE_DF)\n",
    "plt.scatter(ECE_DF[\"Confidence\"], ECE_DF[\"Accuracy\"],\n",
    "           label=\"Accuracy\")\n",
    "plt.plot(ECE_DF[\"Confidence\"], ECE_DF[\"Confidence\"],\n",
    "        label= \"Identity Function\")\n",
    "plt.plot(ECE_DF[\"Confidence\"], \n",
    "         ECE_DF[\"Number of Instances\"]/sum(ECE_DF[\"Number of Instances\"]),\n",
    "        label =\"Share of total Data\")\n",
    "plt.xlabel(\"Confidence\")\n",
    "plt.ylabel(\"Accuracy / Share of total Instances\")\n",
    "plt.legend()\n",
    "plt.show()"
   ]
  },
  {
   "cell_type": "markdown",
   "id": "75911229",
   "metadata": {},
   "source": [
    "#### Now the temperature function\n",
    "\n",
    "Because in this interesing case, the model is under- and not overconfident, we expect negative temperature."
   ]
  },
  {
   "cell_type": "code",
   "execution_count": 15,
   "id": "b8ec243d",
   "metadata": {},
   "outputs": [],
   "source": [
    "def ScaledConfidence(Temp, Model, X):\n",
    "    # takes Keras Model + Data X and Temperature Temp to return scaled softmax predictions\n",
    "    Pred = Model.predict(X) # softmax-predictions of the model\n",
    "    \n",
    "    LogPred = np.log(Pred) # retrieve the argument of softmax up to an arbitrary constant (here: zero)\n",
    "    Output = np.exp(LogPred /Temp)\n",
    "    \n",
    "    # now the Temperature-Scaled Predictions have to be normalised\n",
    "    #print(Output.shape,Output.sum(axis=-1))\n",
    "    Out =  (Output.sum(axis=-1)**(-1.)).reshape(-1,1) * Output\n",
    "    \n",
    "    # Sanity check\n",
    "    #print(\"Rescaled+Normalised\",Out.shape,Out.sum(axis=-1)) # should be 1\n",
    "\n",
    "    return(Out)"
   ]
  },
  {
   "cell_type": "markdown",
   "id": "ce98fd11",
   "metadata": {},
   "source": [
    "Some test runs show that, as it should, the class prediction stays the same, but the confidence in the model's predictions changes for different temperature values."
   ]
  },
  {
   "cell_type": "code",
   "execution_count": 16,
   "id": "f1ee3edf",
   "metadata": {},
   "outputs": [
    {
     "name": "stdout",
     "output_type": "stream",
     "text": [
      "[0.9989745  0.9993767  0.994034   ... 0.96963173 0.9998737  0.6274244 ]\n",
      "[7 3 8 ... 2 0 2]\n"
     ]
    }
   ],
   "source": [
    "SC1 = ScaledConfidence(1, model, x_val)\n",
    "print(SC1.max(axis=-1))\n",
    "print(SC1.argmax(axis=-1))"
   ]
  },
  {
   "cell_type": "code",
   "execution_count": 17,
   "id": "b006b95e",
   "metadata": {},
   "outputs": [
    {
     "name": "stdout",
     "output_type": "stream",
     "text": [
      "[0.26077792 0.31153983 0.19689338 ... 0.19208655 0.31334004 0.19884017]\n",
      "[7 3 8 ... 2 0 2]\n"
     ]
    }
   ],
   "source": [
    "SC1 = ScaledConfidence(10,model, x_val)\n",
    "print(SC1.max(axis=-1))\n",
    "print(SC1.argmax(axis=-1))"
   ]
  },
  {
   "cell_type": "code",
   "execution_count": 18,
   "id": "e8fe581d",
   "metadata": {},
   "outputs": [
    {
     "name": "stdout",
     "output_type": "stream",
     "text": [
      "[1.         0.99999994 1.         ... 1.         0.99999994 0.9974549 ]\n",
      "[7 3 8 ... 2 0 2]\n"
     ]
    }
   ],
   "source": [
    "SC1 = ScaledConfidence(0.1,model, x_val)\n",
    "print(SC1.max(axis=-1))\n",
    "print(SC1.argmax(axis=-1))"
   ]
  },
  {
   "cell_type": "code",
   "execution_count": 19,
   "id": "726c0cdd",
   "metadata": {},
   "outputs": [
    {
     "name": "stdout",
     "output_type": "stream",
     "text": [
      "[0.99897456 0.99937683 0.9940339  ... 0.96963173 0.99987364 0.6274244 ]\n",
      "[7 3 8 ... 2 0 2]\n"
     ]
    }
   ],
   "source": [
    "print(model.predict(x_val).max(axis=-1))\n",
    "print(model.predict(x_val).argmax(axis=-1))"
   ]
  },
  {
   "cell_type": "code",
   "execution_count": null,
   "id": "f4597389",
   "metadata": {},
   "outputs": [],
   "source": []
  },
  {
   "cell_type": "markdown",
   "id": "55a3b9ed",
   "metadata": {},
   "source": [
    "#### Optimise the Temperature\n",
    "We're almost done! We now need a score to judge how good the temperature T is."
   ]
  },
  {
   "cell_type": "code",
   "execution_count": 20,
   "id": "8215dbbd",
   "metadata": {},
   "outputs": [],
   "source": [
    "def ECE(N_per_Bin, Accuracy, Confidence):\n",
    "    # takes the number of instances per bin, the accuracy per bin and the confidence per bin\n",
    "    # returns the ECE (equation 3)\n",
    "    n = sum(N_per_Bin)\n",
    "    Discrepancy = abs(Accuracy-Confidence)\n",
    "    ECE_ithBin = N_per_Bin * Discrepancy / n\n",
    "    return(sum(ECE_ithBin))"
   ]
  },
  {
   "cell_type": "code",
   "execution_count": 21,
   "id": "d57b12c5",
   "metadata": {},
   "outputs": [],
   "source": [
    "def ECE_After_Scaling(Temp, X, Y_binary, Model, BinBorders):\n",
    "    \n",
    "    ScaledSoftmax = ScaledConfidence(Temp, Model, X)\n",
    "    ScaledClassPred = ScaledSoftmax.argmax(axis=-1) # class predictions\n",
    "    ScaledSMMaximum = ScaledSoftmax.max(axis=-1)\n",
    "    Y = np.argmax(Y_binary, axis = -1) # transform the binary matrix into real class labels in 1d\n",
    "    Number_per_Bin = list()\n",
    "    Confidence = list()\n",
    "    Accuracy = list()\n",
    "    \n",
    "    for i in range(len(BinBorders)-1):\n",
    "        B_lower = BinBorders[i]\n",
    "        B_upper = BinBorders[i+1]\n",
    "        Logical_in_Bin = (B_lower<ScaledSMMaximum)*(B_upper>ScaledSMMaximum) # wich instances are in the ith bin?\n",
    "        \n",
    "        if(sum(Logical_in_Bin)>10): # else: not enough instances to make any real inference\n",
    "            X_Bin_i = X[Logical_in_Bin,:]\n",
    "            Y_Bin_i = Y[Logical_in_Bin]\n",
    "            \n",
    "            \n",
    "            confidence_Bin_i = ScaledSMMaximum[Logical_in_Bin] # confidence of the predicions in ith Bin\n",
    "            Y_hat_Bin_i = ScaledClassPred[Logical_in_Bin]\n",
    "           \n",
    "            \n",
    "            Number_per_Bin.append(sum(Logical_in_Bin))\n",
    "            Confidence.append(np.mean(confidence_Bin_i))\n",
    "            Accuracy.append(np.mean(Y_hat_Bin_i == Y_Bin_i))\n",
    "    \n",
    "\n",
    "    return(ECE(np.array(Number_per_Bin),\n",
    "               np.array(Accuracy), \n",
    "               np.array(Confidence)))"
   ]
  },
  {
   "cell_type": "code",
   "execution_count": 22,
   "id": "6e7862fe",
   "metadata": {},
   "outputs": [
    {
     "data": {
      "text/plain": [
       "0.02050316477179525"
      ]
     },
     "execution_count": 22,
     "metadata": {},
     "output_type": "execute_result"
    }
   ],
   "source": [
    "ECE_After_Scaling(1., x_val, y_val, model, np.arange(0.1,1.01,0.1))"
   ]
  },
  {
   "cell_type": "code",
   "execution_count": 23,
   "id": "6ce0d586",
   "metadata": {},
   "outputs": [
    {
     "data": {
      "text/plain": [
       "0.7328708796310425"
      ]
     },
     "execution_count": 23,
     "metadata": {},
     "output_type": "execute_result"
    }
   ],
   "source": [
    "ECE_After_Scaling(10., x_val, y_val, model, np.arange(0.1,1.01,0.1))"
   ]
  },
  {
   "cell_type": "code",
   "execution_count": 24,
   "id": "c10d17a6",
   "metadata": {},
   "outputs": [
    {
     "data": {
      "text/plain": [
       "0.020988448743592153"
      ]
     },
     "execution_count": 24,
     "metadata": {},
     "output_type": "execute_result"
    }
   ],
   "source": [
    "ECE_After_Scaling(0.5, x_val, y_val, model, np.arange(0.1,1.01,0.1))"
   ]
  },
  {
   "cell_type": "code",
   "execution_count": null,
   "id": "c700b9cc",
   "metadata": {},
   "outputs": [],
   "source": []
  },
  {
   "cell_type": "code",
   "execution_count": 25,
   "id": "9e7ecd2a",
   "metadata": {},
   "outputs": [
    {
     "name": "stdout",
     "output_type": "stream",
     "text": [
      "Optimization terminated successfully.\n",
      "         Current function value: 0.001477\n",
      "         Iterations: 13\n",
      "         Function evaluations: 29\n"
     ]
    }
   ],
   "source": [
    "T_Optimal = fmin(func = ECE_After_Scaling,\n",
    "                 x0 = 1., \n",
    "                 args=(x_val, y_val, model, np.arange(0.1,1.01,0.1)))"
   ]
  },
  {
   "cell_type": "code",
   "execution_count": 26,
   "id": "51b28bcd",
   "metadata": {},
   "outputs": [
    {
     "data": {
      "text/plain": [
       "array([0.77197266])"
      ]
     },
     "execution_count": 26,
     "metadata": {},
     "output_type": "execute_result"
    }
   ],
   "source": [
    "T_Optimal"
   ]
  },
  {
   "cell_type": "markdown",
   "id": "19793ffa",
   "metadata": {},
   "source": [
    "As expected for this unusual case of an underconfident Neural Net, the optimal temperature is below 1."
   ]
  }
 ],
 "metadata": {
  "kernelspec": {
   "display_name": "Python 3 (ipykernel)",
   "language": "python",
   "name": "python3"
  },
  "language_info": {
   "codemirror_mode": {
    "name": "ipython",
    "version": 3
   },
   "file_extension": ".py",
   "mimetype": "text/x-python",
   "name": "python",
   "nbconvert_exporter": "python",
   "pygments_lexer": "ipython3",
   "version": "3.7.3"
  }
 },
 "nbformat": 4,
 "nbformat_minor": 5
}
